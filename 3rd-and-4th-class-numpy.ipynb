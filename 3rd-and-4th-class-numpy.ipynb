{
 "cells": [
  {
   "cell_type": "code",
   "execution_count": 1,
   "id": "4bb4b8c2",
   "metadata": {},
   "outputs": [
    {
     "data": {
      "text/plain": [
       "'3.13.5 (tags/v3.13.5:6cb20a2, Jun 11 2025, 16:15:46) [MSC v.1943 64 bit (AMD64)]'"
      ]
     },
     "execution_count": 1,
     "metadata": {},
     "output_type": "execute_result"
    }
   ],
   "source": [
    "import sys\n",
    "sys.version"
   ]
  },
  {
   "cell_type": "code",
   "execution_count": 2,
   "id": "ecadf318",
   "metadata": {},
   "outputs": [
    {
     "data": {
      "text/plain": [
       "'2.3.1'"
      ]
     },
     "execution_count": 2,
     "metadata": {},
     "output_type": "execute_result"
    }
   ],
   "source": [
    "import numpy as np\n",
    "np.__version__"
   ]
  },
  {
   "cell_type": "code",
   "execution_count": 3,
   "id": "e4f3f884",
   "metadata": {},
   "outputs": [
    {
     "data": {
      "text/plain": [
       "[1, 2, 3, 4, 5]"
      ]
     },
     "execution_count": 3,
     "metadata": {},
     "output_type": "execute_result"
    }
   ],
   "source": [
    "my_list = [1,2,3,4,5]\n",
    "my_list"
   ]
  },
  {
   "cell_type": "code",
   "execution_count": 4,
   "id": "16ed7fd7",
   "metadata": {},
   "outputs": [
    {
     "data": {
      "text/plain": [
       "list"
      ]
     },
     "execution_count": 4,
     "metadata": {},
     "output_type": "execute_result"
    }
   ],
   "source": [
    "type(my_list)"
   ]
  },
  {
   "cell_type": "code",
   "execution_count": 6,
   "id": "65a6c30f",
   "metadata": {},
   "outputs": [
    {
     "data": {
      "text/plain": [
       "array([1, 2, 3, 4, 5])"
      ]
     },
     "execution_count": 6,
     "metadata": {},
     "output_type": "execute_result"
    }
   ],
   "source": [
    "m = np.array(my_list)\n",
    "m"
   ]
  },
  {
   "cell_type": "code",
   "execution_count": 7,
   "id": "01c217cb",
   "metadata": {},
   "outputs": [
    {
     "name": "stdout",
     "output_type": "stream",
     "text": [
      "<class 'numpy.ndarray'>\n"
     ]
    }
   ],
   "source": [
    "print(type(m))"
   ]
  },
  {
   "cell_type": "code",
   "execution_count": 9,
   "id": "0ba271af",
   "metadata": {},
   "outputs": [
    {
     "name": "stdout",
     "output_type": "stream",
     "text": [
      "<class 'numpy.ndarray'>\n",
      "<class 'list'>\n"
     ]
    }
   ],
   "source": [
    "print(type(m))\n",
    "print(type(my_list))"
   ]
  },
  {
   "cell_type": "code",
   "execution_count": 10,
   "id": "ae6ba67f",
   "metadata": {},
   "outputs": [
    {
     "data": {
      "text/plain": [
       "array([0, 1, 2, 3, 4, 5, 6, 7, 8, 9])"
      ]
     },
     "execution_count": 10,
     "metadata": {},
     "output_type": "execute_result"
    }
   ],
   "source": [
    "np.arange(10)"
   ]
  },
  {
   "cell_type": "code",
   "execution_count": 11,
   "id": "a568f366",
   "metadata": {},
   "outputs": [
    {
     "data": {
      "text/plain": [
       "array([10, 11, 12, 13, 14, 15, 16, 17, 18, 19])"
      ]
     },
     "execution_count": 11,
     "metadata": {},
     "output_type": "execute_result"
    }
   ],
   "source": [
    "np.arange(10,20)"
   ]
  },
  {
   "cell_type": "code",
   "execution_count": 12,
   "id": "9650312e",
   "metadata": {},
   "outputs": [
    {
     "data": {
      "text/plain": [
       "array([10, 12, 14, 16, 18])"
      ]
     },
     "execution_count": 12,
     "metadata": {},
     "output_type": "execute_result"
    }
   ],
   "source": [
    "np.arange(10,20,2)"
   ]
  },
  {
   "cell_type": "code",
   "execution_count": 13,
   "id": "d484994e",
   "metadata": {},
   "outputs": [
    {
     "ename": "TypeError",
     "evalue": "Cannot interpret '2' as a data type",
     "output_type": "error",
     "traceback": [
      "\u001b[31m---------------------------------------------------------------------------\u001b[39m",
      "\u001b[31mTypeError\u001b[39m                                 Traceback (most recent call last)",
      "\u001b[36mCell\u001b[39m\u001b[36m \u001b[39m\u001b[32mIn[13]\u001b[39m\u001b[32m, line 1\u001b[39m\n\u001b[32m----> \u001b[39m\u001b[32m1\u001b[39m \u001b[43mnp\u001b[49m\u001b[43m.\u001b[49m\u001b[43marange\u001b[49m\u001b[43m(\u001b[49m\u001b[32;43m10\u001b[39;49m\u001b[43m,\u001b[49m\u001b[32;43m50\u001b[39;49m\u001b[43m,\u001b[49m\u001b[32;43m5\u001b[39;49m\u001b[43m,\u001b[49m\u001b[32;43m2\u001b[39;49m\u001b[43m)\u001b[49m\n",
      "\u001b[31mTypeError\u001b[39m: Cannot interpret '2' as a data type"
     ]
    }
   ],
   "source": [
    "np.arange(10,50,5,2)"
   ]
  },
  {
   "cell_type": "code",
   "execution_count": 14,
   "id": "4cbbc203",
   "metadata": {},
   "outputs": [
    {
     "data": {
      "text/plain": [
       "array([-20, -19, -18, -17, -16, -15, -14, -13, -12, -11, -10,  -9,  -8,\n",
       "        -7,  -6,  -5,  -4,  -3,  -2,  -1,   0,   1,   2,   3,   4,   5,\n",
       "         6,   7])"
      ]
     },
     "execution_count": 14,
     "metadata": {},
     "output_type": "execute_result"
    }
   ],
   "source": [
    "np.arange(-20,8)"
   ]
  },
  {
   "cell_type": "code",
   "execution_count": null,
   "id": "2ee57233",
   "metadata": {},
   "outputs": [
    {
     "data": {
      "text/plain": [
       "array([], dtype=int64)"
      ]
     },
     "execution_count": 16,
     "metadata": {},
     "output_type": "execute_result"
    }
   ],
   "source": [
    "np.arange(10,2) # This will not work as the start is greater than the stop"
   ]
  },
  {
   "cell_type": "code",
   "execution_count": 18,
   "id": "6747e02c",
   "metadata": {},
   "outputs": [
    {
     "data": {
      "text/plain": [
       "array([10, 11, 12, 13, 14, 15, 16, 17, 18, 19, 20, 21, 22, 23, 24, 25, 26,\n",
       "       27, 28, 29])"
      ]
     },
     "execution_count": 18,
     "metadata": {},
     "output_type": "execute_result"
    }
   ],
   "source": [
    "n = np.arange(10,30)\n",
    "n"
   ]
  },
  {
   "cell_type": "code",
   "execution_count": null,
   "id": "1294f49e",
   "metadata": {},
   "outputs": [
    {
     "data": {
      "text/plain": [
       "array([0., 0., 0., 0., 0., 0., 0., 0., 0., 0.])"
      ]
     },
     "execution_count": 19,
     "metadata": {},
     "output_type": "execute_result"
    }
   ],
   "source": [
    "np.zeros(10)                # This creates an array of 10 zeros with float data type by default"
   ]
  },
  {
   "cell_type": "code",
   "execution_count": null,
   "id": "e7d191fb",
   "metadata": {},
   "outputs": [
    {
     "data": {
      "text/plain": [
       "array([0, 0, 0, 0, 0, 0, 0, 0, 0, 0])"
      ]
     },
     "execution_count": 22,
     "metadata": {},
     "output_type": "execute_result"
    }
   ],
   "source": [
    "z = np.zeros(10, dtype=int)\n",
    "z                               # Specifying the data type as integer"
   ]
  },
  {
   "cell_type": "code",
   "execution_count": 28,
   "id": "962234f1",
   "metadata": {},
   "outputs": [
    {
     "data": {
      "text/plain": [
       "array([[0, 0]])"
      ]
     },
     "execution_count": 28,
     "metadata": {},
     "output_type": "execute_result"
    }
   ],
   "source": [
    "np.zeros((1,2),dtype=int)  # Creates a 2D array with shape (1,2) filled with zeros"
   ]
  },
  {
   "cell_type": "code",
   "execution_count": null,
   "id": "f48d08bd",
   "metadata": {},
   "outputs": [
    {
     "data": {
      "text/plain": [
       "array([[0., 0., 0.],\n",
       "       [0., 0., 0.]])"
      ]
     },
     "execution_count": 30,
     "metadata": {},
     "output_type": "execute_result"
    }
   ],
   "source": [
    "np.zeros((2,3))  # Creates a 2D array with shape (2,3) filled with zeros with float vlaues"
   ]
  },
  {
   "cell_type": "code",
   "execution_count": 32,
   "id": "0193591e",
   "metadata": {},
   "outputs": [
    {
     "data": {
      "text/plain": [
       "array([[0, 0, 0, 0],\n",
       "       [0, 0, 0, 0]])"
      ]
     },
     "execution_count": 32,
     "metadata": {},
     "output_type": "execute_result"
    }
   ],
   "source": [
    "z1 = np.zeros((2,4), dtype=int)  # Creates a 2D array with shape (2,4) filled with zeros with integer values\n",
    "\n",
    "z1"
   ]
  },
  {
   "cell_type": "code",
   "execution_count": 35,
   "id": "06ac6389",
   "metadata": {},
   "outputs": [
    {
     "data": {
      "text/plain": [
       "array([[0, 0, 0, 0, 0, 0],\n",
       "       [0, 0, 0, 0, 0, 0],\n",
       "       [0, 0, 0, 0, 0, 0],\n",
       "       [0, 0, 0, 0, 0, 0],\n",
       "       [0, 0, 0, 0, 0, 0]])"
      ]
     },
     "execution_count": 35,
     "metadata": {},
     "output_type": "execute_result"
    }
   ],
   "source": [
    "z2 = np.zeros((5,6), dtype=int)  # Creates a 2D array with shape (2,4) filled with zeros with float values\n",
    "z2"
   ]
  },
  {
   "cell_type": "code",
   "execution_count": null,
   "id": "f96743c4",
   "metadata": {},
   "outputs": [
    {
     "data": {
      "text/plain": [
       "array([1., 1., 1., 1., 1., 1., 1., 1., 1., 1., 1., 1., 1., 1., 1., 1., 1.,\n",
       "       1., 1., 1.])"
      ]
     },
     "execution_count": 39,
     "metadata": {},
     "output_type": "execute_result"
    }
   ],
   "source": [
    "np.ones(20) # Creates an array of 20 ones with float data type by default"
   ]
  },
  {
   "cell_type": "code",
   "execution_count": 38,
   "id": "b078ba94",
   "metadata": {},
   "outputs": [
    {
     "data": {
      "text/plain": [
       "array([[1, 1, 1, 1],\n",
       "       [1, 1, 1, 1]])"
      ]
     },
     "execution_count": 38,
     "metadata": {},
     "output_type": "execute_result"
    }
   ],
   "source": [
    "o1 = np.ones((2,4), dtype= int)  # Creates a 2D array with shape (2,3) filled with ones with integer values\n",
    "o1"
   ]
  },
  {
   "cell_type": "code",
   "execution_count": null,
   "id": "7c910ba3",
   "metadata": {},
   "outputs": [
    {
     "data": {
      "text/plain": [
       "array([[1, 1, 1, 1, 1, 1, 1, 1, 1, 1],\n",
       "       [1, 1, 1, 1, 1, 1, 1, 1, 1, 1],\n",
       "       [1, 1, 1, 1, 1, 1, 1, 1, 1, 1],\n",
       "       [1, 1, 1, 1, 1, 1, 1, 1, 1, 1],\n",
       "       [1, 1, 1, 1, 1, 1, 1, 1, 1, 1],\n",
       "       [1, 1, 1, 1, 1, 1, 1, 1, 1, 1],\n",
       "       [1, 1, 1, 1, 1, 1, 1, 1, 1, 1],\n",
       "       [1, 1, 1, 1, 1, 1, 1, 1, 1, 1],\n",
       "       [1, 1, 1, 1, 1, 1, 1, 1, 1, 1],\n",
       "       [1, 1, 1, 1, 1, 1, 1, 1, 1, 1],\n",
       "       [1, 1, 1, 1, 1, 1, 1, 1, 1, 1],\n",
       "       [1, 1, 1, 1, 1, 1, 1, 1, 1, 1],\n",
       "       [1, 1, 1, 1, 1, 1, 1, 1, 1, 1],\n",
       "       [1, 1, 1, 1, 1, 1, 1, 1, 1, 1],\n",
       "       [1, 1, 1, 1, 1, 1, 1, 1, 1, 1],\n",
       "       [1, 1, 1, 1, 1, 1, 1, 1, 1, 1],\n",
       "       [1, 1, 1, 1, 1, 1, 1, 1, 1, 1],\n",
       "       [1, 1, 1, 1, 1, 1, 1, 1, 1, 1],\n",
       "       [1, 1, 1, 1, 1, 1, 1, 1, 1, 1],\n",
       "       [1, 1, 1, 1, 1, 1, 1, 1, 1, 1]])"
      ]
     },
     "execution_count": 40,
     "metadata": {},
     "output_type": "execute_result"
    }
   ],
   "source": [
    "o2 = np.ones((20,10), dtype= int)  # Creates a 2D array with shape (2,3) filled with ones with integer values"
   ]
  },
  {
   "cell_type": "code",
   "execution_count": 42,
   "id": "5698ba49",
   "metadata": {},
   "outputs": [
    {
     "name": "stdout",
     "output_type": "stream",
     "text": [
      "[[0 0]\n",
      " [0 0]]\n",
      "<class 'numpy.ndarray'>\n"
     ]
    }
   ],
   "source": [
    "zero = np.zeros([2,2], dtype=int)  # Creates a 2D array with shape (2,2) filled with zeros with integer values\n",
    "print(zero)\n",
    "print(type(zero))"
   ]
  },
  {
   "cell_type": "code",
   "execution_count": null,
   "id": "72455a3b",
   "metadata": {},
   "outputs": [
    {
     "data": {
      "text/plain": [
       "array([[1., 1., 1., 1., 1., 1.],\n",
       "       [1., 1., 1., 1., 1., 1.],\n",
       "       [1., 1., 1., 1., 1., 1.],\n",
       "       [1., 1., 1., 1., 1., 1.]])"
      ]
     },
     "execution_count": 45,
     "metadata": {},
     "output_type": "execute_result"
    }
   ],
   "source": [
    "n = (4,6)\n",
    "o3 = np.ones(n)  # parameter tuning\n",
    "o3"
   ]
  },
  {
   "cell_type": "code",
   "execution_count": 47,
   "id": "633a6815",
   "metadata": {},
   "outputs": [
    {
     "name": "stdout",
     "output_type": "stream",
     "text": [
      "[[1 1 1 1 1 1]\n",
      " [1 1 1 1 1 1]\n",
      " [1 1 1 1 1 1]\n",
      " [1 1 1 1 1 1]]\n"
     ]
    }
   ],
   "source": [
    "o3 = np.ones(n, dtype=int)  # parameter tuning with integer data type is called hyper parameter tuning\n",
    "print(o3)"
   ]
  },
  {
   "cell_type": "code",
   "execution_count": null,
   "id": "2de8091e",
   "metadata": {},
   "outputs": [
    {
     "ename": "AttributeError",
     "evalue": "module 'numpy' has no attribute 'twos'",
     "output_type": "error",
     "traceback": [
      "\u001b[31m---------------------------------------------------------------------------\u001b[39m",
      "\u001b[31mAttributeError\u001b[39m                            Traceback (most recent call last)",
      "\u001b[36mCell\u001b[39m\u001b[36m \u001b[39m\u001b[32mIn[48]\u001b[39m\u001b[32m, line 1\u001b[39m\n\u001b[32m----> \u001b[39m\u001b[32m1\u001b[39m \u001b[43mnp\u001b[49m\u001b[43m.\u001b[49m\u001b[43mtwos\u001b[49m(\u001b[32m10\u001b[39m)\n",
      "\u001b[36mFile \u001b[39m\u001b[32mc:\\Users\\User\\AppData\\Local\\Programs\\Python\\Python313\\Lib\\site-packages\\numpy\\__init__.py:808\u001b[39m, in \u001b[36m__getattr__\u001b[39m\u001b[34m(attr)\u001b[39m\n\u001b[32m    805\u001b[39m     \u001b[38;5;28;01mimport\u001b[39;00m\u001b[38;5;250m \u001b[39m\u001b[34;01mnumpy\u001b[39;00m\u001b[34;01m.\u001b[39;00m\u001b[34;01mchar\u001b[39;00m\u001b[38;5;250m \u001b[39m\u001b[38;5;28;01mas\u001b[39;00m\u001b[38;5;250m \u001b[39m\u001b[34;01mchar\u001b[39;00m\n\u001b[32m    806\u001b[39m     \u001b[38;5;28;01mreturn\u001b[39;00m char.chararray\n\u001b[32m--> \u001b[39m\u001b[32m808\u001b[39m \u001b[38;5;28;01mraise\u001b[39;00m \u001b[38;5;167;01mAttributeError\u001b[39;00m(\u001b[33mf\u001b[39m\u001b[33m\"\u001b[39m\u001b[33mmodule \u001b[39m\u001b[38;5;132;01m{\u001b[39;00m\u001b[34m__name__\u001b[39m\u001b[38;5;132;01m!r}\u001b[39;00m\u001b[33m has no attribute \u001b[39m\u001b[38;5;132;01m{\u001b[39;00mattr\u001b[38;5;132;01m!r}\u001b[39;00m\u001b[33m\"\u001b[39m)\n",
      "\u001b[31mAttributeError\u001b[39m: module 'numpy' has no attribute 'twos'"
     ]
    }
   ],
   "source": [
    "np.twos(10) # This will not work as there is no function called twos in numpy, it should be np.ones or np.zeros"
   ]
  },
  {
   "cell_type": "code",
   "execution_count": 52,
   "id": "5cfa9b7c",
   "metadata": {},
   "outputs": [
    {
     "data": {
      "text/plain": [
       "(5, 6)"
      ]
     },
     "execution_count": 52,
     "metadata": {},
     "output_type": "execute_result"
    }
   ],
   "source": [
    "z2.shape  # Returns the shape of the array"
   ]
  },
  {
   "cell_type": "markdown",
   "id": "8872d6ab",
   "metadata": {},
   "source": []
  },
  {
   "cell_type": "code",
   "execution_count": 53,
   "id": "6e66636a",
   "metadata": {},
   "outputs": [
    {
     "data": {
      "text/plain": [
       "array([[0, 0, 0, 0, 0, 0],\n",
       "       [0, 0, 0, 0, 0, 0],\n",
       "       [0, 0, 0, 0, 0, 0],\n",
       "       [0, 0, 0, 0, 0, 0],\n",
       "       [0, 0, 0, 0, 0, 0]])"
      ]
     },
     "execution_count": 53,
     "metadata": {},
     "output_type": "execute_result"
    }
   ],
   "source": [
    "z2"
   ]
  },
  {
   "cell_type": "code",
   "execution_count": 54,
   "id": "fde90ef1",
   "metadata": {},
   "outputs": [
    {
     "ename": "NameError",
     "evalue": "name 'rand' is not defined",
     "output_type": "error",
     "traceback": [
      "\u001b[31m---------------------------------------------------------------------------\u001b[39m",
      "\u001b[31mNameError\u001b[39m                                 Traceback (most recent call last)",
      "\u001b[36mCell\u001b[39m\u001b[36m \u001b[39m\u001b[32mIn[54]\u001b[39m\u001b[32m, line 1\u001b[39m\n\u001b[32m----> \u001b[39m\u001b[32m1\u001b[39m \u001b[43mrand\u001b[49m(\u001b[32m10\u001b[39m)\n",
      "\u001b[31mNameError\u001b[39m: name 'rand' is not defined"
     ]
    }
   ],
   "source": [
    "rand(10)"
   ]
  },
  {
   "cell_type": "code",
   "execution_count": 55,
   "id": "35bc9013",
   "metadata": {},
   "outputs": [
    {
     "ename": "NameError",
     "evalue": "name 'random' is not defined",
     "output_type": "error",
     "traceback": [
      "\u001b[31m---------------------------------------------------------------------------\u001b[39m",
      "\u001b[31mNameError\u001b[39m                                 Traceback (most recent call last)",
      "\u001b[36mCell\u001b[39m\u001b[36m \u001b[39m\u001b[32mIn[55]\u001b[39m\u001b[32m, line 1\u001b[39m\n\u001b[32m----> \u001b[39m\u001b[32m1\u001b[39m \u001b[43mrandom\u001b[49m.rand(\u001b[32m10\u001b[39m)\n",
      "\u001b[31mNameError\u001b[39m: name 'random' is not defined"
     ]
    }
   ],
   "source": [
    "random.rand(10)"
   ]
  },
  {
   "cell_type": "code",
   "execution_count": 57,
   "id": "76d0ec68",
   "metadata": {},
   "outputs": [
    {
     "data": {
      "text/plain": [
       "array([0.03627611, 0.68917876, 0.23388997, 0.9650721 , 0.19676718,\n",
       "       0.17341488, 0.71177761, 0.42319314, 0.09584474, 0.36999215])"
      ]
     },
     "execution_count": 57,
     "metadata": {},
     "output_type": "execute_result"
    }
   ],
   "source": [
    "np.random.rand(10) # Generates an array of 10 random numbers from a uniform distribution over [0.0, 1.0)"
   ]
  },
  {
   "cell_type": "code",
   "execution_count": 63,
   "id": "264763f9",
   "metadata": {},
   "outputs": [
    {
     "data": {
      "text/plain": [
       "3"
      ]
     },
     "execution_count": 63,
     "metadata": {},
     "output_type": "execute_result"
    }
   ],
   "source": [
    "np.random.randint(10)  # Generates a random integer from 0 to 10 (exclusive)"
   ]
  },
  {
   "cell_type": "code",
   "execution_count": null,
   "id": "334a9819",
   "metadata": {},
   "outputs": [
    {
     "data": {
      "text/plain": [
       "array([0.48595551, 0.84979182, 0.50849702, 0.78877295, 0.78211761,\n",
       "       0.9668089 , 0.24662379, 0.85721284, 0.44391238, 0.73471718])"
      ]
     },
     "execution_count": 71,
     "metadata": {},
     "output_type": "execute_result"
    }
   ],
   "source": [
    "np.random.rand(10)  # generates an array of 10 random numbers from a uniform distribution over [0.0, 1.0)"
   ]
  },
  {
   "cell_type": "code",
   "execution_count": null,
   "id": "76131a2f",
   "metadata": {},
   "outputs": [
    {
     "data": {
      "text/plain": [
       "3"
      ]
     },
     "execution_count": 85,
     "metadata": {},
     "output_type": "execute_result"
    }
   ],
   "source": [
    "np.random.randint(2,4)  # Generates a random integer from 2 to 4 (4 is exclusive)"
   ]
  },
  {
   "cell_type": "code",
   "execution_count": 77,
   "id": "122509e7",
   "metadata": {},
   "outputs": [
    {
     "data": {
      "text/plain": [
       "array([[0.44466911, 0.0837688 , 0.26156551, 0.45241484],\n",
       "       [0.25706323, 0.84540154, 0.58715393, 0.20315048]])"
      ]
     },
     "execution_count": 77,
     "metadata": {},
     "output_type": "execute_result"
    }
   ],
   "source": [
    "np.random.rand(2,4)  # Generates a 2D array of random numbers with shape (10,20) from a uniform distribution over [0.0, 1.0)"
   ]
  },
  {
   "cell_type": "code",
   "execution_count": null,
   "id": "2b4bf3f1",
   "metadata": {},
   "outputs": [
    {
     "name": "stdout",
     "output_type": "stream",
     "text": [
      "[12 28]\n"
     ]
    }
   ],
   "source": [
    "v = np.random.randint(2,40,2) # Generates a random integer from 2 to 40 (exclusive) count 2\n",
    "print(v)"
   ]
  },
  {
   "cell_type": "code",
   "execution_count": 89,
   "id": "0a733fd9",
   "metadata": {},
   "outputs": [
    {
     "name": "stdout",
     "output_type": "stream",
     "text": [
      "[28 11 12 21 29]\n"
     ]
    }
   ],
   "source": [
    "print(np.random.randint(2,40,5)) # Generates a random integer from 2 to 40 (exclusive) count 5"
   ]
  },
  {
   "cell_type": "code",
   "execution_count": 90,
   "id": "7c7e5cec",
   "metadata": {},
   "outputs": [
    {
     "ename": "TypeError",
     "evalue": "Cannot interpret '5' as a data type",
     "output_type": "error",
     "traceback": [
      "\u001b[31m---------------------------------------------------------------------------\u001b[39m",
      "\u001b[31mTypeError\u001b[39m                                 Traceback (most recent call last)",
      "\u001b[36mCell\u001b[39m\u001b[36m \u001b[39m\u001b[32mIn[90]\u001b[39m\u001b[32m, line 1\u001b[39m\n\u001b[32m----> \u001b[39m\u001b[32m1\u001b[39m \u001b[38;5;28mprint\u001b[39m(\u001b[43mnp\u001b[49m\u001b[43m.\u001b[49m\u001b[43mrandom\u001b[49m\u001b[43m.\u001b[49m\u001b[43mrandint\u001b[49m\u001b[43m(\u001b[49m\u001b[32;43m2\u001b[39;49m\u001b[43m,\u001b[49m\u001b[32;43m40\u001b[39;49m\u001b[43m,\u001b[49m\u001b[32;43m2\u001b[39;49m\u001b[43m,\u001b[49m\u001b[32;43m5\u001b[39;49m\u001b[43m)\u001b[49m )\n",
      "\u001b[36mFile \u001b[39m\u001b[32mnumpy/random/mtrand.pyx:775\u001b[39m, in \u001b[36mnumpy.random.mtrand.RandomState.randint\u001b[39m\u001b[34m()\u001b[39m\n",
      "\u001b[31mTypeError\u001b[39m: Cannot interpret '5' as a data type"
     ]
    }
   ],
   "source": [
    "print(np.random.randint(2,40,2,5) )"
   ]
  },
  {
   "cell_type": "code",
   "execution_count": 101,
   "id": "abbbf907",
   "metadata": {},
   "outputs": [
    {
     "name": "stdout",
     "output_type": "stream",
     "text": [
      "[[29  3 31  8]\n",
      " [15  5 35 17]\n",
      " [ 4 35 35 15]\n",
      " [12 17 32  6]]\n"
     ]
    }
   ],
   "source": [
    "print(np.random.randint(2,40,(4,4))) # Generates a 2D array of random integers with shape (2,2) from 2 to 40 (exclusive)"
   ]
  },
  {
   "cell_type": "code",
   "execution_count": null,
   "id": "b9193155",
   "metadata": {},
   "outputs": [
    {
     "ename": "ValueError",
     "evalue": "low >= high",
     "output_type": "error",
     "traceback": [
      "\u001b[31m---------------------------------------------------------------------------\u001b[39m",
      "\u001b[31mValueError\u001b[39m                                Traceback (most recent call last)",
      "\u001b[36mCell\u001b[39m\u001b[36m \u001b[39m\u001b[32mIn[97]\u001b[39m\u001b[32m, line 1\u001b[39m\n\u001b[32m----> \u001b[39m\u001b[32m1\u001b[39m \u001b[38;5;28mprint\u001b[39m(\u001b[43mnp\u001b[49m\u001b[43m.\u001b[49m\u001b[43mrandom\u001b[49m\u001b[43m.\u001b[49m\u001b[43mrandint\u001b[49m\u001b[43m(\u001b[49m\u001b[32;43m20\u001b[39;49m\u001b[43m,\u001b[49m\u001b[32;43m4\u001b[39;49m\u001b[43m,\u001b[49m\u001b[32;43m2\u001b[39;49m\u001b[43m)\u001b[49m )\n",
      "\u001b[36mFile \u001b[39m\u001b[32mnumpy/random/mtrand.pyx:794\u001b[39m, in \u001b[36mnumpy.random.mtrand.RandomState.randint\u001b[39m\u001b[34m()\u001b[39m\n",
      "\u001b[36mFile \u001b[39m\u001b[32mnumpy/random/_bounded_integers.pyx:2885\u001b[39m, in \u001b[36mnumpy.random._bounded_integers._rand_int32\u001b[39m\u001b[34m()\u001b[39m\n",
      "\u001b[31mValueError\u001b[39m: low >= high"
     ]
    }
   ],
   "source": [
    "print(np.random.randint(20,4,2) ) # This will not work as the start is greater than the stop, it should be np.random.randint(2,20,2)"
   ]
  },
  {
   "cell_type": "code",
   "execution_count": null,
   "id": "ce468d7c",
   "metadata": {},
   "outputs": [
    {
     "name": "stdout",
     "output_type": "stream",
     "text": [
      "[20 20]\n"
     ]
    }
   ],
   "source": [
    "print(np.random.randint(20,21,2)) # Generates a random integer from 20 to 21 (exclusive) count 2"
   ]
  },
  {
   "cell_type": "code",
   "execution_count": null,
   "id": "1dc92bdb",
   "metadata": {},
   "outputs": [
    {
     "name": "stdout",
     "output_type": "stream",
     "text": [
      "[ -1 -15  -1   2  -2  -7]\n"
     ]
    }
   ],
   "source": [
    "print(np.random.randint(-20,8,6)) # Generates a random integer from -20 to 8 (exclusive) count 6"
   ]
  },
  {
   "cell_type": "code",
   "execution_count": 106,
   "id": "3ee43a71",
   "metadata": {},
   "outputs": [
    {
     "name": "stdout",
     "output_type": "stream",
     "text": [
      "[[12 17 12 17 18 18]\n",
      " [17 13 14 18 12 13]\n",
      " [14 15 19 16 10 11]\n",
      " [12 16 12 15 10 13]]\n"
     ]
    }
   ],
   "source": [
    "bus = np.random.randint(10,20,(4,6))\n",
    "print(bus)"
   ]
  },
  {
   "cell_type": "code",
   "execution_count": 109,
   "id": "39e95164",
   "metadata": {},
   "outputs": [
    {
     "data": {
      "text/plain": [
       "array([[ 1,  2,  3,  4],\n",
       "       [ 5,  6,  7,  8],\n",
       "       [ 9, 10, 11, 12]])"
      ]
     },
     "execution_count": 109,
     "metadata": {},
     "output_type": "execute_result"
    }
   ],
   "source": [
    "np.arange(1,13).reshape(3,4)"
   ]
  },
  {
   "cell_type": "code",
   "execution_count": 117,
   "id": "60e320e7",
   "metadata": {},
   "outputs": [
    {
     "data": {
      "text/plain": [
       "array([[ 1,  2,  3,  4,  5],\n",
       "       [ 6,  7,  8,  9, 10],\n",
       "       [11, 12, 13, 14, 15],\n",
       "       [16, 17, 18, 19, 20]])"
      ]
     },
     "execution_count": 117,
     "metadata": {},
     "output_type": "execute_result"
    }
   ],
   "source": [
    "np.arange(1,21).reshape(4,5) # Creates a 2D array with shape (4,5) filled with numbers from 1 to 20 "
   ]
  },
  {
   "cell_type": "code",
   "execution_count": null,
   "id": "435a9154",
   "metadata": {},
   "outputs": [
    {
     "data": {
      "text/plain": [
       "array([[10, 11, 12, 13, 14],\n",
       "       [15, 16, 17, 18, 19],\n",
       "       [20, 21, 22, 23, 24]])"
      ]
     },
     "execution_count": 120,
     "metadata": {},
     "output_type": "execute_result"
    }
   ],
   "source": [
    "np.arange(10,25).reshape(3,5) # Creates a 2D array with shape (3,5) filled with numbers from 10 to 24"
   ]
  },
  {
   "cell_type": "code",
   "execution_count": 125,
   "id": "c6424c3b",
   "metadata": {},
   "outputs": [
    {
     "name": "stdout",
     "output_type": "stream",
     "text": [
      "[[ 1]\n",
      " [ 2]\n",
      " [ 3]\n",
      " [ 4]\n",
      " [ 5]\n",
      " [ 6]\n",
      " [ 7]\n",
      " [ 8]\n",
      " [ 9]\n",
      " [10]\n",
      " [11]\n",
      " [12]]\n"
     ]
    }
   ],
   "source": [
    "print(np.arange(1,13).reshape(12,1))"
   ]
  },
  {
   "cell_type": "code",
   "execution_count": 130,
   "id": "66534d5b",
   "metadata": {},
   "outputs": [
    {
     "name": "stdout",
     "output_type": "stream",
     "text": [
      "[[19 20 19 23 29 16]\n",
      " [27 15 22 28 12 10]\n",
      " [18 21 18 19 29 18]\n",
      " [21 16 20 15 29 26]]\n"
     ]
    }
   ],
   "source": [
    "b = np.random.randint(10,30,(4,6))\n",
    "print(b)"
   ]
  },
  {
   "cell_type": "code",
   "execution_count": 136,
   "id": "4e42b289",
   "metadata": {},
   "outputs": [
    {
     "name": "stdout",
     "output_type": "stream",
     "text": [
      "[[19 20 19 23 29 16]\n",
      " [27 15 22 28 12 10]\n",
      " [18 21 18 19 29 18]\n",
      " [21 16 20 15 29 26]]\n"
     ]
    }
   ],
   "source": [
    "print(b[:])"
   ]
  },
  {
   "cell_type": "code",
   "execution_count": 137,
   "id": "e616d588",
   "metadata": {},
   "outputs": [
    {
     "name": "stdout",
     "output_type": "stream",
     "text": [
      "[[19 20 19 23 29 16]\n",
      " [27 15 22 28 12 10]\n",
      " [18 21 18 19 29 18]\n",
      " [21 16 20 15 29 26]]\n"
     ]
    }
   ],
   "source": [
    "print(b[::])"
   ]
  },
  {
   "cell_type": "code",
   "execution_count": 134,
   "id": "815b5a7b",
   "metadata": {},
   "outputs": [
    {
     "name": "stdout",
     "output_type": "stream",
     "text": [
      "[[21 16 20 15 29 26]\n",
      " [18 21 18 19 29 18]\n",
      " [27 15 22 28 12 10]\n",
      " [19 20 19 23 29 16]]\n"
     ]
    }
   ],
   "source": [
    "print(b[::-1])"
   ]
  },
  {
   "cell_type": "code",
   "execution_count": 139,
   "id": "b185fe49",
   "metadata": {},
   "outputs": [
    {
     "name": "stdout",
     "output_type": "stream",
     "text": [
      "[[21 16 20 15 29 26]\n",
      " [19 20 19 23 29 16]]\n"
     ]
    }
   ],
   "source": [
    "print(b[::-3])"
   ]
  },
  {
   "cell_type": "code",
   "execution_count": 140,
   "id": "2f96970f",
   "metadata": {},
   "outputs": [
    {
     "data": {
      "text/plain": [
       "array([[19, 20, 19, 23, 29, 16],\n",
       "       [27, 15, 22, 28, 12, 10],\n",
       "       [18, 21, 18, 19, 29, 18],\n",
       "       [21, 16, 20, 15, 29, 26]], dtype=int32)"
      ]
     },
     "execution_count": 140,
     "metadata": {},
     "output_type": "execute_result"
    }
   ],
   "source": [
    "b"
   ]
  },
  {
   "cell_type": "code",
   "execution_count": 142,
   "id": "3bdadeae",
   "metadata": {},
   "outputs": [
    {
     "name": "stdout",
     "output_type": "stream",
     "text": [
      "[[27 15 22 28 12 10]\n",
      " [18 21 18 19 29 18]\n",
      " [21 16 20 15 29 26]]\n"
     ]
    }
   ],
   "source": [
    "print(b[1:4]) # Slicing the array to get rows 1 to 2 (exclusive of 3)"
   ]
  },
  {
   "cell_type": "code",
   "execution_count": 147,
   "id": "bc804483",
   "metadata": {},
   "outputs": [
    {
     "name": "stdout",
     "output_type": "stream",
     "text": [
      "[[19 20 19 23 29 16]\n",
      " [27 15 22 28 12 10]]\n"
     ]
    }
   ],
   "source": [
    "print(b[0:-2]) # Slicing the array to get rows 0 to 1 (exclusive of 2)"
   ]
  },
  {
   "cell_type": "code",
   "execution_count": 150,
   "id": "df9f9206",
   "metadata": {},
   "outputs": [
    {
     "data": {
      "text/plain": [
       "array([[27, 15, 22, 28, 12, 10],\n",
       "       [18, 21, 18, 19, 29, 18],\n",
       "       [21, 16, 20, 15, 29, 26]], dtype=int32)"
      ]
     },
     "execution_count": 150,
     "metadata": {},
     "output_type": "execute_result"
    }
   ],
   "source": [
    "b[1:5] # Slicing the array to get rows 1 to 4 (exclusive of 5)"
   ]
  },
  {
   "cell_type": "code",
   "execution_count": null,
   "id": "e38ab233",
   "metadata": {},
   "outputs": [
    {
     "name": "stdout",
     "output_type": "stream",
     "text": [
      "[[27 15 22 28 12 10]]\n"
     ]
    }
   ],
   "source": [
    "print(b[-3:-2]) # slicing the array to get rows -3 to -2 (exclusive of -1)"
   ]
  },
  {
   "cell_type": "code",
   "execution_count": 157,
   "id": "fede252d",
   "metadata": {},
   "outputs": [
    {
     "name": "stdout",
     "output_type": "stream",
     "text": [
      "[[27 15 22 28 12 10]]\n"
     ]
    }
   ],
   "source": [
    "print(b[1:2])"
   ]
  },
  {
   "cell_type": "code",
   "execution_count": null,
   "id": "2862c98b",
   "metadata": {},
   "outputs": [
    {
     "name": "stdout",
     "output_type": "stream",
     "text": [
      "22\n"
     ]
    }
   ],
   "source": [
    "print(b[1,2]) # Accessing the element at row 1, column 2"
   ]
  },
  {
   "cell_type": "code",
   "execution_count": 160,
   "id": "ffeb92e9",
   "metadata": {},
   "outputs": [
    {
     "data": {
      "text/plain": [
       "array([[19, 20, 19, 23, 29, 16],\n",
       "       [27, 15, 22, 28, 12, 10],\n",
       "       [18, 21, 18, 19, 29, 18],\n",
       "       [21, 16, 20, 15, 29, 26]], dtype=int32)"
      ]
     },
     "execution_count": 160,
     "metadata": {},
     "output_type": "execute_result"
    }
   ],
   "source": [
    "b"
   ]
  },
  {
   "cell_type": "code",
   "execution_count": null,
   "id": "106835d7",
   "metadata": {},
   "outputs": [
    {
     "name": "stdout",
     "output_type": "stream",
     "text": [
      "29\n"
     ]
    }
   ],
   "source": [
    "print(b[2,4]) # Accessing the element at row 2, column 4"
   ]
  },
  {
   "cell_type": "code",
   "execution_count": 163,
   "id": "2ec4cbfd",
   "metadata": {},
   "outputs": [
    {
     "data": {
      "text/plain": [
       "array([[19, 20, 19, 23, 29, 16],\n",
       "       [27, 15, 22, 28, 12, 10],\n",
       "       [18, 21, 18, 19, 29, 18],\n",
       "       [21, 16, 20, 15, 29, 26]], dtype=int32)"
      ]
     },
     "execution_count": 163,
     "metadata": {},
     "output_type": "execute_result"
    }
   ],
   "source": [
    "b"
   ]
  },
  {
   "cell_type": "code",
   "execution_count": null,
   "id": "863db384",
   "metadata": {},
   "outputs": [
    {
     "name": "stdout",
     "output_type": "stream",
     "text": [
      "[[27 15 22 28 12 10]\n",
      " [18 21 18 19 29 18]]\n"
     ]
    }
   ],
   "source": [
    "print(b[1:3]) # slicing the array to get rows 1 to 2 (exclusive of 3)"
   ]
  },
  {
   "cell_type": "code",
   "execution_count": 166,
   "id": "4c733932",
   "metadata": {},
   "outputs": [
    {
     "name": "stdout",
     "output_type": "stream",
     "text": [
      "29\n"
     ]
    }
   ],
   "source": [
    "print(b[3,-2])"
   ]
  },
  {
   "cell_type": "code",
   "execution_count": 165,
   "id": "97814055",
   "metadata": {},
   "outputs": [
    {
     "name": "stdout",
     "output_type": "stream",
     "text": [
      "10\n"
     ]
    }
   ],
   "source": [
    "print(b[1,-1])"
   ]
  },
  {
   "cell_type": "code",
   "execution_count": 177,
   "id": "bca2397c",
   "metadata": {},
   "outputs": [
    {
     "data": {
      "text/plain": [
       "array([[19, 20, 19, 23, 29, 16],\n",
       "       [27, 15, 22, 28, 12, 10],\n",
       "       [18, 21, 18, 19, 29, 18],\n",
       "       [21, 16, 20, 15, 29, 26]], dtype=int32)"
      ]
     },
     "execution_count": 177,
     "metadata": {},
     "output_type": "execute_result"
    }
   ],
   "source": [
    "b"
   ]
  },
  {
   "cell_type": "code",
   "execution_count": 176,
   "id": "d26ccf66",
   "metadata": {},
   "outputs": [
    {
     "data": {
      "text/plain": [
       "array([[19, 20, 19, 23, 29, 16],\n",
       "       [27, 15, 22, 28, 12, 10]], dtype=int32)"
      ]
     },
     "execution_count": 176,
     "metadata": {},
     "output_type": "execute_result"
    }
   ],
   "source": [
    "b[0:-2]"
   ]
  },
  {
   "cell_type": "code",
   "execution_count": 178,
   "id": "59e6a549",
   "metadata": {},
   "outputs": [
    {
     "data": {
      "text/plain": [
       "array([[19, 20, 19, 23, 29, 16],\n",
       "       [27, 15, 22, 28, 12, 10]], dtype=int32)"
      ]
     },
     "execution_count": 178,
     "metadata": {},
     "output_type": "execute_result"
    }
   ],
   "source": [
    "b[-4:2] "
   ]
  },
  {
   "cell_type": "code",
   "execution_count": 180,
   "id": "e87832b3",
   "metadata": {},
   "outputs": [
    {
     "data": {
      "text/plain": [
       "array([[12, 20, 15, 26],\n",
       "       [26, 19, 15, 26],\n",
       "       [12, 19, 23, 14],\n",
       "       [18, 29, 14, 20],\n",
       "       [23, 10, 14, 20]], dtype=int32)"
      ]
     },
     "execution_count": 180,
     "metadata": {},
     "output_type": "execute_result"
    }
   ],
   "source": [
    "b1 = np.random.randint(10,30,(5,4))\n",
    "b1"
   ]
  },
  {
   "cell_type": "code",
   "execution_count": 183,
   "id": "c2fdcd0e",
   "metadata": {},
   "outputs": [
    {
     "data": {
      "text/plain": [
       "array([[19, 20, 19, 23, 29, 16],\n",
       "       [27, 15, 22, 28, 12, 10],\n",
       "       [18, 21, 18, 19, 29, 18],\n",
       "       [21, 16, 20, 15, 29, 26]], dtype=int32)"
      ]
     },
     "execution_count": 183,
     "metadata": {},
     "output_type": "execute_result"
    }
   ],
   "source": [
    "b"
   ]
  },
  {
   "cell_type": "code",
   "execution_count": null,
   "id": "618e9d14",
   "metadata": {},
   "outputs": [
    {
     "data": {
      "text/plain": [
       "array([[19, 20, 19, 23, 29, 16],\n",
       "       [27, 15, 22, 28, 12, 10]], dtype=int32)"
      ]
     },
     "execution_count": 184,
     "metadata": {},
     "output_type": "execute_result"
    }
   ],
   "source": [
    "b[-4:2] # Slicing the array to get rows -4 to 1 (exclusive of 2)"
   ]
  },
  {
   "cell_type": "code",
   "execution_count": null,
   "id": "bda376bf",
   "metadata": {},
   "outputs": [
    {
     "data": {
      "text/plain": [
       "array([[26, 19, 15, 26]], dtype=int32)"
      ]
     },
     "execution_count": 182,
     "metadata": {},
     "output_type": "execute_result"
    }
   ],
   "source": [
    "b1[-4:2] # Slicing the array to get rows -4 to 1 (exclusive of 2)"
   ]
  },
  {
   "cell_type": "code",
   "execution_count": 208,
   "id": "b4d6cdca",
   "metadata": {},
   "outputs": [
    {
     "data": {
      "text/plain": [
       "array([[16, 13, 17, 15, 19],\n",
       "       [19, 25, 28, 11, 20],\n",
       "       [25, 11, 21, 14, 16],\n",
       "       [11, 13, 15, 25, 14],\n",
       "       [13, 11, 15, 19, 26],\n",
       "       [25, 24, 20, 19, 12]], dtype=int32)"
      ]
     },
     "execution_count": 208,
     "metadata": {},
     "output_type": "execute_result"
    }
   ],
   "source": [
    "b2 = np.random.randint(10,30,(6,5))\n",
    "b2"
   ]
  },
  {
   "cell_type": "code",
   "execution_count": 212,
   "id": "5855aadd",
   "metadata": {},
   "outputs": [
    {
     "name": "stdout",
     "output_type": "stream",
     "text": [
      "[[19 25 28 11 20]\n",
      " [25 11 21 14 16]]\n"
     ]
    }
   ],
   "source": [
    "print(b2[1:3])  # Slicing the array to get rows -4 to 1 (exclusive of 2)"
   ]
  },
  {
   "cell_type": "code",
   "execution_count": 214,
   "id": "96d5f0fb",
   "metadata": {},
   "outputs": [
    {
     "name": "stdout",
     "output_type": "stream",
     "text": [
      "[[19 25 28 11 20]\n",
      " [25 11 21 14 16]]\n"
     ]
    }
   ],
   "source": [
    "print(b2[-5:-3])  # Slicing the array to get rows -4 to 1 (exclusive of 2)"
   ]
  },
  {
   "cell_type": "code",
   "execution_count": 225,
   "id": "6ec3594a",
   "metadata": {},
   "outputs": [
    {
     "name": "stdout",
     "output_type": "stream",
     "text": [
      "[[25 11 21 14 16]\n",
      " [11 13 15 25 14]\n",
      " [13 11 15 19 26]]\n"
     ]
    }
   ],
   "source": [
    "print(b2[-4:-1])  # Slicing the array to get rows -4 to 1 (exclusive of 2)"
   ]
  },
  {
   "cell_type": "code",
   "execution_count": 222,
   "id": "72c5fccb",
   "metadata": {},
   "outputs": [
    {
     "name": "stdout",
     "output_type": "stream",
     "text": [
      "[[16 13 17 15 19]\n",
      " [19 25 28 11 20]\n",
      " [25 11 21 14 16]]\n"
     ]
    }
   ],
   "source": [
    "print(b2[-6 : -3])   # slicing  = start : end"
   ]
  },
  {
   "cell_type": "code",
   "execution_count": 229,
   "id": "d0526f19",
   "metadata": {},
   "outputs": [
    {
     "data": {
      "text/plain": [
       "array([12, 12, 15, 13, 19, 11, 12, 12, 18, 13, 17, 12, 16, 15, 18],\n",
       "      dtype=int32)"
      ]
     },
     "execution_count": 229,
     "metadata": {},
     "output_type": "execute_result"
    }
   ],
   "source": [
    "a = np.random.randint(10,20,15)\n",
    "a\n"
   ]
  },
  {
   "cell_type": "code",
   "execution_count": 240,
   "id": "41062830",
   "metadata": {},
   "outputs": [
    {
     "data": {
      "text/plain": [
       "array([2, 3, 2, 3, 3, 3], dtype=int32)"
      ]
     },
     "execution_count": 240,
     "metadata": {},
     "output_type": "execute_result"
    }
   ],
   "source": [
    "np.random.randint(2 , 4 , 6)"
   ]
  },
  {
   "cell_type": "code",
   "execution_count": 241,
   "id": "11a58145",
   "metadata": {},
   "outputs": [
    {
     "data": {
      "text/plain": [
       "array([6, 5, 6, 6, 5, 5, 6, 5, 5, 5, 6, 5, 5, 6, 5, 6, 6, 5, 6, 5],\n",
       "      dtype=int32)"
      ]
     },
     "execution_count": 241,
     "metadata": {},
     "output_type": "execute_result"
    }
   ],
   "source": [
    "np.random.randint(5,7,20)  # Generates a random integer from 10 to 20 (exclusive) count 15"
   ]
  },
  {
   "cell_type": "code",
   "execution_count": 256,
   "id": "f42f21dd",
   "metadata": {},
   "outputs": [
    {
     "data": {
      "text/plain": [
       "array([[36, 77, 44, 12, 12,  1,  9, 15, 75,  4],\n",
       "       [79, 79, 70, 13,  8, 75, 81, 53, 23, 79],\n",
       "       [52, 67, 45, 23, 28, 11, 38, 40,  6, 90],\n",
       "       [60, 52, 33,  1, 52, 96, 12, 98, 62, 36],\n",
       "       [11, 16, 11, 87, 88, 65, 68, 69, 57, 86],\n",
       "       [39, 26, 39, 82, 63, 62, 45, 34, 98, 94],\n",
       "       [97, 63, 12, 99,  3, 90, 45, 13, 60, 68],\n",
       "       [60, 89, 26, 73, 33, 28, 58, 56, 20, 61],\n",
       "       [60, 95, 86,  3,  2, 63, 79, 65,  5, 83],\n",
       "       [11, 45, 16, 64, 73,  7, 58, 21, 59, 46]], dtype=int32)"
      ]
     },
     "execution_count": 256,
     "metadata": {},
     "output_type": "execute_result"
    }
   ],
   "source": [
    "arr2 = np.random.randint(0,100,(10,10))\n",
    "arr2"
   ]
  },
  {
   "cell_type": "code",
   "execution_count": 261,
   "id": "f61bd578",
   "metadata": {},
   "outputs": [
    {
     "data": {
      "text/plain": [
       "array([[36, 77, 44, 12, 12,  1,  9, 15, 75,  4],\n",
       "       [79, 79, 70, 13,  8, 75, 81, 53, 23, 79],\n",
       "       [52, 67, 45, 23, 28, 11, 38, 40,  6, 90],\n",
       "       [60, 52, 33,  1, 52, 96, 12, 98, 62, 36],\n",
       "       [11, 16, 11, 87, 88, 65, 68, 69, 57, 86],\n",
       "       [39, 26, 39, 82, 63, 62, 45, 34, 98, 94],\n",
       "       [97, 63, 12, 99,  3, 90, 45, 13, 60, 68],\n",
       "       [60, 89, 26, 73, 33, 28, 58, 56, 20, 61],\n",
       "       [60, 95, 86,  3,  2, 63, 79, 65,  5, 83],\n",
       "       [11, 45, 16, 64, 73,  7, 58, 21, 59, 46]], dtype=int32)"
      ]
     },
     "execution_count": 261,
     "metadata": {},
     "output_type": "execute_result"
    }
   ],
   "source": [
    "arr2[:]"
   ]
  },
  {
   "cell_type": "code",
   "execution_count": 263,
   "id": "0ac888ff",
   "metadata": {},
   "outputs": [
    {
     "data": {
      "text/plain": [
       "array([[36, 77, 44, 12, 12,  1,  9, 15, 75,  4],\n",
       "       [11, 16, 11, 87, 88, 65, 68, 69, 57, 86],\n",
       "       [60, 95, 86,  3,  2, 63, 79, 65,  5, 83]], dtype=int32)"
      ]
     },
     "execution_count": 263,
     "metadata": {},
     "output_type": "execute_result"
    }
   ],
   "source": [
    "arr2[::4]"
   ]
  },
  {
   "cell_type": "code",
   "execution_count": 266,
   "id": "40c3502d",
   "metadata": {},
   "outputs": [
    {
     "data": {
      "text/plain": [
       "array([[11, 45, 16, 64, 73,  7, 58, 21, 59, 46],\n",
       "       [60, 95, 86,  3,  2, 63, 79, 65,  5, 83],\n",
       "       [60, 89, 26, 73, 33, 28, 58, 56, 20, 61],\n",
       "       [97, 63, 12, 99,  3, 90, 45, 13, 60, 68],\n",
       "       [39, 26, 39, 82, 63, 62, 45, 34, 98, 94],\n",
       "       [11, 16, 11, 87, 88, 65, 68, 69, 57, 86],\n",
       "       [60, 52, 33,  1, 52, 96, 12, 98, 62, 36],\n",
       "       [52, 67, 45, 23, 28, 11, 38, 40,  6, 90],\n",
       "       [79, 79, 70, 13,  8, 75, 81, 53, 23, 79],\n",
       "       [36, 77, 44, 12, 12,  1,  9, 15, 75,  4]], dtype=int32)"
      ]
     },
     "execution_count": 266,
     "metadata": {},
     "output_type": "execute_result"
    }
   ],
   "source": [
    "arr2[::-1]"
   ]
  },
  {
   "cell_type": "code",
   "execution_count": 264,
   "id": "dff7dbc8",
   "metadata": {},
   "outputs": [
    {
     "data": {
      "text/plain": [
       "array([[11, 45, 16, 64, 73,  7, 58, 21, 59, 46],\n",
       "       [60, 89, 26, 73, 33, 28, 58, 56, 20, 61],\n",
       "       [39, 26, 39, 82, 63, 62, 45, 34, 98, 94],\n",
       "       [60, 52, 33,  1, 52, 96, 12, 98, 62, 36],\n",
       "       [79, 79, 70, 13,  8, 75, 81, 53, 23, 79]], dtype=int32)"
      ]
     },
     "execution_count": 264,
     "metadata": {},
     "output_type": "execute_result"
    }
   ],
   "source": [
    "arr2[::-2] "
   ]
  },
  {
   "cell_type": "code",
   "execution_count": 267,
   "id": "4b7c7934",
   "metadata": {},
   "outputs": [
    {
     "data": {
      "text/plain": [
       "array([[36, 77, 44, 12, 12,  1,  9, 15, 75,  4],\n",
       "       [79, 79, 70, 13,  8, 75, 81, 53, 23, 79],\n",
       "       [52, 67, 45, 23, 28, 11, 38, 40,  6, 90],\n",
       "       [60, 52, 33,  1, 52, 96, 12, 98, 62, 36],\n",
       "       [11, 16, 11, 87, 88, 65, 68, 69, 57, 86],\n",
       "       [39, 26, 39, 82, 63, 62, 45, 34, 98, 94],\n",
       "       [97, 63, 12, 99,  3, 90, 45, 13, 60, 68],\n",
       "       [60, 89, 26, 73, 33, 28, 58, 56, 20, 61],\n",
       "       [60, 95, 86,  3,  2, 63, 79, 65,  5, 83],\n",
       "       [11, 45, 16, 64, 73,  7, 58, 21, 59, 46]], dtype=int32)"
      ]
     },
     "execution_count": 267,
     "metadata": {},
     "output_type": "execute_result"
    }
   ],
   "source": [
    "arr2"
   ]
  },
  {
   "cell_type": "code",
   "execution_count": null,
   "id": "29e709d8",
   "metadata": {},
   "outputs": [
    {
     "data": {
      "text/plain": [
       "array([[13,  8],\n",
       "       [23, 28]], dtype=int32)"
      ]
     },
     "execution_count": 269,
     "metadata": {},
     "output_type": "execute_result"
    }
   ],
   "source": [
    "arr2[1:3,3:5] # Accessing a subarray from row 1 to 2 (exclusive of 3) and column 3 to 4 (exclusive of 5)"
   ]
  },
  {
   "cell_type": "code",
   "execution_count": 270,
   "id": "f426146b",
   "metadata": {},
   "outputs": [
    {
     "data": {
      "text/plain": [
       "array([[67, 45, 23, 28, 11],\n",
       "       [52, 33,  1, 52, 96]], dtype=int32)"
      ]
     },
     "execution_count": 270,
     "metadata": {},
     "output_type": "execute_result"
    }
   ],
   "source": [
    "arr2[2:4, 1:6]"
   ]
  },
  {
   "cell_type": "code",
   "execution_count": 274,
   "id": "70aad192",
   "metadata": {},
   "outputs": [
    {
     "data": {
      "text/plain": [
       "np.int32(99)"
      ]
     },
     "execution_count": 274,
     "metadata": {},
     "output_type": "execute_result"
    }
   ],
   "source": [
    "arr2.max()"
   ]
  },
  {
   "cell_type": "code",
   "execution_count": 275,
   "id": "9886cfe7",
   "metadata": {},
   "outputs": [
    {
     "data": {
      "text/plain": [
       "np.int32(1)"
      ]
     },
     "execution_count": 275,
     "metadata": {},
     "output_type": "execute_result"
    }
   ],
   "source": [
    "arr2.min()"
   ]
  },
  {
   "cell_type": "code",
   "execution_count": 276,
   "id": "799eff3b",
   "metadata": {},
   "outputs": [
    {
     "data": {
      "text/plain": [
       "np.float64(48.82)"
      ]
     },
     "execution_count": 276,
     "metadata": {},
     "output_type": "execute_result"
    }
   ],
   "source": [
    "arr2.mean()"
   ]
  },
  {
   "cell_type": "code",
   "execution_count": 287,
   "id": "7140b088",
   "metadata": {},
   "outputs": [
    {
     "data": {
      "text/plain": [
       "np.float64(4.5)"
      ]
     },
     "execution_count": 287,
     "metadata": {},
     "output_type": "execute_result"
    }
   ],
   "source": [
    "from numpy import *\n",
    "a = array([1,2,3,4,5,6,7,8])\n",
    "median(a)"
   ]
  },
  {
   "cell_type": "code",
   "execution_count": 288,
   "id": "6d1cfc3c",
   "metadata": {},
   "outputs": [
    {
     "data": {
      "text/plain": [
       "array([1, 2, 3, 4, 5, 6, 7, 8])"
      ]
     },
     "execution_count": 288,
     "metadata": {},
     "output_type": "execute_result"
    }
   ],
   "source": [
    "a"
   ]
  },
  {
   "cell_type": "code",
   "execution_count": 291,
   "id": "61a00366",
   "metadata": {},
   "outputs": [
    {
     "data": {
      "text/plain": [
       "array([[1, 2, 3, 4, 5, 6, 7, 8]])"
      ]
     },
     "execution_count": 291,
     "metadata": {},
     "output_type": "execute_result"
    }
   ],
   "source": [
    "a.reshape(1,8)"
   ]
  },
  {
   "cell_type": "code",
   "execution_count": 289,
   "id": "15e5d2e2",
   "metadata": {},
   "outputs": [
    {
     "data": {
      "text/plain": [
       "array([[1, 2],\n",
       "       [3, 4],\n",
       "       [5, 6],\n",
       "       [7, 8]])"
      ]
     },
     "execution_count": 289,
     "metadata": {},
     "output_type": "execute_result"
    }
   ],
   "source": [
    "a.reshape(4,2)"
   ]
  },
  {
   "cell_type": "code",
   "execution_count": null,
   "id": "f207081a",
   "metadata": {},
   "outputs": [
    {
     "data": {
      "text/plain": [
       "array([[1],\n",
       "       [2],\n",
       "       [3],\n",
       "       [4],\n",
       "       [5],\n",
       "       [6],\n",
       "       [7],\n",
       "       [8]])"
      ]
     },
     "execution_count": 292,
     "metadata": {},
     "output_type": "execute_result"
    }
   ],
   "source": [
    "a.reshape(8,1) # vector"
   ]
  },
  {
   "cell_type": "code",
   "execution_count": 295,
   "id": "e5245ab6",
   "metadata": {},
   "outputs": [
    {
     "data": {
      "text/plain": [
       "array([[1, 2, 3, 4],\n",
       "       [5, 6, 7, 8]])"
      ]
     },
     "execution_count": 295,
     "metadata": {},
     "output_type": "execute_result"
    }
   ],
   "source": [
    "a.reshape((2,4), order='C')"
   ]
  },
  {
   "cell_type": "code",
   "execution_count": 305,
   "id": "d74ec4f7",
   "metadata": {},
   "outputs": [
    {
     "data": {
      "text/plain": [
       "array([[ 0,  1,  2,  3,  4,  5,  6,  7,  8,  9],\n",
       "       [10, 11, 12, 13, 14, 15, 16, 17, 18, 19],\n",
       "       [20, 21, 22, 23, 24, 25, 26, 27, 28, 29],\n",
       "       [30, 31, 32, 33, 34, 35, 36, 37, 38, 39],\n",
       "       [40, 41, 42, 43, 44, 45, 46, 47, 48, 49],\n",
       "       [50, 51, 52, 53, 54, 55, 56, 57, 58, 59],\n",
       "       [60, 61, 62, 63, 64, 65, 66, 67, 68, 69],\n",
       "       [70, 71, 72, 73, 74, 75, 76, 77, 78, 79],\n",
       "       [80, 81, 82, 83, 84, 85, 86, 87, 88, 89],\n",
       "       [90, 91, 92, 93, 94, 95, 96, 97, 98, 99]])"
      ]
     },
     "execution_count": 305,
     "metadata": {},
     "output_type": "execute_result"
    }
   ],
   "source": [
    "mat = np.arange(0,100).reshape(10,10)\n",
    "mat"
   ]
  },
  {
   "cell_type": "code",
   "execution_count": 306,
   "id": "e4246b45",
   "metadata": {},
   "outputs": [
    {
     "name": "stdout",
     "output_type": "stream",
     "text": [
      "54\n"
     ]
    }
   ],
   "source": [
    "row = 5\n",
    "col = 4\n",
    "print(mat[row,col])"
   ]
  },
  {
   "cell_type": "code",
   "execution_count": null,
   "id": "9bfd3f27",
   "metadata": {},
   "outputs": [
    {
     "data": {
      "text/plain": [
       "array([60, 61, 62, 63, 64, 65, 66, 67, 68, 69])"
      ]
     },
     "execution_count": 307,
     "metadata": {},
     "output_type": "execute_result"
    }
   ],
   "source": [
    "mat[6] #to access the 6th row"
   ]
  },
  {
   "cell_type": "code",
   "execution_count": null,
   "id": "733b5b87",
   "metadata": {},
   "outputs": [
    {
     "data": {
      "text/plain": [
       "array([ 4, 14, 24, 34, 44, 54, 64, 74, 84, 94])"
      ]
     },
     "execution_count": 308,
     "metadata": {},
     "output_type": "execute_result"
    }
   ],
   "source": [
    "mat[:,col] # To access all rows of column 4"
   ]
  },
  {
   "cell_type": "code",
   "execution_count": 309,
   "id": "de64e367",
   "metadata": {},
   "outputs": [
    {
     "data": {
      "text/plain": [
       "array([ 7, 17, 27, 37, 47, 57, 67, 77, 87, 97])"
      ]
     },
     "execution_count": 309,
     "metadata": {},
     "output_type": "execute_result"
    }
   ],
   "source": [
    "mat[:,7]"
   ]
  },
  {
   "cell_type": "code",
   "execution_count": 310,
   "id": "93f92aed",
   "metadata": {},
   "outputs": [
    {
     "data": {
      "text/plain": [
       "array([40, 41, 42, 43, 44, 45, 46, 47, 48, 49])"
      ]
     },
     "execution_count": 310,
     "metadata": {},
     "output_type": "execute_result"
    }
   ],
   "source": [
    "mat[4,:]"
   ]
  },
  {
   "cell_type": "code",
   "execution_count": 311,
   "id": "2b29204e",
   "metadata": {},
   "outputs": [
    {
     "data": {
      "text/plain": [
       "array([[ 0,  1,  2,  3,  4,  5,  6,  7,  8,  9],\n",
       "       [10, 11, 12, 13, 14, 15, 16, 17, 18, 19],\n",
       "       [20, 21, 22, 23, 24, 25, 26, 27, 28, 29],\n",
       "       [30, 31, 32, 33, 34, 35, 36, 37, 38, 39],\n",
       "       [40, 41, 42, 43, 44, 45, 46, 47, 48, 49],\n",
       "       [50, 51, 52, 53, 54, 55, 56, 57, 58, 59],\n",
       "       [60, 61, 62, 63, 64, 65, 66, 67, 68, 69],\n",
       "       [70, 71, 72, 73, 74, 75, 76, 77, 78, 79],\n",
       "       [80, 81, 82, 83, 84, 85, 86, 87, 88, 89],\n",
       "       [90, 91, 92, 93, 94, 95, 96, 97, 98, 99]])"
      ]
     },
     "execution_count": 311,
     "metadata": {},
     "output_type": "execute_result"
    }
   ],
   "source": [
    "mat[:,:]"
   ]
  },
  {
   "cell_type": "code",
   "execution_count": 312,
   "id": "4d3116d1",
   "metadata": {},
   "outputs": [
    {
     "data": {
      "text/plain": [
       "array([20, 21, 22, 23, 24, 25, 26, 27, 28, 29])"
      ]
     },
     "execution_count": 312,
     "metadata": {},
     "output_type": "execute_result"
    }
   ],
   "source": [
    "mat[2,:]"
   ]
  },
  {
   "cell_type": "code",
   "execution_count": 313,
   "id": "85959f66",
   "metadata": {},
   "outputs": [
    {
     "data": {
      "text/plain": [
       "array([ 8, 18, 28, 38, 48, 58, 68, 78, 88, 98])"
      ]
     },
     "execution_count": 313,
     "metadata": {},
     "output_type": "execute_result"
    }
   ],
   "source": [
    "mat[:,8]"
   ]
  },
  {
   "cell_type": "code",
   "execution_count": 314,
   "id": "034b691b",
   "metadata": {},
   "outputs": [
    {
     "data": {
      "text/plain": [
       "array([[ 0,  1,  2,  3,  4,  5,  6,  7,  8,  9],\n",
       "       [10, 11, 12, 13, 14, 15, 16, 17, 18, 19],\n",
       "       [20, 21, 22, 23, 24, 25, 26, 27, 28, 29],\n",
       "       [30, 31, 32, 33, 34, 35, 36, 37, 38, 39],\n",
       "       [40, 41, 42, 43, 44, 45, 46, 47, 48, 49],\n",
       "       [50, 51, 52, 53, 54, 55, 56, 57, 58, 59],\n",
       "       [60, 61, 62, 63, 64, 65, 66, 67, 68, 69],\n",
       "       [70, 71, 72, 73, 74, 75, 76, 77, 78, 79]])"
      ]
     },
     "execution_count": 314,
     "metadata": {},
     "output_type": "execute_result"
    }
   ],
   "source": [
    "mat[:8]"
   ]
  },
  {
   "cell_type": "code",
   "execution_count": 316,
   "id": "a64aa4ae",
   "metadata": {},
   "outputs": [
    {
     "data": {
      "text/plain": [
       "array([ 8, 18, 28, 38, 48, 58, 68, 78, 88, 98])"
      ]
     },
     "execution_count": 316,
     "metadata": {},
     "output_type": "execute_result"
    }
   ],
   "source": [
    "mat[:,-2]"
   ]
  },
  {
   "cell_type": "code",
   "execution_count": 317,
   "id": "cdbd6129",
   "metadata": {},
   "outputs": [
    {
     "data": {
      "text/plain": [
       "array([[30, 31, 32, 33, 34, 35, 36, 37, 38, 39],\n",
       "       [40, 41, 42, 43, 44, 45, 46, 47, 48, 49],\n",
       "       [50, 51, 52, 53, 54, 55, 56, 57, 58, 59],\n",
       "       [60, 61, 62, 63, 64, 65, 66, 67, 68, 69]])"
      ]
     },
     "execution_count": 317,
     "metadata": {},
     "output_type": "execute_result"
    }
   ],
   "source": [
    "mat[3:-3]"
   ]
  },
  {
   "cell_type": "code",
   "execution_count": 325,
   "id": "b979b387",
   "metadata": {},
   "outputs": [
    {
     "data": {
      "text/plain": [
       "array([[ 0,  1,  2,  3,  4,  5,  6,  7,  8,  9],\n",
       "       [30, 31, 32, 33, 34, 35, 36, 37, 38, 39],\n",
       "       [60, 61, 62, 63, 64, 65, 66, 67, 68, 69],\n",
       "       [90, 91, 92, 93, 94, 95, 96, 97, 98, 99]])"
      ]
     },
     "execution_count": 325,
     "metadata": {},
     "output_type": "execute_result"
    }
   ],
   "source": [
    "mat[::3]"
   ]
  },
  {
   "cell_type": "code",
   "execution_count": 323,
   "id": "e72c4678",
   "metadata": {},
   "outputs": [
    {
     "data": {
      "text/plain": [
       "array([[90, 91, 92, 93, 94, 95, 96, 97, 98, 99],\n",
       "       [60, 61, 62, 63, 64, 65, 66, 67, 68, 69],\n",
       "       [30, 31, 32, 33, 34, 35, 36, 37, 38, 39],\n",
       "       [ 0,  1,  2,  3,  4,  5,  6,  7,  8,  9]])"
      ]
     },
     "execution_count": 323,
     "metadata": {},
     "output_type": "execute_result"
    }
   ],
   "source": [
    "mat[::-3]"
   ]
  },
  {
   "cell_type": "code",
   "execution_count": 328,
   "id": "fc906410",
   "metadata": {},
   "outputs": [
    {
     "data": {
      "text/plain": [
       "array([[ 0,  1,  2,  3,  4,  5,  6,  7,  8,  9],\n",
       "       [10, 11, 12, 13, 14, 15, 16, 17, 18, 19],\n",
       "       [20, 21, 22, 23, 24, 25, 26, 27, 28, 29],\n",
       "       [30, 31, 32, 33, 34, 35, 36, 37, 38, 39],\n",
       "       [40, 41, 42, 43, 44, 45, 46, 47, 48, 49],\n",
       "       [50, 51, 52, 53, 54, 55, 56, 57, 58, 59],\n",
       "       [60, 61, 62, 63, 64, 65, 66, 67, 68, 69],\n",
       "       [70, 71, 72, 73, 74, 75, 76, 77, 78, 79],\n",
       "       [80, 81, 82, 83, 84, 85, 86, 87, 88, 89],\n",
       "       [90, 91, 92, 93, 94, 95, 96, 97, 98, 99]])"
      ]
     },
     "execution_count": 328,
     "metadata": {},
     "output_type": "execute_result"
    }
   ],
   "source": [
    "mat"
   ]
  },
  {
   "cell_type": "code",
   "execution_count": null,
   "id": "130a458a",
   "metadata": {},
   "outputs": [
    {
     "data": {
      "text/plain": [
       "array([[26, 27],\n",
       "       [36, 37],\n",
       "       [46, 47]])"
      ]
     },
     "execution_count": 329,
     "metadata": {},
     "output_type": "execute_result"
    }
   ],
   "source": [
    "mat[2:5,6:8] ## 2:5 --> only row part /// 6:8 -- it indicates only column parts"
   ]
  },
  {
   "cell_type": "code",
   "execution_count": 335,
   "id": "f9f2ab3e",
   "metadata": {},
   "outputs": [
    {
     "data": {
      "text/plain": [
       "array([51, 52, 53, 54, 55, 56, 57, 58, 59, 60, 61, 62, 63, 64, 65, 66, 67,\n",
       "       68, 69, 70, 71, 72, 73, 74, 75, 76, 77, 78, 79, 80, 81, 82, 83, 84,\n",
       "       85, 86, 87, 88, 89, 90, 91, 92, 93, 94, 95, 96, 97, 98, 99])"
      ]
     },
     "execution_count": 335,
     "metadata": {},
     "output_type": "execute_result"
    }
   ],
   "source": [
    "mat[mat>50]"
   ]
  },
  {
   "cell_type": "code",
   "execution_count": 336,
   "id": "06cbe995",
   "metadata": {},
   "outputs": [
    {
     "data": {
      "text/plain": [
       "array([50, 51, 52, 53, 54, 55, 56, 57, 58, 59, 60, 61, 62, 63, 64, 65, 66,\n",
       "       67, 68, 69, 70, 71, 72, 73, 74, 75, 76, 77, 78, 79, 80, 81, 82, 83,\n",
       "       84, 85, 86, 87, 88, 89, 90, 91, 92, 93, 94, 95, 96, 97, 98, 99])"
      ]
     },
     "execution_count": 336,
     "metadata": {},
     "output_type": "execute_result"
    }
   ],
   "source": [
    "mat[mat>=50]"
   ]
  },
  {
   "cell_type": "code",
   "execution_count": 337,
   "id": "45f83fd0",
   "metadata": {},
   "outputs": [
    {
     "data": {
      "text/plain": [
       "array([ 0,  1,  2,  3,  4,  5,  6,  7,  8,  9, 10, 11, 12, 13, 14, 15, 16,\n",
       "       17, 18, 19, 20, 21, 22, 23, 24, 25, 26, 27, 28, 29, 30, 31, 32, 33,\n",
       "       34, 35, 36, 37, 38, 39, 40, 41, 42, 43, 44, 45, 46, 47, 48, 49, 51,\n",
       "       52, 53, 54, 55, 56, 57, 58, 59, 60, 61, 62, 63, 64, 65, 66, 67, 68,\n",
       "       69, 70, 71, 72, 73, 74, 75, 76, 77, 78, 79, 80, 81, 82, 83, 84, 85,\n",
       "       86, 87, 88, 89, 90, 91, 92, 93, 94, 95, 96, 97, 98, 99])"
      ]
     },
     "execution_count": 337,
     "metadata": {},
     "output_type": "execute_result"
    }
   ],
   "source": [
    "mat[mat!=50]"
   ]
  },
  {
   "cell_type": "code",
   "execution_count": 338,
   "id": "55b3b1b4",
   "metadata": {},
   "outputs": [
    {
     "data": {
      "text/plain": [
       "array([50])"
      ]
     },
     "execution_count": 338,
     "metadata": {},
     "output_type": "execute_result"
    }
   ],
   "source": [
    "mat[mat==50]"
   ]
  },
  {
   "cell_type": "code",
   "execution_count": null,
   "id": "b8047d7f",
   "metadata": {},
   "outputs": [],
   "source": []
  }
 ],
 "metadata": {
  "kernelspec": {
   "display_name": "Python 3",
   "language": "python",
   "name": "python3"
  },
  "language_info": {
   "codemirror_mode": {
    "name": "ipython",
    "version": 3
   },
   "file_extension": ".py",
   "mimetype": "text/x-python",
   "name": "python",
   "nbconvert_exporter": "python",
   "pygments_lexer": "ipython3",
   "version": "3.13.5"
  }
 },
 "nbformat": 4,
 "nbformat_minor": 5
}
