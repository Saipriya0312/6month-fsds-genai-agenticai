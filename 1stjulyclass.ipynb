{
 "cells": [
  {
   "cell_type": "code",
   "execution_count": 1,
   "id": "0e4e6629-0c46-48bb-b610-bb4cb4f5efe3",
   "metadata": {},
   "outputs": [
    {
     "data": {
      "text/plain": [
       "'0b11001'"
      ]
     },
     "execution_count": 1,
     "metadata": {},
     "output_type": "execute_result"
    }
   ],
   "source": [
    "bin(25)"
   ]
  },
  {
   "cell_type": "code",
   "execution_count": 2,
   "id": "1c29c9d0-ac3e-430f-ad3a-68d11576876e",
   "metadata": {},
   "outputs": [
    {
     "data": {
      "text/plain": [
       "'0o31'"
      ]
     },
     "execution_count": 2,
     "metadata": {},
     "output_type": "execute_result"
    }
   ],
   "source": [
    "oct(25)"
   ]
  },
  {
   "cell_type": "code",
   "execution_count": 3,
   "id": "f3ce4d66-1006-4223-b5a4-de7457dbf58e",
   "metadata": {},
   "outputs": [
    {
     "data": {
      "text/plain": [
       "'0x19'"
      ]
     },
     "execution_count": 3,
     "metadata": {},
     "output_type": "execute_result"
    }
   ],
   "source": [
    "hex(25)"
   ]
  },
  {
   "cell_type": "code",
   "execution_count": 5,
   "id": "9cecc1fc-ab19-4b56-ae15-50e35ed96bd5",
   "metadata": {},
   "outputs": [
    {
     "data": {
      "text/plain": [
       "25"
      ]
     },
     "execution_count": 5,
     "metadata": {},
     "output_type": "execute_result"
    }
   ],
   "source": [
    "int(0b11001)"
   ]
  },
  {
   "cell_type": "code",
   "execution_count": 6,
   "id": "f88b8c05-12cd-438d-911b-788352a392d9",
   "metadata": {},
   "outputs": [
    {
     "data": {
      "text/plain": [
       "'0b11110'"
      ]
     },
     "execution_count": 6,
     "metadata": {},
     "output_type": "execute_result"
    }
   ],
   "source": [
    "bin(30)"
   ]
  },
  {
   "cell_type": "code",
   "execution_count": 7,
   "id": "34a7c253-0a85-4eed-a83d-96a6fccb5c44",
   "metadata": {},
   "outputs": [
    {
     "data": {
      "text/plain": [
       "'0x0'"
      ]
     },
     "execution_count": 7,
     "metadata": {},
     "output_type": "execute_result"
    }
   ],
   "source": [
    "hex(0)"
   ]
  },
  {
   "cell_type": "code",
   "execution_count": 8,
   "id": "a5ae7f46-8813-44ee-b3d6-34d3cc8d18d8",
   "metadata": {},
   "outputs": [
    {
     "data": {
      "text/plain": [
       "'0x2'"
      ]
     },
     "execution_count": 8,
     "metadata": {},
     "output_type": "execute_result"
    }
   ],
   "source": [
    "hex(2)"
   ]
  },
  {
   "cell_type": "code",
   "execution_count": 9,
   "id": "a6dc6bf2-a37b-4bfc-aac2-91eddfbb5f0e",
   "metadata": {},
   "outputs": [
    {
     "data": {
      "text/plain": [
       "'0xa'"
      ]
     },
     "execution_count": 9,
     "metadata": {},
     "output_type": "execute_result"
    }
   ],
   "source": [
    "hex(10)"
   ]
  },
  {
   "cell_type": "code",
   "execution_count": 10,
   "id": "a93b8dfe-7f23-4840-b315-188f2d73c90b",
   "metadata": {},
   "outputs": [
    {
     "data": {
      "text/plain": [
       "'0x9'"
      ]
     },
     "execution_count": 10,
     "metadata": {},
     "output_type": "execute_result"
    }
   ],
   "source": [
    "hex(9)"
   ]
  },
  {
   "cell_type": "code",
   "execution_count": 11,
   "id": "36a43ea3-d778-4535-bd52-e4f7db830fc4",
   "metadata": {},
   "outputs": [
    {
     "data": {
      "text/plain": [
       "'0xe'"
      ]
     },
     "execution_count": 11,
     "metadata": {},
     "output_type": "execute_result"
    }
   ],
   "source": [
    "hex(14)"
   ]
  },
  {
   "cell_type": "code",
   "execution_count": 13,
   "id": "a1f1f78a-89cb-4dcc-88ce-01953bcbdfc3",
   "metadata": {},
   "outputs": [
    {
     "data": {
      "text/plain": [
       "14"
      ]
     },
     "execution_count": 13,
     "metadata": {},
     "output_type": "execute_result"
    }
   ],
   "source": [
    "int(0xe)"
   ]
  },
  {
   "cell_type": "code",
   "execution_count": 14,
   "id": "89654ade-7dd2-4073-95cf-8a7ce4900f82",
   "metadata": {},
   "outputs": [
    {
     "data": {
      "text/plain": [
       "21"
      ]
     },
     "execution_count": 14,
     "metadata": {},
     "output_type": "execute_result"
    }
   ],
   "source": [
    "int(0x15)"
   ]
  },
  {
   "cell_type": "code",
   "execution_count": 16,
   "id": "c73c8ad5-b720-466d-a5b3-e82b4fa3f601",
   "metadata": {},
   "outputs": [
    {
     "data": {
      "text/plain": [
       "(7, 8)"
      ]
     },
     "execution_count": 16,
     "metadata": {},
     "output_type": "execute_result"
    }
   ],
   "source": [
    "a= 8\n",
    "v = 7\n",
    "a,v = v,a\n",
    "a,v"
   ]
  },
  {
   "cell_type": "code",
   "execution_count": 18,
   "id": "8f083a08-c0ad-4d23-a799-a3ff8eb62a6e",
   "metadata": {},
   "outputs": [
    {
     "data": {
      "text/plain": [
       "-2"
      ]
     },
     "execution_count": 18,
     "metadata": {},
     "output_type": "execute_result"
    }
   ],
   "source": [
    "~True"
   ]
  },
  {
   "cell_type": "code",
   "execution_count": 19,
   "id": "86ed02e4-3926-4454-8292-eae3cb0f24f0",
   "metadata": {},
   "outputs": [
    {
     "data": {
      "text/plain": [
       "-1"
      ]
     },
     "execution_count": 19,
     "metadata": {},
     "output_type": "execute_result"
    }
   ],
   "source": [
    "~0"
   ]
  },
  {
   "cell_type": "code",
   "execution_count": 20,
   "id": "a118bc8c-15e3-4714-8d33-8d6a356d6156",
   "metadata": {},
   "outputs": [
    {
     "data": {
      "text/plain": [
       "-13"
      ]
     },
     "execution_count": 20,
     "metadata": {},
     "output_type": "execute_result"
    }
   ],
   "source": [
    "~12\n"
   ]
  },
  {
   "cell_type": "code",
   "execution_count": 21,
   "id": "e5df75f3-5619-4394-b9f5-c93b6185623f",
   "metadata": {},
   "outputs": [
    {
     "data": {
      "text/plain": [
       "12"
      ]
     },
     "execution_count": 21,
     "metadata": {},
     "output_type": "execute_result"
    }
   ],
   "source": [
    "12 &13"
   ]
  },
  {
   "cell_type": "code",
   "execution_count": 23,
   "id": "2a103287-8bee-4a5a-a61f-f1f5044d05c3",
   "metadata": {},
   "outputs": [
    {
     "data": {
      "text/plain": [
       "13"
      ]
     },
     "execution_count": 23,
     "metadata": {},
     "output_type": "execute_result"
    }
   ],
   "source": [
    "12 | 13"
   ]
  },
  {
   "cell_type": "code",
   "execution_count": 24,
   "id": "ae26f9cb-bf84-49ed-a159-c1a35a6a39f1",
   "metadata": {},
   "outputs": [
    {
     "data": {
      "text/plain": [
       "1"
      ]
     },
     "execution_count": 24,
     "metadata": {},
     "output_type": "execute_result"
    }
   ],
   "source": [
    "1 |0  #or"
   ]
  },
  {
   "cell_type": "code",
   "execution_count": 25,
   "id": "09286c46-534a-4e95-aef7-576846f7eb4c",
   "metadata": {},
   "outputs": [
    {
     "data": {
      "text/plain": [
       "0"
      ]
     },
     "execution_count": 25,
     "metadata": {},
     "output_type": "execute_result"
    }
   ],
   "source": [
    "1& 0 # and"
   ]
  },
  {
   "cell_type": "code",
   "execution_count": 26,
   "id": "3a14f3bf-fb72-47c2-b5ff-30ce0913c643",
   "metadata": {},
   "outputs": [
    {
     "data": {
      "text/plain": [
       "-14"
      ]
     },
     "execution_count": 26,
     "metadata": {},
     "output_type": "execute_result"
    }
   ],
   "source": [
    "~13 # complement"
   ]
  },
  {
   "cell_type": "code",
   "execution_count": 27,
   "id": "76fc40eb-21b7-4694-a6bb-45c67a1062b5",
   "metadata": {},
   "outputs": [
    {
     "data": {
      "text/plain": [
       "7"
      ]
     },
     "execution_count": 27,
     "metadata": {},
     "output_type": "execute_result"
    }
   ],
   "source": [
    "25 ^ 30  #XoR"
   ]
  },
  {
   "cell_type": "code",
   "execution_count": 31,
   "id": "fa25eed0-7949-4e17-9edf-5b27c21cfb14",
   "metadata": {},
   "outputs": [
    {
     "data": {
      "text/plain": [
       "96"
      ]
     },
     "execution_count": 31,
     "metadata": {},
     "output_type": "execute_result"
    }
   ],
   "source": [
    "12 << 3"
   ]
  },
  {
   "cell_type": "code",
   "execution_count": 32,
   "id": "8e22044d-79ae-4e39-aee1-90573f808437",
   "metadata": {},
   "outputs": [
    {
     "data": {
      "text/plain": [
       "40"
      ]
     },
     "execution_count": 32,
     "metadata": {},
     "output_type": "execute_result"
    }
   ],
   "source": [
    "10<<2"
   ]
  },
  {
   "cell_type": "code",
   "execution_count": 36,
   "id": "066481f4-5552-4a25-b19f-d07c5038af03",
   "metadata": {},
   "outputs": [
    {
     "data": {
      "text/plain": [
       "2"
      ]
     },
     "execution_count": 36,
     "metadata": {},
     "output_type": "execute_result"
    }
   ],
   "source": [
    "10 >>2"
   ]
  },
  {
   "cell_type": "code",
   "execution_count": 34,
   "id": "d8e523b0-2c34-4e76-8056-3f2348cfa4a6",
   "metadata": {},
   "outputs": [
    {
     "data": {
      "text/plain": [
       "1"
      ]
     },
     "execution_count": 34,
     "metadata": {},
     "output_type": "execute_result"
    }
   ],
   "source": [
    "20 >>4"
   ]
  },
  {
   "cell_type": "code",
   "execution_count": 35,
   "id": "5cc3a0e4-1d0c-4e99-975f-b4fded93ba72",
   "metadata": {},
   "outputs": [
    {
     "data": {
      "text/plain": [
       "-2"
      ]
     },
     "execution_count": 35,
     "metadata": {},
     "output_type": "execute_result"
    }
   ],
   "source": [
    "~1"
   ]
  },
  {
   "cell_type": "code",
   "execution_count": null,
   "id": "ad22481c-f05b-4f5a-acc9-b28cf18d8d00",
   "metadata": {},
   "outputs": [],
   "source": []
  }
 ],
 "metadata": {
  "kernelspec": {
   "display_name": "Python 3 (ipykernel)",
   "language": "python",
   "name": "python3"
  },
  "language_info": {
   "codemirror_mode": {
    "name": "ipython",
    "version": 3
   },
   "file_extension": ".py",
   "mimetype": "text/x-python",
   "name": "python",
   "nbconvert_exporter": "python",
   "pygments_lexer": "ipython3",
   "version": "3.12.7"
  }
 },
 "nbformat": 4,
 "nbformat_minor": 5
}
