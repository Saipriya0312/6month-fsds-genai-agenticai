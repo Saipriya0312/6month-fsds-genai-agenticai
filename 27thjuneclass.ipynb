{
 "cells": [
  {
   "cell_type": "markdown",
   "id": "82b61d08-374b-48c1-9063-2d57d617ee22",
   "metadata": {},
   "source": [
    "# 27th June"
   ]
  },
  {
   "cell_type": "code",
   "execution_count": 1,
   "id": "f84dd219-0b71-4178-b2cc-7972477026c7",
   "metadata": {},
   "outputs": [
    {
     "data": {
      "text/plain": [
       "{1, 2, 3, 4, 5}"
      ]
     },
     "execution_count": 1,
     "metadata": {},
     "output_type": "execute_result"
    }
   ],
   "source": [
    "a = {1,2,3,4,5,6,7}\n",
    "b = {4,5,6,7,8,9,10}\n",
    "c = {6,7,8,9,0,12,13,14}\n",
    "a-c   # - means difference and Union means |  and symmetric difference is ^"
   ]
  },
  {
   "cell_type": "code",
   "execution_count": 2,
   "id": "7526f82b-b94c-4241-8133-e3f7ab7016af",
   "metadata": {},
   "outputs": [
    {
     "data": {
      "text/plain": [
       "{1, 2, 3, 8, 9, 10}"
      ]
     },
     "execution_count": 2,
     "metadata": {},
     "output_type": "execute_result"
    }
   ],
   "source": [
    "a.symmetric_difference(b)  # common elements removed"
   ]
  },
  {
   "cell_type": "code",
   "execution_count": 3,
   "id": "e0cba00f-5a49-4c07-9684-30ae9ab2016f",
   "metadata": {},
   "outputs": [
    {
     "data": {
      "text/plain": [
       "{0, 1, 2, 3, 4, 5, 8, 9, 12, 13, 14}"
      ]
     },
     "execution_count": 3,
     "metadata": {},
     "output_type": "execute_result"
    }
   ],
   "source": [
    "c ^ a"
   ]
  },
  {
   "cell_type": "code",
   "execution_count": 4,
   "id": "96eeabf9-0ff0-4263-8b0c-a731e74311c3",
   "metadata": {},
   "outputs": [
    {
     "data": {
      "text/plain": [
       "{1, 2, 3, 8, 9, 10}"
      ]
     },
     "execution_count": 4,
     "metadata": {},
     "output_type": "execute_result"
    }
   ],
   "source": [
    "a^b"
   ]
  },
  {
   "cell_type": "code",
   "execution_count": 10,
   "id": "c6a559cc-24ea-4e45-977a-803f59dd8486",
   "metadata": {},
   "outputs": [
    {
     "name": "stdout",
     "output_type": "stream",
     "text": [
      "{1, 2, 3, 4, 5, 7, 6}\n",
      "{4, 5, 6, 7, 8, 9, 10}\n",
      "{0, 6, 7, 8, 9, 12, 13, 14}\n"
     ]
    }
   ],
   "source": [
    "print(a) \n",
    "print(b) \n",
    "print(c)\n"
   ]
  },
  {
   "cell_type": "code",
   "execution_count": 44,
   "id": "446ff5ce-ba3f-4225-bc5b-d72f49a938bd",
   "metadata": {},
   "outputs": [
    {
     "ename": "NameError",
     "evalue": "name 'a' is not defined",
     "output_type": "error",
     "traceback": [
      "\u001b[1;31m---------------------------------------------------------------------------\u001b[0m",
      "\u001b[1;31mNameError\u001b[0m                                 Traceback (most recent call last)",
      "Cell \u001b[1;32mIn[44], line 1\u001b[0m\n\u001b[1;32m----> 1\u001b[0m a\n",
      "\u001b[1;31mNameError\u001b[0m: name 'a' is not defined"
     ]
    }
   ],
   "source": [
    "a"
   ]
  },
  {
   "cell_type": "code",
   "execution_count": 18,
   "id": "19607ee4-0145-472b-92c6-c83c2850ea41",
   "metadata": {},
   "outputs": [
    {
     "data": {
      "text/plain": [
       "{6, 7, 8, 9, 10, 11, 12}"
      ]
     },
     "execution_count": 18,
     "metadata": {},
     "output_type": "execute_result"
    }
   ],
   "source": [
    "b"
   ]
  },
  {
   "cell_type": "code",
   "execution_count": 43,
   "id": "e8b10312-1ba8-4a8e-8958-f1b7bd3e2459",
   "metadata": {},
   "outputs": [
    {
     "ename": "NameError",
     "evalue": "name 'a' is not defined",
     "output_type": "error",
     "traceback": [
      "\u001b[1;31m---------------------------------------------------------------------------\u001b[0m",
      "\u001b[1;31mNameError\u001b[0m                                 Traceback (most recent call last)",
      "Cell \u001b[1;32mIn[43], line 1\u001b[0m\n\u001b[1;32m----> 1\u001b[0m \u001b[38;5;28mprint\u001b[39m(a\u001b[38;5;241m.\u001b[39mintersection(b))\n\u001b[0;32m      2\u001b[0m \u001b[38;5;28mprint\u001b[39m(a \u001b[38;5;241m&\u001b[39m b)\n",
      "\u001b[1;31mNameError\u001b[0m: name 'a' is not defined"
     ]
    }
   ],
   "source": [
    "print(a.intersection(b))\n",
    "print(a & b)"
   ]
  },
  {
   "cell_type": "code",
   "execution_count": 20,
   "id": "4787e59e-57ba-4db8-a483-87ae73afd581",
   "metadata": {},
   "outputs": [],
   "source": [
    "\n",
    "a.symmetric_difference_update(b)"
   ]
  },
  {
   "cell_type": "code",
   "execution_count": 21,
   "id": "9f66c50c-cd94-472a-8ac8-d652554be369",
   "metadata": {},
   "outputs": [
    {
     "data": {
      "text/plain": [
       "{6, 7, 8, 9}"
      ]
     },
     "execution_count": 21,
     "metadata": {},
     "output_type": "execute_result"
    }
   ],
   "source": [
    "a & b & c"
   ]
  },
  {
   "cell_type": "code",
   "execution_count": 24,
   "id": "8342be5b-0c8d-4375-b9c8-130323501387",
   "metadata": {},
   "outputs": [
    {
     "name": "stdout",
     "output_type": "stream",
     "text": [
      "{1, 2, 3, 4, 5, 7, 6, 8, 9}\n",
      "{6, 7, 8, 9, 10, 11, 12}\n",
      "{4, 5, 6, 7, 8, 9}\n"
     ]
    }
   ],
   "source": [
    "print(a) \n",
    "print(b) \n",
    "print(c)"
   ]
  },
  {
   "cell_type": "code",
   "execution_count": 26,
   "id": "92556f9f-309c-4716-a7f8-07defade3f52",
   "metadata": {},
   "outputs": [],
   "source": [
    "c.intersection_update(b)"
   ]
  },
  {
   "cell_type": "code",
   "execution_count": null,
   "id": "7c5f9655-474d-486f-8e1c-6a8d1718aa45",
   "metadata": {},
   "outputs": [],
   "source": [
    "P = {1,2,3,4,5,6,7,8,9}\n",
    "Q = {3,4,5,6,7,8}\n",
    "R = {10,20,30,40}"
   ]
  },
  {
   "cell_type": "code",
   "execution_count": 1,
   "id": "6ed4b617-c895-4729-a18b-1d76c69e5a8e",
   "metadata": {},
   "outputs": [
    {
     "ename": "NameError",
     "evalue": "name 'P' is not defined",
     "output_type": "error",
     "traceback": [
      "\u001b[1;31m---------------------------------------------------------------------------\u001b[0m",
      "\u001b[1;31mNameError\u001b[0m                                 Traceback (most recent call last)",
      "Cell \u001b[1;32mIn[1], line 1\u001b[0m\n\u001b[1;32m----> 1\u001b[0m \u001b[38;5;28mprint\u001b[39m(P)\n",
      "\u001b[1;31mNameError\u001b[0m: name 'P' is not defined"
     ]
    }
   ],
   "source": [
    "print(P)"
   ]
  },
  {
   "cell_type": "code",
   "execution_count": 6,
   "id": "6d25b6c0-9e3e-44ea-af65-8cd04f6a9621",
   "metadata": {},
   "outputs": [
    {
     "data": {
      "text/plain": [
       "set"
      ]
     },
     "execution_count": 6,
     "metadata": {},
     "output_type": "execute_result"
    }
   ],
   "source": [
    "bos = {}\n",
    "type(bos)\n",
    "bos  = set()\n",
    "type(bos)"
   ]
  },
  {
   "cell_type": "code",
   "execution_count": 4,
   "id": "2bf95836-1ac0-447e-8251-fa41cc2171c6",
   "metadata": {},
   "outputs": [
    {
     "data": {
      "text/plain": [
       "set"
      ]
     },
     "execution_count": 4,
     "metadata": {},
     "output_type": "execute_result"
    }
   ],
   "source": [
    "s = {12,23,34,56}\n",
    "type(s)"
   ]
  },
  {
   "cell_type": "code",
   "execution_count": 7,
   "id": "61a6b137-2db3-4c34-b131-4759e8e05d65",
   "metadata": {},
   "outputs": [],
   "source": [
    "bos.add(10)"
   ]
  },
  {
   "cell_type": "code",
   "execution_count": 8,
   "id": "e2d80cbd-dde0-42a0-bfd2-9abb22a21899",
   "metadata": {},
   "outputs": [],
   "source": [
    "bos.add(20)"
   ]
  },
  {
   "cell_type": "code",
   "execution_count": 9,
   "id": "94a2d0b1-7891-4945-8785-56065f9f851d",
   "metadata": {},
   "outputs": [
    {
     "data": {
      "text/plain": [
       "{10, 20}"
      ]
     },
     "execution_count": 9,
     "metadata": {},
     "output_type": "execute_result"
    }
   ],
   "source": [
    "bos"
   ]
  },
  {
   "cell_type": "code",
   "execution_count": 11,
   "id": "fd6d8e06-d5f6-4add-9b4d-7daebecd9722",
   "metadata": {},
   "outputs": [],
   "source": [
    "bos.add(30)\n",
    "bos.add(40)\n",
    "bos.add(50)"
   ]
  },
  {
   "cell_type": "code",
   "execution_count": 12,
   "id": "4fabe501-75fe-4da3-940d-ede718df57e5",
   "metadata": {},
   "outputs": [
    {
     "data": {
      "text/plain": [
       "{10, 20, 30, 40, 50}"
      ]
     },
     "execution_count": 12,
     "metadata": {},
     "output_type": "execute_result"
    }
   ],
   "source": [
    "bos"
   ]
  },
  {
   "cell_type": "code",
   "execution_count": 13,
   "id": "e12db646-d138-4fe8-8b6a-d7dbe4e03960",
   "metadata": {},
   "outputs": [
    {
     "name": "stdout",
     "output_type": "stream",
     "text": [
      "{40, 10, 50, 20, 30}\n",
      "{40, 50, 30}\n",
      "{4, 5, 7, 8, 9}\n",
      "{50, 20, 40, 10, 60, 30}\n"
     ]
    }
   ],
   "source": [
    "bos1 = {30,40,50}\n",
    "bos2 = {5,4,5,7,8,9}\n",
    "bos3 = {10,20,30,40,50,60}\n",
    "print(bos)\n",
    "print(bos1)\n",
    "print(bos2)\n",
    "print(bos3)\n"
   ]
  },
  {
   "cell_type": "code",
   "execution_count": 14,
   "id": "4c87160f-fdaf-4edc-828a-31729db3ba1f",
   "metadata": {},
   "outputs": [
    {
     "data": {
      "text/plain": [
       "True"
      ]
     },
     "execution_count": 14,
     "metadata": {},
     "output_type": "execute_result"
    }
   ],
   "source": [
    "bos1.issubset(bos3)"
   ]
  },
  {
   "cell_type": "code",
   "execution_count": 16,
   "id": "9e317970-770f-4007-baeb-2bd5d7f92a45",
   "metadata": {},
   "outputs": [
    {
     "data": {
      "text/plain": [
       "True"
      ]
     },
     "execution_count": 16,
     "metadata": {},
     "output_type": "execute_result"
    }
   ],
   "source": [
    "bos3.issuperset(bos1)"
   ]
  },
  {
   "cell_type": "code",
   "execution_count": 20,
   "id": "9970822d-bca5-40b1-be70-32a3203f4b4c",
   "metadata": {},
   "outputs": [
    {
     "name": "stdout",
     "output_type": "stream",
     "text": [
      "{4, 5, 7, 40, 8, 9, 50, 30}\n",
      "{40, 50, 30}\n"
     ]
    }
   ],
   "source": [
    "print(bos1 | bos2)\n",
    "print(bos1 - bos2)"
   ]
  },
  {
   "cell_type": "code",
   "execution_count": 18,
   "id": "5a9a07c2-f076-4bcd-bd64-df7f75755f2b",
   "metadata": {},
   "outputs": [
    {
     "data": {
      "text/plain": [
       "{30, 40, 50}"
      ]
     },
     "execution_count": 18,
     "metadata": {},
     "output_type": "execute_result"
    }
   ],
   "source": [
    "bos1"
   ]
  },
  {
   "cell_type": "code",
   "execution_count": 21,
   "id": "804276e1-f273-474d-89a7-de9b9b271f44",
   "metadata": {},
   "outputs": [
    {
     "ename": "TypeError",
     "evalue": "'set' object is not subscriptable",
     "output_type": "error",
     "traceback": [
      "\u001b[1;31m---------------------------------------------------------------------------\u001b[0m",
      "\u001b[1;31mTypeError\u001b[0m                                 Traceback (most recent call last)",
      "Cell \u001b[1;32mIn[21], line 1\u001b[0m\n\u001b[1;32m----> 1\u001b[0m bos1[\u001b[38;5;241m2\u001b[39m]\n",
      "\u001b[1;31mTypeError\u001b[0m: 'set' object is not subscriptable"
     ]
    }
   ],
   "source": [
    "bos1[2]\n"
   ]
  },
  {
   "cell_type": "code",
   "execution_count": 23,
   "id": "1b221523-671b-41db-b6e1-041436e6a738",
   "metadata": {},
   "outputs": [
    {
     "ename": "TypeError",
     "evalue": "unhashable type: 'list'",
     "output_type": "error",
     "traceback": [
      "\u001b[1;31m---------------------------------------------------------------------------\u001b[0m",
      "\u001b[1;31mTypeError\u001b[0m                                 Traceback (most recent call last)",
      "Cell \u001b[1;32mIn[23], line 1\u001b[0m\n\u001b[1;32m----> 1\u001b[0m bos1\u001b[38;5;241m.\u001b[39madd([\u001b[38;5;241m1\u001b[39m,\u001b[38;5;241m2\u001b[39m,\u001b[38;5;241m3\u001b[39m])\n",
      "\u001b[1;31mTypeError\u001b[0m: unhashable type: 'list'"
     ]
    }
   ],
   "source": [
    "bos1.add([1,2,3])"
   ]
  },
  {
   "cell_type": "code",
   "execution_count": 24,
   "id": "d3ffc484-a95a-4e8e-b284-eb1d2dbfd0ba",
   "metadata": {},
   "outputs": [
    {
     "data": {
      "text/plain": [
       "True"
      ]
     },
     "execution_count": 24,
     "metadata": {},
     "output_type": "execute_result"
    }
   ],
   "source": [
    "bos1.isdisjoint(bos2)"
   ]
  },
  {
   "cell_type": "code",
   "execution_count": 25,
   "id": "0c1fb258-3357-4cd1-b648-8750ce941908",
   "metadata": {},
   "outputs": [
    {
     "name": "stdout",
     "output_type": "stream",
     "text": [
      "{40, 10, 50, 20, 30}\n",
      "{40, 50, 30}\n",
      "{4, 5, 7, 8, 9}\n",
      "{50, 20, 40, 10, 60, 30}\n"
     ]
    }
   ],
   "source": [
    "print(bos)\n",
    "print(bos1)\n",
    "print(bos2)\n",
    "print(bos3)\n"
   ]
  },
  {
   "cell_type": "code",
   "execution_count": 26,
   "id": "628f9151-c4b8-4257-a21d-cc1d4c5d25e1",
   "metadata": {},
   "outputs": [
    {
     "data": {
      "text/plain": [
       "False"
      ]
     },
     "execution_count": 26,
     "metadata": {},
     "output_type": "execute_result"
    }
   ],
   "source": [
    "bos.isdisjoint(bos1)"
   ]
  },
  {
   "cell_type": "code",
   "execution_count": 27,
   "id": "eb115f11-a477-4384-b270-89d8645c341d",
   "metadata": {},
   "outputs": [
    {
     "data": {
      "text/plain": [
       "{10, 20}"
      ]
     },
     "execution_count": 27,
     "metadata": {},
     "output_type": "execute_result"
    }
   ],
   "source": [
    "bos.symmetric_difference(bos1)"
   ]
  },
  {
   "cell_type": "code",
   "execution_count": 30,
   "id": "e72eb788-5772-4f26-885f-158686c08899",
   "metadata": {},
   "outputs": [],
   "source": [
    "bos.symmetric_difference_update(bos3)"
   ]
  },
  {
   "cell_type": "code",
   "execution_count": 31,
   "id": "1a21a7f3-411f-48bb-a0e2-c213cb647523",
   "metadata": {},
   "outputs": [
    {
     "data": {
      "text/plain": [
       "{10, 20}"
      ]
     },
     "execution_count": 31,
     "metadata": {},
     "output_type": "execute_result"
    }
   ],
   "source": [
    "bos.difference(bos1)"
   ]
  },
  {
   "cell_type": "code",
   "execution_count": 32,
   "id": "3bda3001-baa8-426e-bc1b-423c269e884c",
   "metadata": {},
   "outputs": [
    {
     "data": {
      "text/plain": [
       "{10, 20}"
      ]
     },
     "execution_count": 32,
     "metadata": {},
     "output_type": "execute_result"
    }
   ],
   "source": [
    "bos -bos1"
   ]
  },
  {
   "cell_type": "code",
   "execution_count": 45,
   "id": "12bbb7a5-bc82-4d49-803b-1b4a3daf4635",
   "metadata": {},
   "outputs": [
    {
     "name": "stdout",
     "output_type": "stream",
     "text": [
      "{50, 20, 40, 10, 30}\n",
      "{50, 20, 40, 10, 30}\n",
      "{40, 50, 30}\n",
      "{40, 50, 30}\n"
     ]
    }
   ],
   "source": [
    "print(bos.union(bos1))\n",
    "print(bos | bos1)\n",
    "\n",
    "print(bos.intersection(bos1))\n",
    "print(bos & bos1)"
   ]
  },
  {
   "cell_type": "code",
   "execution_count": 36,
   "id": "39f727e3-90d7-45d3-8842-d60400ad854e",
   "metadata": {},
   "outputs": [
    {
     "name": "stdout",
     "output_type": "stream",
     "text": [
      "{50, 20, 40, 10, 30}\n",
      "{40, 50, 30}\n",
      "{4, 5, 7, 8, 9}\n",
      "{50, 20, 40, 10, 60, 30}\n"
     ]
    }
   ],
   "source": [
    "print(bos)\n",
    "print(bos1)\n",
    "print(bos2)\n",
    "print(bos3)\n"
   ]
  },
  {
   "cell_type": "code",
   "execution_count": 46,
   "id": "6c9e1306-3914-4a7b-bc43-76ad9d56042c",
   "metadata": {},
   "outputs": [
    {
     "name": "stdout",
     "output_type": "stream",
     "text": [
      "set()\n"
     ]
    }
   ],
   "source": [
    "print(bos & bos1 & bos2)"
   ]
  },
  {
   "cell_type": "code",
   "execution_count": 48,
   "id": "5c2fbefd-61f0-4504-ad5b-6d2b1e0dc473",
   "metadata": {},
   "outputs": [
    {
     "data": {
      "text/plain": [
       "{60}"
      ]
     },
     "execution_count": 48,
     "metadata": {},
     "output_type": "execute_result"
    }
   ],
   "source": [
    "bos ^ bos3"
   ]
  },
  {
   "cell_type": "code",
   "execution_count": 49,
   "id": "054d4cbb-cfa4-49cb-bb7d-bf92f530b745",
   "metadata": {},
   "outputs": [
    {
     "data": {
      "text/plain": [
       "{10, 20}"
      ]
     },
     "execution_count": 49,
     "metadata": {},
     "output_type": "execute_result"
    }
   ],
   "source": [
    "bos ^ bos1"
   ]
  },
  {
   "cell_type": "code",
   "execution_count": 50,
   "id": "3ef6f7e0-592a-4c79-bcf6-24bcac8d43de",
   "metadata": {},
   "outputs": [
    {
     "name": "stdout",
     "output_type": "stream",
     "text": [
      "{50, 20, 40, 10, 30}\n",
      "{40, 50, 30}\n",
      "{4, 5, 7, 8, 9}\n",
      "{50, 20, 40, 10, 60, 30}\n"
     ]
    }
   ],
   "source": [
    "print(bos)\n",
    "print(bos1)\n",
    "print(bos2)\n",
    "print(bos3)\n"
   ]
  },
  {
   "cell_type": "code",
   "execution_count": 67,
   "id": "2d00d27e-1adf-4a3d-8d3a-924541b2a72f",
   "metadata": {},
   "outputs": [
    {
     "data": {
      "text/plain": [
       "{10, 20}"
      ]
     },
     "execution_count": 67,
     "metadata": {},
     "output_type": "execute_result"
    }
   ],
   "source": [
    "bos.symmetric_difference_update(bos3)\n",
    "bos"
   ]
  },
  {
   "cell_type": "code",
   "execution_count": 55,
   "id": "6ce19637-fbe6-4ea2-879d-5db6a7892f4c",
   "metadata": {},
   "outputs": [],
   "source": [
    "bos1.symmetric_difference_update(bos3)"
   ]
  },
  {
   "cell_type": "code",
   "execution_count": 84,
   "id": "3ace2fc4-90e5-4a8d-829f-2abc830cd95d",
   "metadata": {},
   "outputs": [
    {
     "name": "stdout",
     "output_type": "stream",
     "text": [
      "{1, 2, 3, 4, 5, 6}\n",
      "{4, 5, 6, 7, 8, 9}\n",
      "{1, 2, 3, 4, 5, 6, 7, 8, 9}\n",
      "{1, 2, 3, 7, 8, 9}\n"
     ]
    },
    {
     "data": {
      "text/plain": [
       "{1, 2, 3, 7, 8, 9}"
      ]
     },
     "execution_count": 84,
     "metadata": {},
     "output_type": "execute_result"
    }
   ],
   "source": [
    " t1 = {1,2,3,4,5,6}\n",
    "t2 = {4,5,6,7,8,9}\n",
    "t3 = {1,2,3,4,5,6,7,8,9}\n",
    "print(t1)\n",
    "print(t2)\n",
    "print(t3)\n",
    "print(t1.symmetric_difference(t2))\n",
    "t1.symmetric_difference_update(t2)\n",
    "t1"
   ]
  },
  {
   "cell_type": "code",
   "execution_count": 63,
   "id": "cc3e648c-043f-4fd7-bb0a-8000949b4fcd",
   "metadata": {},
   "outputs": [
    {
     "data": {
      "text/plain": [
       "{4, 5, 6}"
      ]
     },
     "execution_count": 63,
     "metadata": {},
     "output_type": "execute_result"
    }
   ],
   "source": [
    "t1.intersection(t2)\n",
    "t1"
   ]
  },
  {
   "cell_type": "code",
   "execution_count": 86,
   "id": "81473cac-4319-451d-8cfc-c2e34b6d94b4",
   "metadata": {},
   "outputs": [
    {
     "name": "stdout",
     "output_type": "stream",
     "text": [
      "{8, 9, 7}\n"
     ]
    }
   ],
   "source": [
    "t1.intersection_update(t2)\n",
    "print(t1)"
   ]
  },
  {
   "cell_type": "code",
   "execution_count": 87,
   "id": "0048c57d-edb8-4b15-97cb-20ecafd01e6a",
   "metadata": {},
   "outputs": [
    {
     "data": {
      "text/plain": [
       "False"
      ]
     },
     "execution_count": 87,
     "metadata": {},
     "output_type": "execute_result"
    }
   ],
   "source": [
    "t1.isdisjoint(t2)"
   ]
  },
  {
   "cell_type": "code",
   "execution_count": 88,
   "id": "d5faae77-6b50-4dd0-82d0-ba6d1ab1702b",
   "metadata": {},
   "outputs": [
    {
     "data": {
      "text/plain": [
       "True"
      ]
     },
     "execution_count": 88,
     "metadata": {},
     "output_type": "execute_result"
    }
   ],
   "source": [
    "t = {10,0,30,45,67}\n",
    "t1.isdisjoint(t)"
   ]
  },
  {
   "cell_type": "markdown",
   "id": "aac5fa9a-e076-4ff5-9b07-080a26036ea5",
   "metadata": {},
   "source": [
    "# dict"
   ]
  },
  {
   "cell_type": "code",
   "execution_count": 89,
   "id": "87741e25-db22-464f-95f9-d20400903a96",
   "metadata": {},
   "outputs": [
    {
     "data": {
      "text/plain": [
       "dict"
      ]
     },
     "execution_count": 89,
     "metadata": {},
     "output_type": "execute_result"
    }
   ],
   "source": [
    "d = {}\n",
    "type(d)"
   ]
  },
  {
   "cell_type": "code",
   "execution_count": 90,
   "id": "8e08f8f4-4751-490a-b5d1-6d35ba78a248",
   "metadata": {},
   "outputs": [
    {
     "name": "stdout",
     "output_type": "stream",
     "text": [
      "{1: 'one', 2: 'two'}\n"
     ]
    }
   ],
   "source": [
    "d1 = {1: 'one',2:'two'}\n",
    "print(d1)"
   ]
  },
  {
   "cell_type": "code",
   "execution_count": 91,
   "id": "a2aac947-3aa5-41f1-8167-b9a67246ce0d",
   "metadata": {},
   "outputs": [
    {
     "data": {
      "text/plain": [
       "dict_keys([1, 2])"
      ]
     },
     "execution_count": 91,
     "metadata": {},
     "output_type": "execute_result"
    }
   ],
   "source": [
    "d1.keys()"
   ]
  },
  {
   "cell_type": "code",
   "execution_count": 92,
   "id": "5173d334-275a-48b8-a479-d82fcc943bfe",
   "metadata": {},
   "outputs": [
    {
     "data": {
      "text/plain": [
       "dict_values(['one', 'two'])"
      ]
     },
     "execution_count": 92,
     "metadata": {},
     "output_type": "execute_result"
    }
   ],
   "source": [
    "d1.values()"
   ]
  },
  {
   "cell_type": "code",
   "execution_count": 93,
   "id": "23ae0745-3a3c-41b6-93a3-03d23ce355c4",
   "metadata": {},
   "outputs": [
    {
     "data": {
      "text/plain": [
       "dict_items([(1, 'one'), (2, 'two')])"
      ]
     },
     "execution_count": 93,
     "metadata": {},
     "output_type": "execute_result"
    }
   ],
   "source": [
    "d1.items()"
   ]
  },
  {
   "cell_type": "code",
   "execution_count": 94,
   "id": "781b3edb-1468-45d0-8816-033acf91b22c",
   "metadata": {},
   "outputs": [
    {
     "data": {
      "text/plain": [
       "2"
      ]
     },
     "execution_count": 94,
     "metadata": {},
     "output_type": "execute_result"
    }
   ],
   "source": [
    "len(d1)"
   ]
  },
  {
   "cell_type": "code",
   "execution_count": 96,
   "id": "6b5e9995-86b1-4130-bd86-02f5067fc253",
   "metadata": {},
   "outputs": [],
   "source": [
    "set1 = {12,23,45,56,67}\n",
    "set1.update([78,89,90,11])"
   ]
  },
  {
   "cell_type": "code",
   "execution_count": 97,
   "id": "62988584-1d5c-4bc8-8c1b-d2a780939438",
   "metadata": {},
   "outputs": [
    {
     "data": {
      "text/plain": [
       "{11, 12, 23, 45, 56, 67, 78, 89, 90}"
      ]
     },
     "execution_count": 97,
     "metadata": {},
     "output_type": "execute_result"
    }
   ],
   "source": [
    "set1"
   ]
  },
  {
   "cell_type": "code",
   "execution_count": 99,
   "id": "0de5eea4-6f7a-4634-9277-3b8976db2cd7",
   "metadata": {},
   "outputs": [],
   "source": [
    "d1.update({3:'three',4:'four'})"
   ]
  },
  {
   "cell_type": "code",
   "execution_count": 100,
   "id": "708259cf-8a27-430e-9d9a-cb08d2d3f936",
   "metadata": {},
   "outputs": [
    {
     "data": {
      "text/plain": [
       "{1: 'one', 2: 'two', 3: 'three', 4: 'four'}"
      ]
     },
     "execution_count": 100,
     "metadata": {},
     "output_type": "execute_result"
    }
   ],
   "source": [
    "d1"
   ]
  },
  {
   "cell_type": "code",
   "execution_count": 107,
   "id": "d8cae507-cabe-4cdb-967a-88bcb397471e",
   "metadata": {},
   "outputs": [],
   "source": [
    "keys = {'a','b','c','d'}\n",
    "d2 = dict.fromkeys(keys)"
   ]
  },
  {
   "cell_type": "code",
   "execution_count": 108,
   "id": "1cb88350-3574-49fe-b5b4-6429cc200fa9",
   "metadata": {},
   "outputs": [
    {
     "data": {
      "text/plain": [
       "{'b': None, 'd': None, 'c': None, 'a': None}"
      ]
     },
     "execution_count": 108,
     "metadata": {},
     "output_type": "execute_result"
    }
   ],
   "source": [
    "d2"
   ]
  },
  {
   "cell_type": "code",
   "execution_count": 118,
   "id": "92674e5e-262a-400a-81e6-37305e9663d8",
   "metadata": {},
   "outputs": [],
   "source": [
    "values = ['10','20','30','40']\n",
    "d2 = dict.fromkeys(keys,values)"
   ]
  },
  {
   "cell_type": "code",
   "execution_count": 119,
   "id": "4d25eac3-701b-4bd0-bea7-5989213d8a7c",
   "metadata": {},
   "outputs": [
    {
     "data": {
      "text/plain": [
       "{'b': ['10', '20', '30', '40'],\n",
       " 'd': ['10', '20', '30', '40'],\n",
       " 'c': ['10', '20', '30', '40'],\n",
       " 'a': ['10', '20', '30', '40']}"
      ]
     },
     "execution_count": 119,
     "metadata": {},
     "output_type": "execute_result"
    }
   ],
   "source": [
    "d2"
   ]
  },
  {
   "cell_type": "code",
   "execution_count": 122,
   "id": "cde49e7a-12c8-46f0-9d3b-4283ac70accf",
   "metadata": {},
   "outputs": [
    {
     "data": {
      "text/plain": [
       "['10', '20', '30', '40', '50']"
      ]
     },
     "execution_count": 122,
     "metadata": {},
     "output_type": "execute_result"
    }
   ],
   "source": [
    "values.append('50')\n",
    "values"
   ]
  },
  {
   "cell_type": "code",
   "execution_count": 124,
   "id": "d482283e-1616-490c-9e9e-e03cbbe6e8a7",
   "metadata": {},
   "outputs": [],
   "source": [
    "d3 = dict()\n",
    "d3 = dict.fromkeys(keys,values)"
   ]
  },
  {
   "cell_type": "code",
   "execution_count": 125,
   "id": "87da39aa-1485-49fb-b9d4-15fdcbc85591",
   "metadata": {},
   "outputs": [
    {
     "data": {
      "text/plain": [
       "{'b': ['10', '20', '30', '40', '50'],\n",
       " 'd': ['10', '20', '30', '40', '50'],\n",
       " 'c': ['10', '20', '30', '40', '50'],\n",
       " 'a': ['10', '20', '30', '40', '50']}"
      ]
     },
     "execution_count": 125,
     "metadata": {},
     "output_type": "execute_result"
    }
   ],
   "source": [
    "d3"
   ]
  },
  {
   "cell_type": "code",
   "execution_count": 129,
   "id": "6c61a8f1-cd7c-40b3-9f77-41e74383e663",
   "metadata": {},
   "outputs": [],
   "source": [
    "d4 = {'e':'55'}\n",
    "d3.update(d4)"
   ]
  },
  {
   "cell_type": "code",
   "execution_count": 130,
   "id": "28298612-a9e5-4fc6-8ec1-568ff6f24ce7",
   "metadata": {},
   "outputs": [
    {
     "data": {
      "text/plain": [
       "{'b': ['10', '20', '30', '40', '50'],\n",
       " 'd': ['10', '20', '30', '40', '50'],\n",
       " 'c': ['10', '20', '30', '40', '50'],\n",
       " 'a': ['10', '20', '30', '40', '50'],\n",
       " 'e': '55'}"
      ]
     },
     "execution_count": 130,
     "metadata": {},
     "output_type": "execute_result"
    }
   ],
   "source": [
    "d3"
   ]
  },
  {
   "cell_type": "code",
   "execution_count": 132,
   "id": "cdd683b0-240d-404c-94e9-0b79ef85f41a",
   "metadata": {},
   "outputs": [
    {
     "data": {
      "text/plain": [
       "{'Name': 'Asif', 'ID': 74123, 'DOB': 1991, 'job': 'Analyst'}"
      ]
     },
     "execution_count": 132,
     "metadata": {},
     "output_type": "execute_result"
    }
   ],
   "source": [
    "dic1 = {'Name':'Asif' , 'ID': 74123 , 'DOB': 1991 , 'job' :'Analyst'}\n",
    "dic1"
   ]
  },
  {
   "cell_type": "code",
   "execution_count": 133,
   "id": "b55b2a2c-b6c2-427e-bc7e-e2fba476ca17",
   "metadata": {},
   "outputs": [],
   "source": [
    "dic2 = dict()"
   ]
  },
  {
   "cell_type": "code",
   "execution_count": 140,
   "id": "7b3cb276-f820-4f64-8cfd-2087b65f5582",
   "metadata": {},
   "outputs": [],
   "source": [
    "dic2 = {'job' : 'Manager'}"
   ]
  },
  {
   "cell_type": "code",
   "execution_count": 141,
   "id": "908ac20d-dbf8-4d0b-9bc9-04de4b6cb6c8",
   "metadata": {},
   "outputs": [],
   "source": [
    "dic1.update(dic2)"
   ]
  },
  {
   "cell_type": "code",
   "execution_count": 142,
   "id": "55855dc7-86b7-404b-af84-d38385f76f47",
   "metadata": {},
   "outputs": [
    {
     "data": {
      "text/plain": [
       "{'Name': 'Asif', 'ID': 23567, 'DOB': 1991, 'job': 'Manager'}"
      ]
     },
     "execution_count": 142,
     "metadata": {},
     "output_type": "execute_result"
    }
   ],
   "source": [
    "dic1"
   ]
  },
  {
   "cell_type": "code",
   "execution_count": 145,
   "id": "32599f40-6044-4976-a6a7-e1deb3d4181d",
   "metadata": {},
   "outputs": [
    {
     "data": {
      "text/plain": [
       "23567"
      ]
     },
     "execution_count": 145,
     "metadata": {},
     "output_type": "execute_result"
    }
   ],
   "source": [
    "dic1.pop('ID')"
   ]
  },
  {
   "cell_type": "code",
   "execution_count": 146,
   "id": "c41da8bf-5ac8-49a0-a5b6-43a1a3061521",
   "metadata": {},
   "outputs": [
    {
     "data": {
      "text/plain": [
       "{'Name': 'Asif', 'DOB': 1991}"
      ]
     },
     "execution_count": 146,
     "metadata": {},
     "output_type": "execute_result"
    }
   ],
   "source": [
    "dic1"
   ]
  },
  {
   "cell_type": "code",
   "execution_count": 147,
   "id": "599e3766-575c-4acc-9e2c-3374895b7fa8",
   "metadata": {},
   "outputs": [],
   "source": [
    "dic1.clear()"
   ]
  },
  {
   "cell_type": "code",
   "execution_count": 148,
   "id": "2ed43683-a218-41b8-a58d-dd92aac4d968",
   "metadata": {},
   "outputs": [
    {
     "data": {
      "text/plain": [
       "{}"
      ]
     },
     "execution_count": 148,
     "metadata": {},
     "output_type": "execute_result"
    }
   ],
   "source": [
    "dic1"
   ]
  },
  {
   "cell_type": "code",
   "execution_count": 149,
   "id": "e84e9392-b1fa-4aec-a4ea-9f4fb2996eaf",
   "metadata": {},
   "outputs": [
    {
     "data": {
      "text/plain": [
       "{'job': 'Manager'}"
      ]
     },
     "execution_count": 149,
     "metadata": {},
     "output_type": "execute_result"
    }
   ],
   "source": [
    "dic2"
   ]
  },
  {
   "cell_type": "code",
   "execution_count": 150,
   "id": "afda3dc8-485a-4e71-aafe-ecabf4fac0fb",
   "metadata": {},
   "outputs": [],
   "source": [
    "del dic2"
   ]
  },
  {
   "cell_type": "code",
   "execution_count": 151,
   "id": "91ab4b8b-d6ea-46ae-ab46-2282a286b8ff",
   "metadata": {},
   "outputs": [
    {
     "ename": "NameError",
     "evalue": "name 'dic2' is not defined",
     "output_type": "error",
     "traceback": [
      "\u001b[1;31m---------------------------------------------------------------------------\u001b[0m",
      "\u001b[1;31mNameError\u001b[0m                                 Traceback (most recent call last)",
      "Cell \u001b[1;32mIn[151], line 1\u001b[0m\n\u001b[1;32m----> 1\u001b[0m dic2\n",
      "\u001b[1;31mNameError\u001b[0m: name 'dic2' is not defined"
     ]
    }
   ],
   "source": [
    "dic2"
   ]
  },
  {
   "cell_type": "code",
   "execution_count": 152,
   "id": "704d46dc-5b79-411d-a46b-43a927f20082",
   "metadata": {},
   "outputs": [],
   "source": [
    "dic1 = {'Name':'Asif' , 'ID': 74123 , 'DOB': 1991 , 'job' :'Analyst'}"
   ]
  },
  {
   "cell_type": "code",
   "execution_count": 153,
   "id": "726baa1c-0fc0-467c-ab0a-5a23c0134567",
   "metadata": {},
   "outputs": [
    {
     "data": {
      "text/plain": [
       "{'Name': 'Asif', 'ID': 74123, 'DOB': 1991, 'job': 'Analyst'}"
      ]
     },
     "execution_count": 153,
     "metadata": {},
     "output_type": "execute_result"
    }
   ],
   "source": [
    "dic1"
   ]
  },
  {
   "cell_type": "code",
   "execution_count": 154,
   "id": "dc27c0d2-7d08-4636-9dc4-380eeef4fd19",
   "metadata": {},
   "outputs": [],
   "source": [
    "del(dic1['ID'])"
   ]
  },
  {
   "cell_type": "code",
   "execution_count": 155,
   "id": "229e8be2-513d-4b3b-9ffa-24b552fb99e4",
   "metadata": {},
   "outputs": [
    {
     "data": {
      "text/plain": [
       "{'Name': 'Asif', 'DOB': 1991, 'job': 'Analyst'}"
      ]
     },
     "execution_count": 155,
     "metadata": {},
     "output_type": "execute_result"
    }
   ],
   "source": [
    "dic1"
   ]
  },
  {
   "cell_type": "code",
   "execution_count": 156,
   "id": "4d01d76f-6de4-4f34-afce-2b16a700948a",
   "metadata": {},
   "outputs": [],
   "source": [
    "dic2 = dic1"
   ]
  },
  {
   "cell_type": "code",
   "execution_count": 157,
   "id": "a6d18789-9bb7-4410-84ec-fc3ef5117bf6",
   "metadata": {},
   "outputs": [
    {
     "data": {
      "text/plain": [
       "{'Name': 'Asif', 'DOB': 1991, 'job': 'Analyst'}"
      ]
     },
     "execution_count": 157,
     "metadata": {},
     "output_type": "execute_result"
    }
   ],
   "source": [
    "dic2"
   ]
  },
  {
   "cell_type": "code",
   "execution_count": 161,
   "id": "9549db1e-ef90-41f4-b315-fb1fd0e27aa1",
   "metadata": {},
   "outputs": [],
   "source": [
    "dic3 = dic1.copy()"
   ]
  },
  {
   "cell_type": "code",
   "execution_count": 162,
   "id": "e16754b2-1038-4a0b-86e5-e96be150dc9b",
   "metadata": {},
   "outputs": [
    {
     "data": {
      "text/plain": [
       "{'Name': 'Asif', 'DOB': 1991, 'job': 'Analyst'}"
      ]
     },
     "execution_count": 162,
     "metadata": {},
     "output_type": "execute_result"
    }
   ],
   "source": [
    "dic3"
   ]
  },
  {
   "cell_type": "code",
   "execution_count": 163,
   "id": "90884ed9-5ee1-47dc-911a-bbb15dd9f702",
   "metadata": {},
   "outputs": [
    {
     "name": "stdout",
     "output_type": "stream",
     "text": [
      "1977216164224\n",
      "1977216164224\n",
      "1977067546688\n"
     ]
    }
   ],
   "source": [
    "print(id(dic1))\n",
    "print(id(dic2))\n",
    "print(id(dic3))\n"
   ]
  },
  {
   "cell_type": "code",
   "execution_count": 174,
   "id": "04fe5084-3355-4a36-91e4-0f26fa508ff4",
   "metadata": {},
   "outputs": [
    {
     "name": "stdout",
     "output_type": "stream",
     "text": [
      "Name : Asif\n",
      "DOB : 1991\n",
      "job : Analyst\n"
     ]
    }
   ],
   "source": [
    "for i in dic1:\n",
    "    print(i,':', dic1[i])"
   ]
  },
  {
   "cell_type": "code",
   "execution_count": 175,
   "id": "b0e0cef7-3eae-4a81-bb46-f15173ce2b07",
   "metadata": {},
   "outputs": [
    {
     "data": {
      "text/plain": [
       "True"
      ]
     },
     "execution_count": 175,
     "metadata": {},
     "output_type": "execute_result"
    }
   ],
   "source": [
    "'job' in dic1"
   ]
  },
  {
   "cell_type": "code",
   "execution_count": 176,
   "id": "e0fc36bf-f3d6-49aa-8dad-8b035eda5ece",
   "metadata": {},
   "outputs": [
    {
     "data": {
      "text/plain": [
       "True"
      ]
     },
     "execution_count": 176,
     "metadata": {},
     "output_type": "execute_result"
    }
   ],
   "source": [
    "all(dic1)"
   ]
  },
  {
   "cell_type": "code",
   "execution_count": 177,
   "id": "c6e21b76-e342-480e-8773-b937e7d788cd",
   "metadata": {},
   "outputs": [
    {
     "data": {
      "text/plain": [
       "True"
      ]
     },
     "execution_count": 177,
     "metadata": {},
     "output_type": "execute_result"
    }
   ],
   "source": [
    "any(dic1)"
   ]
  },
  {
   "cell_type": "code",
   "execution_count": 178,
   "id": "6f47ccb9-af24-4677-a1fe-d4361e5442b8",
   "metadata": {},
   "outputs": [],
   "source": [
    "di = {'0':'0'}\n",
    "dic1.update(di)"
   ]
  },
  {
   "cell_type": "code",
   "execution_count": 179,
   "id": "8870d287-c308-40b1-b33e-2b607f235ca0",
   "metadata": {},
   "outputs": [
    {
     "data": {
      "text/plain": [
       "{'Name': 'Asif', 'DOB': 1991, 'job': 'Analyst', '0': '0'}"
      ]
     },
     "execution_count": 179,
     "metadata": {},
     "output_type": "execute_result"
    }
   ],
   "source": [
    "dic1"
   ]
  },
  {
   "cell_type": "code",
   "execution_count": 180,
   "id": "f2b4b2e6-fdb5-44a0-841e-3f1adb3446f6",
   "metadata": {},
   "outputs": [
    {
     "data": {
      "text/plain": [
       "True"
      ]
     },
     "execution_count": 180,
     "metadata": {},
     "output_type": "execute_result"
    }
   ],
   "source": [
    "all(dic1)"
   ]
  },
  {
   "cell_type": "code",
   "execution_count": 181,
   "id": "16f13c08-6bd0-4d1a-b791-bf956975bc04",
   "metadata": {},
   "outputs": [
    {
     "data": {
      "text/plain": [
       "True"
      ]
     },
     "execution_count": 181,
     "metadata": {},
     "output_type": "execute_result"
    }
   ],
   "source": [
    "any(dic1)"
   ]
  },
  {
   "cell_type": "code",
   "execution_count": 182,
   "id": "eb53959a-4e02-462f-b423-2076adfc2ce2",
   "metadata": {},
   "outputs": [
    {
     "ename": "TypeError",
     "evalue": "unsupported operand type(s) for +: 'int' and 'str'",
     "output_type": "error",
     "traceback": [
      "\u001b[1;31m---------------------------------------------------------------------------\u001b[0m",
      "\u001b[1;31mTypeError\u001b[0m                                 Traceback (most recent call last)",
      "Cell \u001b[1;32mIn[182], line 1\u001b[0m\n\u001b[1;32m----> 1\u001b[0m \u001b[38;5;241m10\u001b[39m \u001b[38;5;241m+\u001b[39m\u001b[38;5;124m'\u001b[39m\u001b[38;5;124m5\u001b[39m\u001b[38;5;124m'\u001b[39m\n",
      "\u001b[1;31mTypeError\u001b[0m: unsupported operand type(s) for +: 'int' and 'str'"
     ]
    }
   ],
   "source": [
    "10 +'5'"
   ]
  },
  {
   "cell_type": "code",
   "execution_count": 184,
   "id": "26f02d3f-82e9-4532-9b07-c81ee3ae5960",
   "metadata": {},
   "outputs": [
    {
     "name": "stdout",
     "output_type": "stream",
     "text": [
      "Hello "
     ]
    }
   ],
   "source": [
    "print(\"Hello\", end=\" \") "
   ]
  },
  {
   "cell_type": "code",
   "execution_count": 185,
   "id": "2e0ea249-af74-46d3-8855-5787d882db61",
   "metadata": {},
   "outputs": [],
   "source": [
    "l = [1,22,22,33]\n",
    "l.remove(22)"
   ]
  },
  {
   "cell_type": "code",
   "execution_count": 187,
   "id": "db3a0586-052b-452f-8aaa-bc1f633af9d2",
   "metadata": {},
   "outputs": [
    {
     "name": "stdout",
     "output_type": "stream",
     "text": [
      "[1, 22, 33]\n"
     ]
    }
   ],
   "source": [
    "print(l)"
   ]
  },
  {
   "cell_type": "code",
   "execution_count": null,
   "id": "92f18f35-16ab-4fba-a609-c640e881a07c",
   "metadata": {},
   "outputs": [],
   "source": []
  },
  {
   "cell_type": "code",
   "execution_count": null,
   "id": "07a014f7-c85a-4e08-a74c-bbae42fba17b",
   "metadata": {},
   "outputs": [],
   "source": []
  },
  {
   "cell_type": "code",
   "execution_count": null,
   "id": "20623c0a-8374-42dd-9dff-bc3ee3133c14",
   "metadata": {},
   "outputs": [],
   "source": []
  },
  {
   "cell_type": "code",
   "execution_count": null,
   "id": "6dcfbe36-f8a9-47c7-a7fe-be38c738dc44",
   "metadata": {},
   "outputs": [],
   "source": []
  },
  {
   "cell_type": "code",
   "execution_count": null,
   "id": "9eea3e79-c185-4293-9e2b-7ca90ff438bd",
   "metadata": {},
   "outputs": [],
   "source": []
  }
 ],
 "metadata": {
  "kernelspec": {
   "display_name": "Python 3 (ipykernel)",
   "language": "python",
   "name": "python3"
  },
  "language_info": {
   "codemirror_mode": {
    "name": "ipython",
    "version": 3
   },
   "file_extension": ".py",
   "mimetype": "text/x-python",
   "name": "python",
   "nbconvert_exporter": "python",
   "pygments_lexer": "ipython3",
   "version": "3.12.7"
  }
 },
 "nbformat": 4,
 "nbformat_minor": 5
}
