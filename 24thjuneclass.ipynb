{
 "cells": [
  {
   "cell_type": "code",
   "execution_count": 1,
   "id": "2b823a12-973a-46c7-ada2-0feadeb19787",
   "metadata": {},
   "outputs": [
    {
     "data": {
      "text/plain": [
       "[]"
      ]
     },
     "execution_count": 1,
     "metadata": {},
     "output_type": "execute_result"
    }
   ],
   "source": [
    "l = []\n",
    "l"
   ]
  },
  {
   "cell_type": "code",
   "execution_count": 2,
   "id": "e51c7229-4e17-4e70-9144-772a9ee1275b",
   "metadata": {},
   "outputs": [
    {
     "data": {
      "text/plain": [
       "[10, 20, 30, 40]"
      ]
     },
     "execution_count": 2,
     "metadata": {},
     "output_type": "execute_result"
    }
   ],
   "source": [
    "l =[10,20,30,40]\n",
    "l"
   ]
  },
  {
   "cell_type": "code",
   "execution_count": 3,
   "id": "687dfb0e-7e7a-4553-8735-d7b03e1b9470",
   "metadata": {},
   "outputs": [],
   "source": [
    "l.append(50)"
   ]
  },
  {
   "cell_type": "code",
   "execution_count": 4,
   "id": "98d2adb9-b560-4860-8674-7e91b9d2b8ab",
   "metadata": {},
   "outputs": [
    {
     "data": {
      "text/plain": [
       "[10, 20, 30, 40, 50]"
      ]
     },
     "execution_count": 4,
     "metadata": {},
     "output_type": "execute_result"
    }
   ],
   "source": [
    "l"
   ]
  },
  {
   "cell_type": "code",
   "execution_count": 5,
   "id": "971d3d03-0e7d-4c9f-9b65-74ce5b593ccd",
   "metadata": {},
   "outputs": [
    {
     "data": {
      "text/plain": [
       "[100, 20, 30, 40, 50]"
      ]
     },
     "execution_count": 5,
     "metadata": {},
     "output_type": "execute_result"
    }
   ],
   "source": [
    "l[0] = 100  # mutable list\n",
    "l"
   ]
  },
  {
   "cell_type": "code",
   "execution_count": 7,
   "id": "5bd08d39-c543-478e-ad44-83851a4ba415",
   "metadata": {},
   "outputs": [
    {
     "data": {
      "text/plain": [
       "[100, 20, 30, 40, -50]"
      ]
     },
     "execution_count": 7,
     "metadata": {},
     "output_type": "execute_result"
    }
   ],
   "source": [
    "l[-1] = -50\n",
    "l"
   ]
  },
  {
   "cell_type": "code",
   "execution_count": 8,
   "id": "ac7e6e9f-4a95-4bed-940d-7423dc9df4cb",
   "metadata": {},
   "outputs": [
    {
     "data": {
      "text/plain": [
       "[100, 20, 30, 40, -50]"
      ]
     },
     "execution_count": 8,
     "metadata": {},
     "output_type": "execute_result"
    }
   ],
   "source": [
    "l1 = l.copy()\n",
    "l1"
   ]
  },
  {
   "cell_type": "code",
   "execution_count": 10,
   "id": "43b7158c-7725-4505-9ca1-f39129d8eccb",
   "metadata": {},
   "outputs": [
    {
     "name": "stdout",
     "output_type": "stream",
     "text": [
      "[100, 20, 30, 40, -50]\n",
      "[100, 20, 30, 40, -50]\n"
     ]
    }
   ],
   "source": [
    "print(l)\n",
    "print(l1)"
   ]
  },
  {
   "cell_type": "code",
   "execution_count": 11,
   "id": "225624d8-4f15-4dd2-9146-e4aad8f39acc",
   "metadata": {},
   "outputs": [
    {
     "data": {
      "text/plain": [
       "False"
      ]
     },
     "execution_count": 11,
     "metadata": {},
     "output_type": "execute_result"
    }
   ],
   "source": [
    "id(l) ==id(l1)"
   ]
  },
  {
   "cell_type": "code",
   "execution_count": 12,
   "id": "019c73ea-6440-43d7-8ab8-b3e615e86f94",
   "metadata": {},
   "outputs": [
    {
     "data": {
      "text/plain": [
       "True"
      ]
     },
     "execution_count": 12,
     "metadata": {},
     "output_type": "execute_result"
    }
   ],
   "source": [
    "l ==l1"
   ]
  },
  {
   "cell_type": "code",
   "execution_count": 13,
   "id": "a802e69f-37c5-43f3-872a-b840dcccc369",
   "metadata": {},
   "outputs": [
    {
     "name": "stdout",
     "output_type": "stream",
     "text": [
      "1851721999040\n",
      "1851763170688\n"
     ]
    }
   ],
   "source": [
    "print(id(l))\n",
    "print(id(l1))"
   ]
  },
  {
   "cell_type": "code",
   "execution_count": 14,
   "id": "e41358b0-fd94-4eb5-96b3-42b6d20782fd",
   "metadata": {},
   "outputs": [
    {
     "name": "stdout",
     "output_type": "stream",
     "text": [
      "False\n"
     ]
    }
   ],
   "source": [
    "print(l != l)"
   ]
  },
  {
   "cell_type": "code",
   "execution_count": 16,
   "id": "9e3c48b5-a9f9-4164-bbd4-02bf3897f3c7",
   "metadata": {},
   "outputs": [
    {
     "data": {
      "text/plain": [
       "1"
      ]
     },
     "execution_count": 16,
     "metadata": {},
     "output_type": "execute_result"
    }
   ],
   "source": [
    "l.count(20)"
   ]
  },
  {
   "cell_type": "code",
   "execution_count": 18,
   "id": "b48e1c66-7a69-49c9-b6db-e68aace4c1ba",
   "metadata": {},
   "outputs": [
    {
     "data": {
      "text/plain": [
       "[100, 20, 30, 40, -50, 100]"
      ]
     },
     "execution_count": 18,
     "metadata": {},
     "output_type": "execute_result"
    }
   ],
   "source": [
    "l.append(100)\n",
    "l"
   ]
  },
  {
   "cell_type": "code",
   "execution_count": 19,
   "id": "121228f3-629f-4cf0-abe9-8fa26d21956d",
   "metadata": {},
   "outputs": [
    {
     "data": {
      "text/plain": [
       "2"
      ]
     },
     "execution_count": 19,
     "metadata": {},
     "output_type": "execute_result"
    }
   ],
   "source": [
    "l.count(100) # repetition of value"
   ]
  },
  {
   "cell_type": "code",
   "execution_count": 21,
   "id": "046629d4-590d-4047-8f89-4ebb3a1ef44b",
   "metadata": {},
   "outputs": [
    {
     "data": {
      "text/plain": [
       "6"
      ]
     },
     "execution_count": 21,
     "metadata": {},
     "output_type": "execute_result"
    }
   ],
   "source": [
    "len(l)"
   ]
  },
  {
   "cell_type": "code",
   "execution_count": 22,
   "id": "26f08dec-42da-41cc-bb88-83625061b620",
   "metadata": {},
   "outputs": [
    {
     "data": {
      "text/plain": [
       "[]"
      ]
     },
     "execution_count": 22,
     "metadata": {},
     "output_type": "execute_result"
    }
   ],
   "source": [
    "l1.clear() # clear the list\n",
    "l1"
   ]
  },
  {
   "cell_type": "code",
   "execution_count": 25,
   "id": "a83d2e52-c0ef-496e-bb37-a1518737a20c",
   "metadata": {},
   "outputs": [
    {
     "name": "stdout",
     "output_type": "stream",
     "text": [
      "[9, 'Sai', (2+4j), True, 6.7]\n"
     ]
    }
   ],
   "source": [
    "l2 = []\n",
    "l2.append(9)\n",
    "l2.append('Sai')\n",
    "l2.append(2+4J)\n",
    "l2.append(True)\n",
    "l2.append(6.7)\n",
    "print(l2)\n"
   ]
  },
  {
   "cell_type": "code",
   "execution_count": 28,
   "id": "14a548dd-e4e2-4c8e-8dd8-4a42acbec402",
   "metadata": {},
   "outputs": [
    {
     "data": {
      "text/plain": [
       "0"
      ]
     },
     "execution_count": 28,
     "metadata": {},
     "output_type": "execute_result"
    }
   ],
   "source": [
    "l.index(100)\n"
   ]
  },
  {
   "cell_type": "code",
   "execution_count": 27,
   "id": "b7939899-e0fc-47e7-9f90-98c5a02b69a7",
   "metadata": {},
   "outputs": [
    {
     "data": {
      "text/plain": [
       "3"
      ]
     },
     "execution_count": 27,
     "metadata": {},
     "output_type": "execute_result"
    }
   ],
   "source": [
    "l2.index(True)"
   ]
  },
  {
   "cell_type": "code",
   "execution_count": 29,
   "id": "73117c97-b61b-4b4b-9360-6f7a22bf1518",
   "metadata": {},
   "outputs": [
    {
     "data": {
      "text/plain": [
       "4"
      ]
     },
     "execution_count": 29,
     "metadata": {},
     "output_type": "execute_result"
    }
   ],
   "source": [
    "l.index(-50)"
   ]
  },
  {
   "cell_type": "code",
   "execution_count": 30,
   "id": "a2a4baf6-b75d-4f35-bb7c-ead028900624",
   "metadata": {},
   "outputs": [
    {
     "data": {
      "text/plain": [
       "'Sai'"
      ]
     },
     "execution_count": 30,
     "metadata": {},
     "output_type": "execute_result"
    }
   ],
   "source": [
    "l2[1]"
   ]
  },
  {
   "cell_type": "code",
   "execution_count": 34,
   "id": "53c83984-add8-41ab-af59-2f7073677bbd",
   "metadata": {},
   "outputs": [
    {
     "name": "stdout",
     "output_type": "stream",
     "text": [
      "S\n",
      "a\n",
      "i\n"
     ]
    }
   ],
   "source": [
    "print(l2[1][0])\n",
    "print(l2[1][1])\n",
    "print(l2[1][2])     # nested indexing"
   ]
  },
  {
   "cell_type": "code",
   "execution_count": 35,
   "id": "791fc4f1-6038-4cab-8c0f-f92f49acc869",
   "metadata": {},
   "outputs": [
    {
     "data": {
      "text/plain": [
       "[100, 20, 30, 40, -50, 100]"
      ]
     },
     "execution_count": 35,
     "metadata": {},
     "output_type": "execute_result"
    }
   ],
   "source": [
    "l[:]  #slicing"
   ]
  },
  {
   "cell_type": "code",
   "execution_count": 36,
   "id": "c5871d63-41e6-467a-ba21-ef77b04cd878",
   "metadata": {},
   "outputs": [
    {
     "data": {
      "text/plain": [
       "[40, -50, 100]"
      ]
     },
     "execution_count": 36,
     "metadata": {},
     "output_type": "execute_result"
    }
   ],
   "source": [
    "l[3:]  # 3rd index to end"
   ]
  },
  {
   "cell_type": "code",
   "execution_count": 43,
   "id": "8de75eb4-25ae-4d3c-9431-e1e8f2ae180f",
   "metadata": {},
   "outputs": [
    {
     "data": {
      "text/plain": [
       "[100, 20, 30, 40, -50, 100]"
      ]
     },
     "execution_count": 43,
     "metadata": {},
     "output_type": "execute_result"
    }
   ],
   "source": [
    "l[:10]"
   ]
  },
  {
   "cell_type": "code",
   "execution_count": 44,
   "id": "642abf29-e91c-47c6-8d8a-67c20af28cb9",
   "metadata": {},
   "outputs": [
    {
     "data": {
      "text/plain": [
       "[100, 40]"
      ]
     },
     "execution_count": 44,
     "metadata": {},
     "output_type": "execute_result"
    }
   ],
   "source": [
    "l[0:8:3]"
   ]
  },
  {
   "cell_type": "code",
   "execution_count": 50,
   "id": "67fd6a73-7f62-4f23-afe0-52646f9d9fed",
   "metadata": {},
   "outputs": [
    {
     "data": {
      "text/plain": [
       "[9, 'Sai', 18, 18, 18, 18, 15, 15, (2+4j), True]"
      ]
     },
     "execution_count": 50,
     "metadata": {},
     "output_type": "execute_result"
    }
   ],
   "source": [
    "l2.insert(2,18)  # insert value at 2nd index\n",
    "\n",
    "l2"
   ]
  },
  {
   "cell_type": "code",
   "execution_count": 51,
   "id": "a010702c-ed39-4614-924d-ce6569c88ec2",
   "metadata": {},
   "outputs": [
    {
     "data": {
      "text/plain": [
       "True"
      ]
     },
     "execution_count": 51,
     "metadata": {},
     "output_type": "execute_result"
    }
   ],
   "source": [
    "l2.pop()"
   ]
  },
  {
   "cell_type": "code",
   "execution_count": 52,
   "id": "2176fd71-b982-4f80-a9f4-00529561517c",
   "metadata": {},
   "outputs": [
    {
     "data": {
      "text/plain": [
       "[9, 'Sai', 18, 18, 18, 18, 15, 15, (2+4j)]"
      ]
     },
     "execution_count": 52,
     "metadata": {},
     "output_type": "execute_result"
    }
   ],
   "source": [
    "l2"
   ]
  },
  {
   "cell_type": "code",
   "execution_count": 53,
   "id": "f3c53b66-6882-4186-8896-98b379559f58",
   "metadata": {},
   "outputs": [
    {
     "data": {
      "text/plain": [
       "(2+4j)"
      ]
     },
     "execution_count": 53,
     "metadata": {},
     "output_type": "execute_result"
    }
   ],
   "source": [
    "l2.pop()  # removes last value"
   ]
  },
  {
   "cell_type": "code",
   "execution_count": 54,
   "id": "cea01542-b239-49ab-9abc-600232efec26",
   "metadata": {},
   "outputs": [
    {
     "data": {
      "text/plain": [
       "[9, 'Sai', 18, 18, 18, 18, 15, 15]"
      ]
     },
     "execution_count": 54,
     "metadata": {},
     "output_type": "execute_result"
    }
   ],
   "source": [
    "l2"
   ]
  },
  {
   "cell_type": "code",
   "execution_count": 56,
   "id": "21b06589-1d67-470d-9600-70ecb63b337b",
   "metadata": {},
   "outputs": [
    {
     "data": {
      "text/plain": [
       "18"
      ]
     },
     "execution_count": 56,
     "metadata": {},
     "output_type": "execute_result"
    }
   ],
   "source": [
    "l2.pop(4)"
   ]
  },
  {
   "cell_type": "code",
   "execution_count": 59,
   "id": "f0f0e6fd-9b62-4d00-922b-3b8ffc80a6e8",
   "metadata": {},
   "outputs": [
    {
     "data": {
      "text/plain": [
       "18"
      ]
     },
     "execution_count": 59,
     "metadata": {},
     "output_type": "execute_result"
    }
   ],
   "source": [
    "l2.pop(2)  #removes 2nd index vlaue"
   ]
  },
  {
   "cell_type": "code",
   "execution_count": 60,
   "id": "c99e9006-d55c-4cd9-b94f-ccf1cb1ab51f",
   "metadata": {},
   "outputs": [
    {
     "data": {
      "text/plain": [
       "[9, 'Sai', 18, 15]"
      ]
     },
     "execution_count": 60,
     "metadata": {},
     "output_type": "execute_result"
    }
   ],
   "source": [
    "l2"
   ]
  },
  {
   "cell_type": "code",
   "execution_count": 64,
   "id": "04a8561d-7b9e-434c-89c1-d4870640f934",
   "metadata": {},
   "outputs": [],
   "source": [
    "l2.remove('Sai')  # removes based on vlaue\n",
    "                    # pop based on index or last value will be popped"
   ]
  },
  {
   "cell_type": "code",
   "execution_count": 65,
   "id": "609a7474-8ad4-429b-b862-c32ab85d3371",
   "metadata": {},
   "outputs": [
    {
     "data": {
      "text/plain": [
       "[18, 15]"
      ]
     },
     "execution_count": 65,
     "metadata": {},
     "output_type": "execute_result"
    }
   ],
   "source": [
    "l2"
   ]
  },
  {
   "cell_type": "code",
   "execution_count": 67,
   "id": "466da2c2-78af-4863-b891-734e6efa11f5",
   "metadata": {},
   "outputs": [
    {
     "data": {
      "text/plain": [
       "0"
      ]
     },
     "execution_count": 67,
     "metadata": {},
     "output_type": "execute_result"
    }
   ],
   "source": [
    "l2.index(18) # provides index of value"
   ]
  },
  {
   "cell_type": "code",
   "execution_count": 74,
   "id": "17ffc900-6ac0-4e77-92a8-85df794e7a09",
   "metadata": {},
   "outputs": [
    {
     "data": {
      "text/plain": [
       "[18, 15]"
      ]
     },
     "execution_count": 74,
     "metadata": {},
     "output_type": "execute_result"
    }
   ],
   "source": [
    "l3 = l2.reverse() # reverse the list\n",
    "l2"
   ]
  },
  {
   "cell_type": "code",
   "execution_count": 75,
   "id": "0ff36ab1-9cea-4c6b-9cd9-b201046af929",
   "metadata": {},
   "outputs": [
    {
     "data": {
      "text/plain": [
       "'Abc def ghi  '"
      ]
     },
     "execution_count": 75,
     "metadata": {},
     "output_type": "execute_result"
    }
   ],
   "source": [
    "text = '  abc def ghi  '\n",
    "text.capitalize()\n"
   ]
  },
  {
   "cell_type": "code",
   "execution_count": 79,
   "id": "1609d721-85fc-4b8a-b12b-d884f4ad3d76",
   "metadata": {},
   "outputs": [
    {
     "data": {
      "text/plain": [
       "'abc def ghi  '"
      ]
     },
     "execution_count": 79,
     "metadata": {},
     "output_type": "execute_result"
    }
   ],
   "source": [
    "text.lstrip()  # leading white space removed"
   ]
  },
  {
   "cell_type": "code",
   "execution_count": 80,
   "id": "3f0272a8-f9a9-466f-a324-fafcd6108028",
   "metadata": {},
   "outputs": [
    {
     "data": {
      "text/plain": [
       "'abc def ghi'"
      ]
     },
     "execution_count": 80,
     "metadata": {},
     "output_type": "execute_result"
    }
   ],
   "source": [
    "text.strip() # leading trailing white space removed"
   ]
  },
  {
   "cell_type": "code",
   "execution_count": 81,
   "id": "f7d1ead5-ae96-447f-95c2-6e9399a372b0",
   "metadata": {},
   "outputs": [
    {
     "data": {
      "text/plain": [
       "'word'"
      ]
     },
     "execution_count": 81,
     "metadata": {},
     "output_type": "execute_result"
    }
   ],
   "source": [
    "w = '   word   '\n",
    "w.strip()"
   ]
  },
  {
   "cell_type": "code",
   "execution_count": 88,
   "id": "b8fd5b53-b640-49c6-8c37-bd85530e902e",
   "metadata": {},
   "outputs": [
    {
     "name": "stdout",
     "output_type": "stream",
     "text": [
      "My name is Saipriya. ' I am a java developer '\n"
     ]
    }
   ],
   "source": [
    "m = 'My name is Saipriya. \\' I am a java developer \\''\n",
    "print(m)"
   ]
  },
  {
   "cell_type": "code",
   "execution_count": 89,
   "id": "3e9f7709-1672-42c4-926e-e5684269a043",
   "metadata": {},
   "outputs": [
    {
     "data": {
      "text/plain": [
       "6"
      ]
     },
     "execution_count": 89,
     "metadata": {},
     "output_type": "execute_result"
    }
   ],
   "source": [
    "list1 = [10,11,12,[20,21,22],[30,31,32,33],[40,41]] #nested lists\n",
    "len(list1)"
   ]
  },
  {
   "cell_type": "code",
   "execution_count": 92,
   "id": "04a1f47f-4842-48e7-96cc-7ae54cc62ef8",
   "metadata": {},
   "outputs": [
    {
     "data": {
      "text/plain": [
       "33"
      ]
     },
     "execution_count": 92,
     "metadata": {},
     "output_type": "execute_result"
    }
   ],
   "source": [
    "list1[4][3]"
   ]
  },
  {
   "cell_type": "code",
   "execution_count": 93,
   "id": "7aa6bc09-3462-48af-a5c9-ead1922d0b25",
   "metadata": {},
   "outputs": [
    {
     "data": {
      "text/plain": [
       "[[20, 21, 22], [30, 31, 32, 33], [40, 41]]"
      ]
     },
     "execution_count": 93,
     "metadata": {},
     "output_type": "execute_result"
    }
   ],
   "source": [
    "list1[3:]"
   ]
  },
  {
   "cell_type": "code",
   "execution_count": 98,
   "id": "b6ab75ab-86a6-4f1f-b81f-3431644e07be",
   "metadata": {},
   "outputs": [
    {
     "data": {
      "text/plain": [
       "[10, 11, 12, [20, 21, 22]]"
      ]
     },
     "execution_count": 98,
     "metadata": {},
     "output_type": "execute_result"
    }
   ],
   "source": [
    "list1[:4]"
   ]
  },
  {
   "cell_type": "code",
   "execution_count": 99,
   "id": "99cf32f5-70bc-4945-a620-6c047063d4e1",
   "metadata": {},
   "outputs": [
    {
     "data": {
      "text/plain": [
       "[[20, 21, 22], [30, 31, 32, 33], [40, 41]]"
      ]
     },
     "execution_count": 99,
     "metadata": {},
     "output_type": "execute_result"
    }
   ],
   "source": [
    "list1[-3:]"
   ]
  },
  {
   "cell_type": "code",
   "execution_count": 101,
   "id": "68999fe1-c9e9-42eb-bd94-5d1c106ef688",
   "metadata": {},
   "outputs": [
    {
     "data": {
      "text/plain": [
       "[81, 'priya', 81.81, (81+81j)]"
      ]
     },
     "execution_count": 101,
     "metadata": {},
     "output_type": "execute_result"
    }
   ],
   "source": [
    "list2 =[]\n",
    "list2.append(81)\n",
    "list2.append('priya')\n",
    "list2.append(81.81)\n",
    "list2.append(81+81J)\n",
    "list2"
   ]
  },
  {
   "cell_type": "code",
   "execution_count": 102,
   "id": "062ece3d-85ce-48f5-bb50-7a8ea0f1b35f",
   "metadata": {},
   "outputs": [
    {
     "name": "stdout",
     "output_type": "stream",
     "text": [
      "[10, 11, 12, [20, 21, 22], [30, 31, 32, 33], [40, 41]]\n",
      "[81, 'priya', 81.81, (81+81j)]\n",
      "[10, 11, 12, [20, 21, 22], [30, 31, 32, 33], [40, 41], 81, 'priya', 81.81, (81+81j)]\n"
     ]
    }
   ],
   "source": [
    "print(list1)\n",
    "print(list2)\n",
    "list3 = list1 + list2  # concatenates  two lists\n",
    "print(list3)"
   ]
  },
  {
   "cell_type": "code",
   "execution_count": 103,
   "id": "ddf7aee5-55ca-484b-ba25-20c4b000f4d0",
   "metadata": {},
   "outputs": [
    {
     "data": {
      "text/plain": [
       "[10,\n",
       " 11,\n",
       " 12,\n",
       " [20, 21, 22],\n",
       " [30, 31, 32, 33],\n",
       " [40, 41],\n",
       " 81,\n",
       " 'priya',\n",
       " 81.81,\n",
       " (81+81j)]"
      ]
     },
     "execution_count": 103,
     "metadata": {},
     "output_type": "execute_result"
    }
   ],
   "source": [
    "list1.extend(list2)  #list1 will be extended by adding the values of list2\n",
    "list1"
   ]
  },
  {
   "cell_type": "code",
   "execution_count": 104,
   "id": "4117f39a-68e9-42c9-bd9a-ea961908e5e9",
   "metadata": {},
   "outputs": [
    {
     "data": {
      "text/plain": [
       "True"
      ]
     },
     "execution_count": 104,
     "metadata": {},
     "output_type": "execute_result"
    }
   ],
   "source": [
    "10 in list1"
   ]
  },
  {
   "cell_type": "code",
   "execution_count": 105,
   "id": "e1f3e977-8b47-451e-b9a2-01f2e6234d2e",
   "metadata": {},
   "outputs": [
    {
     "data": {
      "text/plain": [
       "False"
      ]
     },
     "execution_count": 105,
     "metadata": {},
     "output_type": "execute_result"
    }
   ],
   "source": [
    "9 in list2"
   ]
  },
  {
   "cell_type": "code",
   "execution_count": 106,
   "id": "03fab582-bbcc-41df-9c33-92c5664ce205",
   "metadata": {},
   "outputs": [
    {
     "data": {
      "text/plain": [
       "True"
      ]
     },
     "execution_count": 106,
     "metadata": {},
     "output_type": "execute_result"
    }
   ],
   "source": [
    "81.81 in list1"
   ]
  },
  {
   "cell_type": "code",
   "execution_count": 107,
   "id": "38484f3d-1957-47d9-a77a-1c6b5e73d714",
   "metadata": {},
   "outputs": [
    {
     "data": {
      "text/plain": [
       "True"
      ]
     },
     "execution_count": 107,
     "metadata": {},
     "output_type": "execute_result"
    }
   ],
   "source": [
    "[30, 31, 32, 33] in list1"
   ]
  },
  {
   "cell_type": "code",
   "execution_count": 108,
   "id": "66fc30ce-d08c-4d4d-8f09-4c8d3c7ee7e0",
   "metadata": {},
   "outputs": [
    {
     "data": {
      "text/plain": [
       "False"
      ]
     },
     "execution_count": 108,
     "metadata": {},
     "output_type": "execute_result"
    }
   ],
   "source": [
    "32 in list1  # single element in nested list will not consider it prints false "
   ]
  },
  {
   "cell_type": "code",
   "execution_count": 114,
   "id": "171c19ee-47df-4a97-b55f-f586f9d82ddb",
   "metadata": {},
   "outputs": [
    {
     "name": "stdout",
     "output_type": "stream",
     "text": [
      "sorry 10 and 22 are not present in list\n"
     ]
    }
   ],
   "source": [
    "if 121 in list1:\n",
    "    print('Hello 10 good morning')\n",
    "elif 22 in list1:\n",
    "    print('Hello 22 good morning')\n",
    "else:\n",
    "    print('sorry 10 and 22 are not present in list')"
   ]
  },
  {
   "cell_type": "code",
   "execution_count": 116,
   "id": "6a4f2785-ee36-4cb6-a31e-80e92be73099",
   "metadata": {},
   "outputs": [
    {
     "data": {
      "text/plain": [
       "[81, 'priya', 81.81, (81+81j)]"
      ]
     },
     "execution_count": 116,
     "metadata": {},
     "output_type": "execute_result"
    }
   ],
   "source": [
    "list2"
   ]
  },
  {
   "cell_type": "code",
   "execution_count": 119,
   "id": "cd3bee23-d7c7-4407-85ea-be4328a26bb5",
   "metadata": {},
   "outputs": [
    {
     "data": {
      "text/plain": [
       "[(81+81j), 81.81, 'priya', 81]"
      ]
     },
     "execution_count": 119,
     "metadata": {},
     "output_type": "execute_result"
    }
   ],
   "source": [
    "list2.reverse()\n",
    "list2"
   ]
  },
  {
   "cell_type": "code",
   "execution_count": 125,
   "id": "526afaf0-c835-45f9-84a8-1f26bd60d3e2",
   "metadata": {},
   "outputs": [
    {
     "data": {
      "text/plain": [
       "[81, 'priya', 81.81, (81+81j)]"
      ]
     },
     "execution_count": 125,
     "metadata": {},
     "output_type": "execute_result"
    }
   ],
   "source": [
    "list2[::-1]"
   ]
  },
  {
   "cell_type": "code",
   "execution_count": 138,
   "id": "2541ed6c-cae2-4682-ba9c-2b647192aebf",
   "metadata": {},
   "outputs": [
    {
     "data": {
      "text/plain": [
       "[False, True, 9, 12, 23.56, 34, 43, 62, 65]"
      ]
     },
     "execution_count": 138,
     "metadata": {},
     "output_type": "execute_result"
    }
   ],
   "source": [
    "li = [23.56,43,62,12,9,34,65,True,False]          #list sorting mechanism works for in tfloat and bool not for complex nd string\n",
    "li.sort()\n",
    "li"
   ]
  },
  {
   "cell_type": "code",
   "execution_count": 146,
   "id": "cb92c254-4cd4-425c-9934-057e1749325c",
   "metadata": {},
   "outputs": [
    {
     "data": {
      "text/plain": [
       "[65, 62, 43, 34, 23.56, 12, 9, True, False]"
      ]
     },
     "execution_count": 146,
     "metadata": {},
     "output_type": "execute_result"
    }
   ],
   "source": [
    "li.sort(reverse= True)\n",
    "li"
   ]
  },
  {
   "cell_type": "code",
   "execution_count": 157,
   "id": "4513f363-2f60-45bd-820e-e14d44b33cae",
   "metadata": {},
   "outputs": [],
   "source": [
    "lis = [9,8,56,34,87,23,73,12,51]\n",
    "lis = sorted(lis)  # sorted() will also sort the list in ascending order"
   ]
  },
  {
   "cell_type": "code",
   "execution_count": 153,
   "id": "0d6153b2-2b75-4cdd-a476-b54b362810e3",
   "metadata": {},
   "outputs": [
    {
     "name": "stdout",
     "output_type": "stream",
     "text": [
      "8\n",
      "9\n",
      "12\n",
      "23\n",
      "34\n",
      "51\n",
      "56\n",
      "73\n",
      "87\n"
     ]
    }
   ],
   "source": [
    "for i in lis:\n",
    "    print(i)"
   ]
  },
  {
   "cell_type": "code",
   "execution_count": 155,
   "id": "d0a075cd-f2f2-441e-952f-7f0585950773",
   "metadata": {},
   "outputs": [
    {
     "name": "stdout",
     "output_type": "stream",
     "text": [
      "(0, 8)\n",
      "(1, 9)\n",
      "(2, 12)\n",
      "(3, 23)\n",
      "(4, 34)\n",
      "(5, 51)\n",
      "(6, 56)\n",
      "(7, 73)\n",
      "(8, 87)\n"
     ]
    }
   ],
   "source": [
    "for i in enumerate(lis):\n",
    "    print(i)"
   ]
  },
  {
   "cell_type": "code",
   "execution_count": 158,
   "id": "da3e7332-a305-45ca-bd4a-9dcb522e3b85",
   "metadata": {},
   "outputs": [
    {
     "name": "stdout",
     "output_type": "stream",
     "text": [
      "(0, 12)\n",
      "(1, 23)\n",
      "(2, 34)\n",
      "(3, 'sai')\n",
      "(4, (4+5j))\n",
      "(5, True)\n",
      "(6, 9.7)\n"
     ]
    }
   ],
   "source": [
    "lis = [12,23,34,'sai',4+5J,True,9.7]\n",
    "for i in enumerate(lis):\n",
    "    print(i)\n",
    "    "
   ]
  },
  {
   "cell_type": "code",
   "execution_count": 161,
   "id": "3d42551f-8ddf-41cb-95f8-f6c9ddab7353",
   "metadata": {},
   "outputs": [
    {
     "name": "stdout",
     "output_type": "stream",
     "text": [
      "True\n",
      "True\n"
     ]
    }
   ],
   "source": [
    "l1 = [12,23,34,56]\n",
    "print(all(l1))\n",
    "print(any(l1))"
   ]
  },
  {
   "cell_type": "code",
   "execution_count": 164,
   "id": "8f21c838-04b9-4062-b838-f3eb80fa9ee8",
   "metadata": {},
   "outputs": [
    {
     "data": {
      "text/plain": [
       "0"
      ]
     },
     "execution_count": 164,
     "metadata": {},
     "output_type": "execute_result"
    }
   ],
   "source": [
    "l1.append(0)\n",
    "l1.pop()"
   ]
  },
  {
   "cell_type": "code",
   "execution_count": 165,
   "id": "2ad04a42-c811-49ec-8b72-bec834ce85bf",
   "metadata": {},
   "outputs": [
    {
     "data": {
      "text/plain": [
       "[12, 23, 34, 56, 0, 0]"
      ]
     },
     "execution_count": 165,
     "metadata": {},
     "output_type": "execute_result"
    }
   ],
   "source": [
    "l1"
   ]
  },
  {
   "cell_type": "code",
   "execution_count": 166,
   "id": "0c17890c-48ee-491e-887e-7216bc3551cd",
   "metadata": {},
   "outputs": [
    {
     "data": {
      "text/plain": [
       "[12, 23, 34, 56, 0, 0]"
      ]
     },
     "execution_count": 166,
     "metadata": {},
     "output_type": "execute_result"
    }
   ],
   "source": [
    "l1"
   ]
  },
  {
   "cell_type": "code",
   "execution_count": 167,
   "id": "2be3945b-badb-44db-b773-73abd8370f69",
   "metadata": {},
   "outputs": [
    {
     "data": {
      "text/plain": [
       "0"
      ]
     },
     "execution_count": 167,
     "metadata": {},
     "output_type": "execute_result"
    }
   ],
   "source": [
    "l1.pop()\n",
    "l1.pop()"
   ]
  },
  {
   "cell_type": "code",
   "execution_count": 168,
   "id": "e308ce8d-b152-476f-8ced-ffa16f9d96c5",
   "metadata": {},
   "outputs": [
    {
     "name": "stdout",
     "output_type": "stream",
     "text": [
      "[12, 23, 34, 56]\n"
     ]
    }
   ],
   "source": [
    "print(l1)"
   ]
  },
  {
   "cell_type": "code",
   "execution_count": 169,
   "id": "088b8e24-85ad-4680-a801-632580761eeb",
   "metadata": {},
   "outputs": [
    {
     "data": {
      "text/plain": [
       "[12, 23, 34, 56, 0]"
      ]
     },
     "execution_count": 169,
     "metadata": {},
     "output_type": "execute_result"
    }
   ],
   "source": [
    "l1.append(0)\n",
    "l1"
   ]
  },
  {
   "cell_type": "code",
   "execution_count": 170,
   "id": "d38e209e-f814-4d0d-8e15-0c6b6b3d880e",
   "metadata": {},
   "outputs": [
    {
     "name": "stdout",
     "output_type": "stream",
     "text": [
      "False\n",
      "True\n"
     ]
    }
   ],
   "source": [
    "print(all(l1))  # if all values in list true then retun true as there is 0 in list it returned false\n",
    "print(any(l1))  #  if any values in list true then retun true "
   ]
  },
  {
   "cell_type": "code",
   "execution_count": 171,
   "id": "85abc789-74da-4991-a773-969300e8cc39",
   "metadata": {},
   "outputs": [
    {
     "data": {
      "text/plain": [
       "False"
      ]
     },
     "execution_count": 171,
     "metadata": {},
     "output_type": "execute_result"
    }
   ],
   "source": [
    "l2 = [0,0.0,0J]\n",
    "any(l2)"
   ]
  },
  {
   "cell_type": "code",
   "execution_count": 172,
   "id": "b1358a97-bc48-4973-8958-e0967d3b3d91",
   "metadata": {},
   "outputs": [
    {
     "data": {
      "text/plain": [
       "[0, 0.0, 0j, True]"
      ]
     },
     "execution_count": 172,
     "metadata": {},
     "output_type": "execute_result"
    }
   ],
   "source": [
    "l2.append(True)\n",
    "l2"
   ]
  },
  {
   "cell_type": "code",
   "execution_count": 173,
   "id": "254e59a2-d766-4f52-818b-42df4aa3cc23",
   "metadata": {},
   "outputs": [
    {
     "data": {
      "text/plain": [
       "True"
      ]
     },
     "execution_count": 173,
     "metadata": {},
     "output_type": "execute_result"
    }
   ],
   "source": [
    "any(l2)"
   ]
  },
  {
   "cell_type": "code",
   "execution_count": null,
   "id": "ae407839-e9c2-486c-8e48-04319bf8d609",
   "metadata": {},
   "outputs": [],
   "source": []
  }
 ],
 "metadata": {
  "kernelspec": {
   "display_name": "Python 3 (ipykernel)",
   "language": "python",
   "name": "python3"
  },
  "language_info": {
   "codemirror_mode": {
    "name": "ipython",
    "version": 3
   },
   "file_extension": ".py",
   "mimetype": "text/x-python",
   "name": "python",
   "nbconvert_exporter": "python",
   "pygments_lexer": "ipython3",
   "version": "3.12.7"
  }
 },
 "nbformat": 4,
 "nbformat_minor": 5
}
