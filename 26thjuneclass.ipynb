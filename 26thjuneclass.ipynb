{
 "cells": [
  {
   "cell_type": "markdown",
   "id": "46a55d7a-1fdd-48a8-802d-fdaa70081631",
   "metadata": {},
   "source": [
    "# SET"
   ]
  },
  {
   "cell_type": "code",
   "execution_count": 1,
   "id": "3b4f1a49-30ef-408b-9fb1-ad11f899a54f",
   "metadata": {},
   "outputs": [
    {
     "data": {
      "text/plain": [
       "dict"
      ]
     },
     "execution_count": 1,
     "metadata": {},
     "output_type": "execute_result"
    }
   ],
   "source": [
    "s = {}\n",
    "type(s)  # by default {} is dict not set"
   ]
  },
  {
   "cell_type": "code",
   "execution_count": 2,
   "id": "aa3546df-3a32-46ad-bde4-abb5890dacbb",
   "metadata": {},
   "outputs": [
    {
     "data": {
      "text/plain": [
       "set"
      ]
     },
     "execution_count": 2,
     "metadata": {},
     "output_type": "execute_result"
    }
   ],
   "source": [
    "s1 = set()  #to create empty set\n",
    "type(s1)"
   ]
  },
  {
   "cell_type": "code",
   "execution_count": 5,
   "id": "8e01cc3b-3e4a-4a67-b29a-019f9986dc90",
   "metadata": {},
   "outputs": [
    {
     "data": {
      "text/plain": [
       "2313519019424"
      ]
     },
     "execution_count": 5,
     "metadata": {},
     "output_type": "execute_result"
    }
   ],
   "source": [
    "s1.add(10)\n",
    "id(s1)"
   ]
  },
  {
   "cell_type": "code",
   "execution_count": 6,
   "id": "c67dffd6-c13b-434d-bc45-e635ea21f03f",
   "metadata": {},
   "outputs": [
    {
     "data": {
      "text/plain": [
       "2313519021440"
      ]
     },
     "execution_count": 6,
     "metadata": {},
     "output_type": "execute_result"
    }
   ],
   "source": [
    "s1 = {20,30,40}\n",
    "id(s1)"
   ]
  },
  {
   "cell_type": "code",
   "execution_count": 7,
   "id": "850c47ca-8338-4fd3-9dbf-fccd2f1e0570",
   "metadata": {},
   "outputs": [
    {
     "ename": "TypeError",
     "evalue": "'set' object is not subscriptable",
     "output_type": "error",
     "traceback": [
      "\u001b[1;31m---------------------------------------------------------------------------\u001b[0m",
      "\u001b[1;31mTypeError\u001b[0m                                 Traceback (most recent call last)",
      "Cell \u001b[1;32mIn[7], line 1\u001b[0m\n\u001b[1;32m----> 1\u001b[0m s1[:]\n",
      "\u001b[1;31mTypeError\u001b[0m: 'set' object is not subscriptable"
     ]
    }
   ],
   "source": [
    "s1[:]  # not applicable index slicing"
   ]
  },
  {
   "cell_type": "code",
   "execution_count": 11,
   "id": "2d294152-413c-4670-b276-ed6a68033ad2",
   "metadata": {},
   "outputs": [],
   "source": [
    "s2 = set()\n",
    "s2.add(10)\n",
    "s2.add(1.2)\n",
    "s2.add(True)\n",
    "s2.add(4+5J)"
   ]
  },
  {
   "cell_type": "code",
   "execution_count": 16,
   "id": "3ca9a175-c1d2-4077-9d6b-f023dbb8bde0",
   "metadata": {},
   "outputs": [
    {
     "data": {
      "text/plain": [
       "{(4+5j), 1.2, 10, True}"
      ]
     },
     "execution_count": 16,
     "metadata": {},
     "output_type": "execute_result"
    }
   ],
   "source": [
    "s2\n"
   ]
  },
  {
   "cell_type": "code",
   "execution_count": 17,
   "id": "b25f9534-9b66-4984-8f6a-a044e35bd113",
   "metadata": {},
   "outputs": [
    {
     "name": "stdout",
     "output_type": "stream",
     "text": [
      "{1.2, 10, (4+5j), True}\n"
     ]
    }
   ],
   "source": [
    "print(s2)"
   ]
  },
  {
   "cell_type": "code",
   "execution_count": 18,
   "id": "b9aab3da-2731-47ee-96b8-442a01d51bde",
   "metadata": {},
   "outputs": [],
   "source": [
    "s2.remove(1.2)"
   ]
  },
  {
   "cell_type": "code",
   "execution_count": 19,
   "id": "0d54d1c4-0c6c-4173-8249-2e7ef826dd99",
   "metadata": {},
   "outputs": [
    {
     "data": {
      "text/plain": [
       "{(4+5j), 10, True}"
      ]
     },
     "execution_count": 19,
     "metadata": {},
     "output_type": "execute_result"
    }
   ],
   "source": [
    "s2"
   ]
  },
  {
   "cell_type": "code",
   "execution_count": 20,
   "id": "2feeedef-b658-4c8e-b210-9ec1edd8a96f",
   "metadata": {},
   "outputs": [
    {
     "data": {
      "text/plain": [
       "10"
      ]
     },
     "execution_count": 20,
     "metadata": {},
     "output_type": "execute_result"
    }
   ],
   "source": [
    "s2.pop()"
   ]
  },
  {
   "cell_type": "code",
   "execution_count": 21,
   "id": "98733c9c-da2f-4653-bb98-24921634fdf9",
   "metadata": {},
   "outputs": [
    {
     "data": {
      "text/plain": [
       "{(4+5j), True}"
      ]
     },
     "execution_count": 21,
     "metadata": {},
     "output_type": "execute_result"
    }
   ],
   "source": [
    "s2"
   ]
  },
  {
   "cell_type": "code",
   "execution_count": 23,
   "id": "b821a028-9e85-423a-a7c7-92b5317162a1",
   "metadata": {},
   "outputs": [],
   "source": [
    "s2.discard(True)"
   ]
  },
  {
   "cell_type": "code",
   "execution_count": 24,
   "id": "6ad77164-c467-4979-b34e-35abcecb0480",
   "metadata": {},
   "outputs": [
    {
     "data": {
      "text/plain": [
       "{(4+5j)}"
      ]
     },
     "execution_count": 24,
     "metadata": {},
     "output_type": "execute_result"
    }
   ],
   "source": [
    "s2"
   ]
  },
  {
   "cell_type": "code",
   "execution_count": 25,
   "id": "9e4f9fcc-a68d-491f-be53-6f7e8277dca4",
   "metadata": {},
   "outputs": [],
   "source": [
    "s2.discard(12) #never gives u error if element prsent delete  if nt present then just discarded"
   ]
  },
  {
   "cell_type": "code",
   "execution_count": 26,
   "id": "dbdb575d-4360-4221-aac9-16e148140ffd",
   "metadata": {},
   "outputs": [
    {
     "data": {
      "text/plain": [
       "{(4+5j)}"
      ]
     },
     "execution_count": 26,
     "metadata": {},
     "output_type": "execute_result"
    }
   ],
   "source": [
    "s2"
   ]
  },
  {
   "cell_type": "code",
   "execution_count": 27,
   "id": "5c68e7ac-4f39-479b-a22d-86de097dbab5",
   "metadata": {},
   "outputs": [],
   "source": [
    "s2.add(20)"
   ]
  },
  {
   "cell_type": "code",
   "execution_count": 28,
   "id": "0ad23424-cdcf-46a4-804e-71bee62354c3",
   "metadata": {},
   "outputs": [],
   "source": [
    "s2.add(24)"
   ]
  },
  {
   "cell_type": "code",
   "execution_count": 29,
   "id": "a4c555fb-7fed-41f0-ae20-663fa99a47cf",
   "metadata": {},
   "outputs": [
    {
     "name": "stdout",
     "output_type": "stream",
     "text": [
      "(4+5j)\n",
      "20\n",
      "24\n"
     ]
    }
   ],
   "source": [
    "for i in s2:\n",
    "    print(i)"
   ]
  },
  {
   "cell_type": "code",
   "execution_count": 30,
   "id": "405f9ee8-518a-4474-9681-bca9832d77f6",
   "metadata": {},
   "outputs": [
    {
     "name": "stdout",
     "output_type": "stream",
     "text": [
      "(0, 40)\n",
      "(1, 20)\n",
      "(2, 30)\n"
     ]
    }
   ],
   "source": [
    "for i in enumerate(s1):  # set indexing is not allowed\n",
    "    print(i)"
   ]
  },
  {
   "cell_type": "markdown",
   "id": "7a052910-7d18-41ce-b8df-c40340a3247c",
   "metadata": {},
   "source": [
    "# set operations"
   ]
  },
  {
   "cell_type": "code",
   "execution_count": 31,
   "id": "ae5606ac-6513-453e-a509-e2bf028322ba",
   "metadata": {},
   "outputs": [
    {
     "data": {
      "text/plain": [
       "{5, 6, 7}"
      ]
     },
     "execution_count": 31,
     "metadata": {},
     "output_type": "execute_result"
    }
   ],
   "source": [
    "a = {1,2,3,4,5,6,7}\n",
    "b = {5,6,7,8,9,10,12}\n",
    "c = {7,8,9,10}\n",
    "a.intersection(b)"
   ]
  },
  {
   "cell_type": "code",
   "execution_count": 32,
   "id": "a580d882-fa36-4870-999f-13ebbaeeeb7e",
   "metadata": {},
   "outputs": [
    {
     "data": {
      "text/plain": [
       "{1, 2, 3, 4, 5, 6, 7, 8, 9, 10, 12}"
      ]
     },
     "execution_count": 32,
     "metadata": {},
     "output_type": "execute_result"
    }
   ],
   "source": [
    "a.union(b)  # union or | symbol same"
   ]
  },
  {
   "cell_type": "code",
   "execution_count": 33,
   "id": "11018031-966d-4b7d-ab57-b44f8f8383f6",
   "metadata": {},
   "outputs": [
    {
     "data": {
      "text/plain": [
       "True"
      ]
     },
     "execution_count": 33,
     "metadata": {},
     "output_type": "execute_result"
    }
   ],
   "source": [
    "c.issubset(b)"
   ]
  },
  {
   "cell_type": "code",
   "execution_count": 35,
   "id": "f8999b03-25ba-4fae-a360-666b1ad96bb8",
   "metadata": {},
   "outputs": [
    {
     "data": {
      "text/plain": [
       "{1, 2, 3, 4, 5, 6, 7, 8, 9, 10, 12}"
      ]
     },
     "execution_count": 35,
     "metadata": {},
     "output_type": "execute_result"
    }
   ],
   "source": [
    "a | b"
   ]
  },
  {
   "cell_type": "code",
   "execution_count": 36,
   "id": "9f850621-f5bd-45d9-a697-870bb8c32b34",
   "metadata": {},
   "outputs": [
    {
     "data": {
      "text/plain": [
       "{1, 2, 3, 4}"
      ]
     },
     "execution_count": 36,
     "metadata": {},
     "output_type": "execute_result"
    }
   ],
   "source": [
    "a.difference(b)"
   ]
  },
  {
   "cell_type": "code",
   "execution_count": 37,
   "id": "7e1cfd88-6f74-46bc-aac8-555500f57497",
   "metadata": {},
   "outputs": [
    {
     "data": {
      "text/plain": [
       "{1, 2, 3, 4, 5, 6, 7}"
      ]
     },
     "execution_count": 37,
     "metadata": {},
     "output_type": "execute_result"
    }
   ],
   "source": [
    "a"
   ]
  },
  {
   "cell_type": "code",
   "execution_count": 38,
   "id": "87973ace-3319-4475-828d-7061d6f3a8aa",
   "metadata": {},
   "outputs": [
    {
     "name": "stdout",
     "output_type": "stream",
     "text": [
      "{1, 2, 3, 4, 5, 6, 7}\n"
     ]
    }
   ],
   "source": [
    "print(a)"
   ]
  },
  {
   "cell_type": "raw",
   "id": "4ed4cf5f-07f2-4111-a2d2-e8eaae25f51f",
   "metadata": {},
   "source": []
  }
 ],
 "metadata": {
  "kernelspec": {
   "display_name": "Python 3 (ipykernel)",
   "language": "python",
   "name": "python3"
  },
  "language_info": {
   "codemirror_mode": {
    "name": "ipython",
    "version": 3
   },
   "file_extension": ".py",
   "mimetype": "text/x-python",
   "name": "python",
   "nbconvert_exporter": "python",
   "pygments_lexer": "ipython3",
   "version": "3.12.7"
  }
 },
 "nbformat": 4,
 "nbformat_minor": 5
}
