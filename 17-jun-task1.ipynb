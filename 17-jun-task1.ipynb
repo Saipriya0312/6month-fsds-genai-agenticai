{
 "cells": [
  {
   "cell_type": "code",
   "execution_count": 1,
   "id": "cac55a6d-db04-4537-acb0-1112a8b00bf8",
   "metadata": {},
   "outputs": [
    {
     "data": {
      "text/plain": [
       "4"
      ]
     },
     "execution_count": 1,
     "metadata": {},
     "output_type": "execute_result"
    }
   ],
   "source": [
    "2+2 "
   ]
  },
  {
   "cell_type": "code",
   "execution_count": 2,
   "id": "15a8484b-eabf-42c7-8c8a-d5cb8ae9832c",
   "metadata": {},
   "outputs": [
    {
     "data": {
      "text/plain": [
       "20"
      ]
     },
     "execution_count": 2,
     "metadata": {},
     "output_type": "execute_result"
    }
   ],
   "source": [
    "50- 5*6"
   ]
  },
  {
   "cell_type": "code",
   "execution_count": 3,
   "id": "8a947bcc-8f7e-44fc-988d-5e73119ab840",
   "metadata": {},
   "outputs": [
    {
     "data": {
      "text/plain": [
       "5.0"
      ]
     },
     "execution_count": 3,
     "metadata": {},
     "output_type": "execute_result"
    }
   ],
   "source": [
    "(50- 5*6) /4"
   ]
  },
  {
   "cell_type": "code",
   "execution_count": 4,
   "id": "ed0f73ee-8ca9-4deb-b654-166cb4a1de30",
   "metadata": {},
   "outputs": [
    {
     "data": {
      "text/plain": [
       "1.6"
      ]
     },
     "execution_count": 4,
     "metadata": {},
     "output_type": "execute_result"
    }
   ],
   "source": [
    "8/5"
   ]
  },
  {
   "cell_type": "code",
   "execution_count": 5,
   "id": "bfd426eb-fd61-45dd-ab1c-ccd54ec148ea",
   "metadata": {},
   "outputs": [
    {
     "data": {
      "text/plain": [
       "4.25"
      ]
     },
     "execution_count": 5,
     "metadata": {},
     "output_type": "execute_result"
    }
   ],
   "source": [
    "17/4\n"
   ]
  },
  {
   "cell_type": "code",
   "execution_count": 6,
   "id": "06492906-2410-466f-81a3-ef7b8351aa74",
   "metadata": {},
   "outputs": [
    {
     "data": {
      "text/plain": [
       "4"
      ]
     },
     "execution_count": 6,
     "metadata": {},
     "output_type": "execute_result"
    }
   ],
   "source": [
    "17//4"
   ]
  },
  {
   "cell_type": "code",
   "execution_count": 7,
   "id": "7d51bbab-00dd-453e-b19b-2f3c4a0737b9",
   "metadata": {},
   "outputs": [
    {
     "data": {
      "text/plain": [
       "1"
      ]
     },
     "execution_count": 7,
     "metadata": {},
     "output_type": "execute_result"
    }
   ],
   "source": [
    "17 % 4"
   ]
  },
  {
   "cell_type": "code",
   "execution_count": 8,
   "id": "8626f96a-4e90-411e-a0d0-c022055c925f",
   "metadata": {},
   "outputs": [
    {
     "data": {
      "text/plain": [
       "20"
      ]
     },
     "execution_count": 8,
     "metadata": {},
     "output_type": "execute_result"
    }
   ],
   "source": [
    "5 * 3 + 5\n"
   ]
  },
  {
   "cell_type": "code",
   "execution_count": 9,
   "id": "97d1c3d2-312f-4406-b7dd-ff9aa6855979",
   "metadata": {},
   "outputs": [
    {
     "data": {
      "text/plain": [
       "130"
      ]
     },
     "execution_count": 9,
     "metadata": {},
     "output_type": "execute_result"
    }
   ],
   "source": [
    "5 ** 3 + 5"
   ]
  },
  {
   "cell_type": "code",
   "execution_count": 10,
   "id": "d8661f8f-53d2-417a-b1c1-b9391433135d",
   "metadata": {},
   "outputs": [
    {
     "ename": "NameError",
     "evalue": "name 'weight' is not defined",
     "output_type": "error",
     "traceback": [
      "\u001b[1;31m---------------------------------------------------------------------------\u001b[0m",
      "\u001b[1;31mNameError\u001b[0m                                 Traceback (most recent call last)",
      "Cell \u001b[1;32mIn[10], line 3\u001b[0m\n\u001b[0;32m      1\u001b[0m width \u001b[38;5;241m=\u001b[39m \u001b[38;5;241m20\u001b[39m\n\u001b[0;32m      2\u001b[0m height \u001b[38;5;241m=\u001b[39m \u001b[38;5;241m40\u001b[39m\n\u001b[1;32m----> 3\u001b[0m weight \u001b[38;5;241m*\u001b[39m height\n",
      "\u001b[1;31mNameError\u001b[0m: name 'weight' is not defined"
     ]
    }
   ],
   "source": [
    "width = 20\n",
    "height = 40\n",
    "weight * height"
   ]
  },
  {
   "cell_type": "code",
   "execution_count": 11,
   "id": "1d5f6c58-ca9b-4219-989b-8aeed42e7c3d",
   "metadata": {},
   "outputs": [
    {
     "data": {
      "text/plain": [
       "800"
      ]
     },
     "execution_count": 11,
     "metadata": {},
     "output_type": "execute_result"
    }
   ],
   "source": [
    "width * height"
   ]
  },
  {
   "cell_type": "code",
   "execution_count": 12,
   "id": "5a3a81ca-3e86-4fb4-87a5-6c7e12be37a7",
   "metadata": {},
   "outputs": [
    {
     "data": {
      "text/plain": [
       "12.0"
      ]
     },
     "execution_count": 12,
     "metadata": {},
     "output_type": "execute_result"
    }
   ],
   "source": [
    "4 * 3.25 - 1"
   ]
  },
  {
   "cell_type": "code",
   "execution_count": 13,
   "id": "d13bf1f8-5733-456f-8901-1ba713e63623",
   "metadata": {},
   "outputs": [
    {
     "data": {
      "text/plain": [
       "12.5375"
      ]
     },
     "execution_count": 13,
     "metadata": {},
     "output_type": "execute_result"
    }
   ],
   "source": [
    "tax  =12.5 /100\n",
    "price = 100.30\n",
    "price * tax"
   ]
  },
  {
   "cell_type": "code",
   "execution_count": 14,
   "id": "76e3bc0a-eb38-4e02-92d8-74e864a1972d",
   "metadata": {},
   "outputs": [
    {
     "ename": "TypeError",
     "evalue": "unsupported operand type(s) for +: 'float' and 'str'",
     "output_type": "error",
     "traceback": [
      "\u001b[1;31m---------------------------------------------------------------------------\u001b[0m",
      "\u001b[1;31mTypeError\u001b[0m                                 Traceback (most recent call last)",
      "Cell \u001b[1;32mIn[14], line 1\u001b[0m\n\u001b[1;32m----> 1\u001b[0m price \u001b[38;5;241m+\u001b[39m _\n",
      "\u001b[1;31mTypeError\u001b[0m: unsupported operand type(s) for +: 'float' and 'str'"
     ]
    }
   ],
   "source": [
    "price + _"
   ]
  },
  {
   "cell_type": "code",
   "execution_count": 15,
   "id": "53a3b469-0fcb-454c-a1d5-a288b5b76335",
   "metadata": {},
   "outputs": [
    {
     "ename": "TypeError",
     "evalue": "unsupported operand type(s) for +: 'float' and 'str'",
     "output_type": "error",
     "traceback": [
      "\u001b[1;31m---------------------------------------------------------------------------\u001b[0m",
      "\u001b[1;31mTypeError\u001b[0m                                 Traceback (most recent call last)",
      "Cell \u001b[1;32mIn[15], line 1\u001b[0m\n\u001b[1;32m----> 1\u001b[0m price \u001b[38;5;241m+\u001b[39m _\n",
      "\u001b[1;31mTypeError\u001b[0m: unsupported operand type(s) for +: 'float' and 'str'"
     ]
    }
   ],
   "source": [
    "price + _"
   ]
  },
  {
   "cell_type": "code",
   "execution_count": 16,
   "id": "f5b5d7b4-ffd2-4ff4-acc8-054a99979a4d",
   "metadata": {},
   "outputs": [
    {
     "data": {
      "text/plain": [
       "'{\"dataframes\": [], \"user\": \"User\"}'"
      ]
     },
     "execution_count": 16,
     "metadata": {},
     "output_type": "execute_result"
    }
   ],
   "source": [
    "_"
   ]
  },
  {
   "cell_type": "code",
   "execution_count": 17,
   "id": "ae24e834-48d2-41a1-bed7-ff63d8e67fc9",
   "metadata": {},
   "outputs": [
    {
     "data": {
      "text/plain": [
       "12.5375"
      ]
     },
     "execution_count": 17,
     "metadata": {},
     "output_type": "execute_result"
    }
   ],
   "source": [
    "tax  =12.5 /100\n",
    "price = 100.30\n",
    "price * tax\n"
   ]
  },
  {
   "cell_type": "code",
   "execution_count": 18,
   "id": "f876308f-957d-485d-96bd-1b0ce951fa26",
   "metadata": {},
   "outputs": [
    {
     "data": {
      "text/plain": [
       "'{\"dataframes\": [], \"user\": \"User\"}'"
      ]
     },
     "execution_count": 18,
     "metadata": {},
     "output_type": "execute_result"
    }
   ],
   "source": [
    "_\n"
   ]
  },
  {
   "cell_type": "code",
   "execution_count": 19,
   "id": "c554c47d-62a5-4ee7-b193-411371a8c132",
   "metadata": {},
   "outputs": [
    {
     "ename": "TypeError",
     "evalue": "can only concatenate str (not \"int\") to str",
     "output_type": "error",
     "traceback": [
      "\u001b[1;31m---------------------------------------------------------------------------\u001b[0m",
      "\u001b[1;31mTypeError\u001b[0m                                 Traceback (most recent call last)",
      "Cell \u001b[1;32mIn[19], line 1\u001b[0m\n\u001b[1;32m----> 1\u001b[0m _ \u001b[38;5;241m+\u001b[39m \u001b[38;5;241m20\u001b[39m\n",
      "\u001b[1;31mTypeError\u001b[0m: can only concatenate str (not \"int\") to str"
     ]
    }
   ],
   "source": [
    "_ + 20"
   ]
  },
  {
   "cell_type": "code",
   "execution_count": 20,
   "id": "7b91babe-cdc7-4307-a169-adb77484cc4a",
   "metadata": {},
   "outputs": [
    {
     "data": {
      "text/plain": [
       "12.5625"
      ]
     },
     "execution_count": 20,
     "metadata": {},
     "output_type": "execute_result"
    }
   ],
   "source": [
    "tax  = 12.5 / 100\n",
    "price = 100.50\n",
    "price * tax"
   ]
  },
  {
   "cell_type": "code",
   "execution_count": 21,
   "id": "f5a4418f-045e-44c5-afb4-036908ff5901",
   "metadata": {},
   "outputs": [
    {
     "ename": "TypeError",
     "evalue": "unsupported operand type(s) for +: 'float' and 'str'",
     "output_type": "error",
     "traceback": [
      "\u001b[1;31m---------------------------------------------------------------------------\u001b[0m",
      "\u001b[1;31mTypeError\u001b[0m                                 Traceback (most recent call last)",
      "Cell \u001b[1;32mIn[21], line 1\u001b[0m\n\u001b[1;32m----> 1\u001b[0m price \u001b[38;5;241m+\u001b[39m _\n",
      "\u001b[1;31mTypeError\u001b[0m: unsupported operand type(s) for +: 'float' and 'str'"
     ]
    }
   ],
   "source": [
    "price + _"
   ]
  },
  {
   "cell_type": "code",
   "execution_count": 22,
   "id": "30241e1e-a31c-47f3-ad11-399b6106180b",
   "metadata": {},
   "outputs": [
    {
     "ename": "TypeError",
     "evalue": "unsupported operand type(s) for +: 'float' and 'str'",
     "output_type": "error",
     "traceback": [
      "\u001b[1;31m---------------------------------------------------------------------------\u001b[0m",
      "\u001b[1;31mTypeError\u001b[0m                                 Traceback (most recent call last)",
      "Cell \u001b[1;32mIn[22], line 1\u001b[0m\n\u001b[1;32m----> 1\u001b[0m price \u001b[38;5;241m+\u001b[39m _\n",
      "\u001b[1;31mTypeError\u001b[0m: unsupported operand type(s) for +: 'float' and 'str'"
     ]
    }
   ],
   "source": [
    "price + _ "
   ]
  },
  {
   "cell_type": "code",
   "execution_count": 23,
   "id": "2dcc5db7-dc89-4baa-a87d-7ee9ca6add2d",
   "metadata": {},
   "outputs": [
    {
     "data": {
      "text/plain": [
       "100.5"
      ]
     },
     "execution_count": 23,
     "metadata": {},
     "output_type": "execute_result"
    }
   ],
   "source": [
    "price "
   ]
  },
  {
   "cell_type": "raw",
   "id": "76a2da7b-3d1f-4418-8ee4-a18d1d5dfbe1",
   "metadata": {},
   "source": [
    "a = 5\n",
    "a"
   ]
  },
  {
   "cell_type": "code",
   "execution_count": 1,
   "id": "c1c054e6-9458-45a0-b7c8-6216ec997758",
   "metadata": {},
   "outputs": [
    {
     "data": {
      "text/plain": [
       "9"
      ]
     },
     "execution_count": 1,
     "metadata": {},
     "output_type": "execute_result"
    }
   ],
   "source": [
    "c = 9\n",
    "c"
   ]
  },
  {
   "cell_type": "markdown",
   "id": "17d16625-c050-43a4-be94-7dd00d0b9bd1",
   "metadata": {},
   "source": [
    "a = 9\n",
    "a"
   ]
  },
  {
   "cell_type": "code",
   "execution_count": 2,
   "id": "5491bfdf-6a0f-46cc-b866-97e59c70c83e",
   "metadata": {},
   "outputs": [
    {
     "data": {
      "text/plain": [
       "0"
      ]
     },
     "execution_count": 2,
     "metadata": {},
     "output_type": "execute_result"
    }
   ],
   "source": [
    "a = 0\n",
    "a"
   ]
  },
  {
   "cell_type": "code",
   "execution_count": 3,
   "id": "1871a61a-4618-4773-94c0-fd705d3be157",
   "metadata": {},
   "outputs": [
    {
     "data": {
      "text/plain": [
       "140727435471256"
      ]
     },
     "execution_count": 3,
     "metadata": {},
     "output_type": "execute_result"
    }
   ],
   "source": [
    "id(a)\n"
   ]
  },
  {
   "cell_type": "code",
   "execution_count": 4,
   "id": "7b082445-32ab-4ef8-8b32-3b1d4be9544b",
   "metadata": {},
   "outputs": [
    {
     "ename": "NameError",
     "evalue": "name 'price' is not defined",
     "output_type": "error",
     "traceback": [
      "\u001b[1;31m---------------------------------------------------------------------------\u001b[0m",
      "\u001b[1;31mNameError\u001b[0m                                 Traceback (most recent call last)",
      "Cell \u001b[1;32mIn[4], line 1\u001b[0m\n\u001b[1;32m----> 1\u001b[0m price\n",
      "\u001b[1;31mNameError\u001b[0m: name 'price' is not defined"
     ]
    }
   ],
   "source": [
    "price"
   ]
  },
  {
   "cell_type": "code",
   "execution_count": 5,
   "id": "f4a5ee34-b678-4582-8bbe-1175b8e5df16",
   "metadata": {},
   "outputs": [
    {
     "data": {
      "text/plain": [
       "100.5"
      ]
     },
     "execution_count": 5,
     "metadata": {},
     "output_type": "execute_result"
    }
   ],
   "source": [
    "price = 100.50\n",
    "tax = 12.5 /100\n",
    "price"
   ]
  },
  {
   "cell_type": "code",
   "execution_count": 6,
   "id": "44c90a4b-0861-4d67-ba4b-b872989cf7d8",
   "metadata": {},
   "outputs": [
    {
     "data": {
      "text/plain": [
       "0.125"
      ]
     },
     "execution_count": 6,
     "metadata": {},
     "output_type": "execute_result"
    }
   ],
   "source": [
    "tax"
   ]
  },
  {
   "cell_type": "code",
   "execution_count": 7,
   "id": "945ae822-a148-4d2b-9a5a-daab47564d85",
   "metadata": {},
   "outputs": [
    {
     "data": {
      "text/plain": [
       "100.625"
      ]
     },
     "execution_count": 7,
     "metadata": {},
     "output_type": "execute_result"
    }
   ],
   "source": [
    "price + tax"
   ]
  },
  {
   "cell_type": "raw",
   "id": "fd043964-9fd4-4759-ad57-256163c4fb89",
   "metadata": {},
   "source": [
    "round(_,2)"
   ]
  },
  {
   "cell_type": "code",
   "execution_count": 8,
   "id": "3334c481-a8e7-419d-8f5c-4e9c6c94e36b",
   "metadata": {},
   "outputs": [
    {
     "data": {
      "text/plain": [
       "'Saipriya'"
      ]
     },
     "execution_count": 8,
     "metadata": {},
     "output_type": "execute_result"
    }
   ],
   "source": [
    "'Saipriya'"
   ]
  },
  {
   "cell_type": "code",
   "execution_count": 9,
   "id": "eb341021-9b4a-4f9e-86fc-e34be1f0d398",
   "metadata": {},
   "outputs": [
    {
     "data": {
      "text/plain": [
       "'Saipriya AI Engineer'"
      ]
     },
     "execution_count": 9,
     "metadata": {},
     "output_type": "execute_result"
    }
   ],
   "source": [
    "\"Saipriya AI Engineer\""
   ]
  },
  {
   "cell_type": "code",
   "execution_count": 10,
   "id": "05821ca5-f9c1-414d-8945-0a8fa7edb907",
   "metadata": {},
   "outputs": [
    {
     "data": {
      "text/plain": [
       "'1987'"
      ]
     },
     "execution_count": 10,
     "metadata": {},
     "output_type": "execute_result"
    }
   ],
   "source": [
    "'1987'"
   ]
  },
  {
   "cell_type": "code",
   "execution_count": 12,
   "id": "87fb4e0f-ad98-4bd4-a739-84da9d03bcee",
   "metadata": {},
   "outputs": [
    {
     "data": {
      "text/plain": [
       "\"doesn't\""
      ]
     },
     "execution_count": 12,
     "metadata": {},
     "output_type": "execute_result"
    }
   ],
   "source": [
    "'doesn\\'t'"
   ]
  },
  {
   "cell_type": "code",
   "execution_count": 13,
   "id": "b573dd4d-c69e-4844-95eb-06f013c04215",
   "metadata": {},
   "outputs": [
    {
     "data": {
      "text/plain": [
       "\"doesn't\""
      ]
     },
     "execution_count": 13,
     "metadata": {},
     "output_type": "execute_result"
    }
   ],
   "source": [
    "\"doesn't\""
   ]
  },
  {
   "cell_type": "code",
   "execution_count": 14,
   "id": "450aff8f-8974-437e-a7fb-9f543a894b48",
   "metadata": {},
   "outputs": [
    {
     "data": {
      "text/plain": [
       "' \"Yes\", They said '"
      ]
     },
     "execution_count": 14,
     "metadata": {},
     "output_type": "execute_result"
    }
   ],
   "source": [
    "' \"Yes\", They said '"
   ]
  },
  {
   "cell_type": "code",
   "execution_count": 16,
   "id": "94e46ac0-5a50-427c-9dc6-18a54e3a6fc2",
   "metadata": {},
   "outputs": [
    {
     "data": {
      "text/plain": [
       "\"doesn't\""
      ]
     },
     "execution_count": 16,
     "metadata": {},
     "output_type": "execute_result"
    }
   ],
   "source": [
    "'doesn\\'t'"
   ]
  },
  {
   "cell_type": "code",
   "execution_count": 17,
   "id": "2d49cb2b-32ff-4e6e-9ce3-295572ec9a51",
   "metadata": {},
   "outputs": [
    {
     "data": {
      "text/plain": [
       "' \"Hi.. I am Sai\\'s laptop\" '"
      ]
     },
     "execution_count": 17,
     "metadata": {},
     "output_type": "execute_result"
    }
   ],
   "source": [
    "' \"Hi.. I am Sai\\'s laptop\" '"
   ]
  },
  {
   "cell_type": "code",
   "execution_count": 18,
   "id": "376af0c0-7417-4c3f-8c7d-4d9c0cb1c31d",
   "metadata": {},
   "outputs": [
    {
     "data": {
      "text/plain": [
       "'First line. \\n Second line'"
      ]
     },
     "execution_count": 18,
     "metadata": {},
     "output_type": "execute_result"
    }
   ],
   "source": [
    "s = \"First line. \\n Second line\"\n",
    "s"
   ]
  },
  {
   "cell_type": "code",
   "execution_count": 19,
   "id": "99ccd6c7-e153-4455-9a3a-341024ce1c88",
   "metadata": {},
   "outputs": [
    {
     "name": "stdout",
     "output_type": "stream",
     "text": [
      "First line. \n",
      " Second line\n"
     ]
    }
   ],
   "source": [
    "print(s)"
   ]
  },
  {
   "cell_type": "code",
   "execution_count": 20,
   "id": "37caf1c1-24bf-4883-ac89-1777a5f55013",
   "metadata": {},
   "outputs": [
    {
     "name": "stdout",
     "output_type": "stream",
     "text": [
      "C:\\sai\n",
      "ew\n"
     ]
    },
    {
     "name": "stderr",
     "output_type": "stream",
     "text": [
      "<>:1: SyntaxWarning: invalid escape sequence '\\s'\n",
      "<>:1: SyntaxWarning: invalid escape sequence '\\s'\n",
      "C:\\Users\\User\\AppData\\Local\\Temp\\ipykernel_15240\\357380970.py:1: SyntaxWarning: invalid escape sequence '\\s'\n",
      "  print(\"C:\\sai\\new\")\n"
     ]
    }
   ],
   "source": [
    "print(\"C:\\sai\\new\")"
   ]
  },
  {
   "cell_type": "code",
   "execution_count": 22,
   "id": "5b077bb5-5e81-4dfd-a289-378e04b88364",
   "metadata": {},
   "outputs": [
    {
     "name": "stdout",
     "output_type": "stream",
     "text": [
      "C:\\sai\\new\n"
     ]
    }
   ],
   "source": [
    "print(r\"C:\\sai\\new\")"
   ]
  },
  {
   "cell_type": "code",
   "execution_count": 23,
   "id": "cde4f913-32de-479f-8083-d35eab80a1a3",
   "metadata": {},
   "outputs": [
    {
     "name": "stdout",
     "output_type": "stream",
     "text": [
      "       sai\n",
      "       priya\n",
      "       sindhu\n",
      "       \n"
     ]
    }
   ],
   "source": [
    "print (\"\"\"\\\n",
    "       sai\n",
    "       priya\n",
    "       sindhu\n",
    "       \"\"\")"
   ]
  },
  {
   "cell_type": "code",
   "execution_count": 27,
   "id": "717f21f3-26f3-4cc5-b258-6142f0d992f3",
   "metadata": {},
   "outputs": [
    {
     "name": "stdout",
     "output_type": "stream",
     "text": [
      "       Naresh it      resides     in \n",
      "        Ameerpet       Hyderabad\n",
      "        \n"
     ]
    }
   ],
   "source": [
    "print (\"\"\"\\\n",
    "       Naresh it      resides     in \n",
    "        Ameerpet       Hyderabad\n",
    "        \"\"\")"
   ]
  },
  {
   "cell_type": "code",
   "execution_count": 29,
   "id": "83664192-17f5-4bcb-8043-8e04378d3c9b",
   "metadata": {},
   "outputs": [
    {
     "data": {
      "text/plain": [
       "'unununium'"
      ]
     },
     "execution_count": 29,
     "metadata": {},
     "output_type": "execute_result"
    }
   ],
   "source": [
    "3 * 'un' +'ium'"
   ]
  },
  {
   "cell_type": "code",
   "execution_count": 30,
   "id": "67346319-e0ac-4e69-bc75-7f83890b9486",
   "metadata": {},
   "outputs": [
    {
     "data": {
      "text/plain": [
       "'python'"
      ]
     },
     "execution_count": 30,
     "metadata": {},
     "output_type": "execute_result"
    }
   ],
   "source": [
    "'py' + 'thon'"
   ]
  },
  {
   "cell_type": "code",
   "execution_count": 33,
   "id": "d45186fe-2b31-44dd-8a14-b0ee2e239cbb",
   "metadata": {},
   "outputs": [
    {
     "data": {
      "text/plain": [
       "'thon'"
      ]
     },
     "execution_count": 33,
     "metadata": {},
     "output_type": "execute_result"
    }
   ],
   "source": [
    "s = 'py'\n",
    "id(s)\n",
    "s = 'thon'\n",
    "s"
   ]
  },
  {
   "cell_type": "code",
   "execution_count": 34,
   "id": "fa3e5061-19c5-4892-b30c-2cf8d2a6251e",
   "metadata": {},
   "outputs": [
    {
     "data": {
      "text/plain": [
       "2284253140656"
      ]
     },
     "execution_count": 34,
     "metadata": {},
     "output_type": "execute_result"
    }
   ],
   "source": [
    "id(s)"
   ]
  },
  {
   "cell_type": "code",
   "execution_count": 35,
   "id": "6e47127f-2df0-43c5-ae41-46e7c5549667",
   "metadata": {},
   "outputs": [
    {
     "data": {
      "text/plain": [
       "2284253140656"
      ]
     },
     "execution_count": 35,
     "metadata": {},
     "output_type": "execute_result"
    }
   ],
   "source": [
    "id(s)"
   ]
  },
  {
   "cell_type": "code",
   "execution_count": 38,
   "id": "829903d3-4124-472e-a3f1-ac9a227b4ce9",
   "metadata": {},
   "outputs": [
    {
     "data": {
      "text/plain": [
       "140727434948672"
      ]
     },
     "execution_count": 38,
     "metadata": {},
     "output_type": "execute_result"
    }
   ],
   "source": [
    "s = 'py'\n",
    "id(s)"
   ]
  },
  {
   "cell_type": "code",
   "execution_count": 37,
   "id": "6fccd300-ee17-4831-9925-ae705bf0abf1",
   "metadata": {},
   "outputs": [
    {
     "data": {
      "text/plain": [
       "2284252254864"
      ]
     },
     "execution_count": 37,
     "metadata": {},
     "output_type": "execute_result"
    }
   ],
   "source": [
    "s = 'sai'\n",
    "id(s)"
   ]
  },
  {
   "cell_type": "code",
   "execution_count": 40,
   "id": "b59e7572-34c2-41c8-a5f0-5e0b702335da",
   "metadata": {},
   "outputs": [
    {
     "data": {
      "text/plain": [
       "'Naresh IT resides in AmeerpetHyderabad.'"
      ]
     },
     "execution_count": 40,
     "metadata": {},
     "output_type": "execute_result"
    }
   ],
   "source": [
    "t = ('Naresh IT resides in Ameerpet'\n",
    "     'Hyderabad.')\n",
    "t"
   ]
  },
  {
   "cell_type": "code",
   "execution_count": 41,
   "id": "604dfb6e-1e01-4861-b3da-d26f896d44b5",
   "metadata": {},
   "outputs": [
    {
     "data": {
      "text/plain": [
       "'thon'"
      ]
     },
     "execution_count": 41,
     "metadata": {},
     "output_type": "execute_result"
    }
   ],
   "source": [
    "s = 'py'\n",
    "s= 'thon'\n",
    "s"
   ]
  },
  {
   "cell_type": "code",
   "execution_count": 42,
   "id": "6c0c1241-974a-4dca-a687-f0c89d1943c9",
   "metadata": {},
   "outputs": [
    {
     "data": {
      "text/plain": [
       "'python'"
      ]
     },
     "execution_count": 42,
     "metadata": {},
     "output_type": "execute_result"
    }
   ],
   "source": [
    "'py'+ s"
   ]
  },
  {
   "cell_type": "code",
   "execution_count": 43,
   "id": "53edbb34-c053-4d6e-b1a9-ee250b3d6e98",
   "metadata": {},
   "outputs": [
    {
     "data": {
      "text/plain": [
       "'pypypython'"
      ]
     },
     "execution_count": 43,
     "metadata": {},
     "output_type": "execute_result"
    }
   ],
   "source": [
    "'py' *3 + 'thon'"
   ]
  },
  {
   "cell_type": "code",
   "execution_count": 45,
   "id": "e4dd9e80-17d1-4431-bd78-7147ca65fee5",
   "metadata": {},
   "outputs": [
    {
     "data": {
      "text/plain": [
       "'s'"
      ]
     },
     "execution_count": 45,
     "metadata": {},
     "output_type": "execute_result"
    }
   ],
   "source": [
    "word = 'saipriya'\n",
    "word[0]"
   ]
  },
  {
   "cell_type": "code",
   "execution_count": 49,
   "id": "f0012150-feda-4aeb-92e1-fa1e844cad45",
   "metadata": {},
   "outputs": [
    {
     "ename": "IndexError",
     "evalue": "string index out of range",
     "output_type": "error",
     "traceback": [
      "\u001b[1;31m---------------------------------------------------------------------------\u001b[0m",
      "\u001b[1;31mIndexError\u001b[0m                                Traceback (most recent call last)",
      "Cell \u001b[1;32mIn[49], line 1\u001b[0m\n\u001b[1;32m----> 1\u001b[0m word[\u001b[38;5;241m8\u001b[39m]\n",
      "\u001b[1;31mIndexError\u001b[0m: string index out of range"
     ]
    }
   ],
   "source": [
    "word[8]"
   ]
  },
  {
   "cell_type": "code",
   "execution_count": 50,
   "id": "3702a7a8-ce96-48e6-81a5-b3678a17c66f",
   "metadata": {},
   "outputs": [
    {
     "data": {
      "text/plain": [
       "'a'"
      ]
     },
     "execution_count": 50,
     "metadata": {},
     "output_type": "execute_result"
    }
   ],
   "source": [
    "word[-1]"
   ]
  },
  {
   "cell_type": "code",
   "execution_count": 55,
   "id": "c6284bf4-b436-45d6-8eb8-f3a31fe0f9a7",
   "metadata": {},
   "outputs": [
    {
     "data": {
      "text/plain": [
       "'s'"
      ]
     },
     "execution_count": 55,
     "metadata": {},
     "output_type": "execute_result"
    }
   ],
   "source": [
    "word[-8]"
   ]
  },
  {
   "cell_type": "code",
   "execution_count": 64,
   "id": "a752d097-6088-4661-97d9-5fbe6a81c476",
   "metadata": {},
   "outputs": [
    {
     "data": {
      "text/plain": [
       "'ipriya'"
      ]
     },
     "execution_count": 64,
     "metadata": {},
     "output_type": "execute_result"
    }
   ],
   "source": [
    "word[2:]"
   ]
  },
  {
   "cell_type": "code",
   "execution_count": 66,
   "id": "f73ecd76-426c-4549-b8bb-6990b3631b22",
   "metadata": {},
   "outputs": [
    {
     "data": {
      "text/plain": [
       "''"
      ]
     },
     "execution_count": 66,
     "metadata": {},
     "output_type": "execute_result"
    }
   ],
   "source": [
    "word[2:1]"
   ]
  },
  {
   "cell_type": "code",
   "execution_count": 67,
   "id": "1e823dc8-a7ac-4a32-a5fb-95b5342b988a",
   "metadata": {},
   "outputs": [
    {
     "data": {
      "text/plain": [
       "'sai'"
      ]
     },
     "execution_count": 67,
     "metadata": {},
     "output_type": "execute_result"
    }
   ],
   "source": [
    "word[:3]\n"
   ]
  },
  {
   "cell_type": "code",
   "execution_count": 69,
   "id": "ccf385a3-fe85-4282-b3a4-e70c8e3ab867",
   "metadata": {},
   "outputs": [
    {
     "data": {
      "text/plain": [
       "'saipr'"
      ]
     },
     "execution_count": 69,
     "metadata": {},
     "output_type": "execute_result"
    }
   ],
   "source": [
    "word[:-3]"
   ]
  },
  {
   "cell_type": "code",
   "execution_count": 70,
   "id": "35629db5-2194-41ca-a7d1-1ca6602762a5",
   "metadata": {},
   "outputs": [
    {
     "data": {
      "text/plain": [
       "'iya'"
      ]
     },
     "execution_count": 70,
     "metadata": {},
     "output_type": "execute_result"
    }
   ],
   "source": [
    "word[-3:]"
   ]
  },
  {
   "cell_type": "code",
   "execution_count": 73,
   "id": "3c7ac5c6-54bf-4180-a988-b38f687d8b4a",
   "metadata": {},
   "outputs": [
    {
     "data": {
      "text/plain": [
       "'ip'"
      ]
     },
     "execution_count": 73,
     "metadata": {},
     "output_type": "execute_result"
    }
   ],
   "source": [
    "word[2:4]"
   ]
  },
  {
   "cell_type": "code",
   "execution_count": 74,
   "id": "38a8562b-593f-4f31-a38a-e4767b713200",
   "metadata": {},
   "outputs": [
    {
     "data": {
      "text/plain": [
       "'saipriya'"
      ]
     },
     "execution_count": 74,
     "metadata": {},
     "output_type": "execute_result"
    }
   ],
   "source": [
    "word[0:3] +word[3:]"
   ]
  },
  {
   "cell_type": "code",
   "execution_count": 75,
   "id": "6fbb563f-bc15-40c1-961c-080b7dbe1d1b",
   "metadata": {},
   "outputs": [
    {
     "data": {
      "text/plain": [
       "'saipriya'"
      ]
     },
     "execution_count": 75,
     "metadata": {},
     "output_type": "execute_result"
    }
   ],
   "source": [
    "word[:3] +word[3:]"
   ]
  },
  {
   "cell_type": "code",
   "execution_count": 76,
   "id": "6da19efe-6ff3-4ad8-92b8-c82a394bbebf",
   "metadata": {},
   "outputs": [
    {
     "data": {
      "text/plain": [
       "'saipriya'"
      ]
     },
     "execution_count": 76,
     "metadata": {},
     "output_type": "execute_result"
    }
   ],
   "source": [
    "word[:2] + word[2:]"
   ]
  },
  {
   "cell_type": "code",
   "execution_count": 77,
   "id": "0ea394b3-5779-4641-999f-e9751d5fcb2b",
   "metadata": {},
   "outputs": [
    {
     "ename": "TypeError",
     "evalue": "'str' object does not support item assignment",
     "output_type": "error",
     "traceback": [
      "\u001b[1;31m---------------------------------------------------------------------------\u001b[0m",
      "\u001b[1;31mTypeError\u001b[0m                                 Traceback (most recent call last)",
      "Cell \u001b[1;32mIn[77], line 1\u001b[0m\n\u001b[1;32m----> 1\u001b[0m word[\u001b[38;5;241m0\u001b[39m] \u001b[38;5;241m=\u001b[39m \u001b[38;5;124m'\u001b[39m\u001b[38;5;124md\u001b[39m\u001b[38;5;124m'\u001b[39m\n",
      "\u001b[1;31mTypeError\u001b[0m: 'str' object does not support item assignment"
     ]
    }
   ],
   "source": [
    "word[0] = 'd'"
   ]
  },
  {
   "cell_type": "code",
   "execution_count": 79,
   "id": "4fc26b6f-ed21-498f-8478-275794f5b2c5",
   "metadata": {},
   "outputs": [
    {
     "data": {
      "text/plain": [
       "'sindhu priya'"
      ]
     },
     "execution_count": 79,
     "metadata": {},
     "output_type": "execute_result"
    }
   ],
   "source": [
    "'sindhu ' + word[3:]"
   ]
  },
  {
   "cell_type": "code",
   "execution_count": 80,
   "id": "6d0080ea-677a-453b-9dda-4ac1a5134703",
   "metadata": {},
   "outputs": [
    {
     "data": {
      "text/plain": [
       "8"
      ]
     },
     "execution_count": 80,
     "metadata": {},
     "output_type": "execute_result"
    }
   ],
   "source": [
    "len(word)"
   ]
  },
  {
   "cell_type": "code",
   "execution_count": null,
   "id": "8447d09d-b925-4088-a055-9bc44f27ed7c",
   "metadata": {},
   "outputs": [],
   "source": []
  },
  {
   "cell_type": "code",
   "execution_count": null,
   "id": "b3c48b31-6d07-4450-8bd4-10fb3496d832",
   "metadata": {},
   "outputs": [],
   "source": []
  }
 ],
 "metadata": {
  "kernelspec": {
   "display_name": "Python [conda env:base] *",
   "language": "python",
   "name": "conda-base-py"
  },
  "language_info": {
   "codemirror_mode": {
    "name": "ipython",
    "version": 3
   },
   "file_extension": ".py",
   "mimetype": "text/x-python",
   "name": "python",
   "nbconvert_exporter": "python",
   "pygments_lexer": "ipython3",
   "version": "3.12.7"
  }
 },
 "nbformat": 4,
 "nbformat_minor": 5
}
