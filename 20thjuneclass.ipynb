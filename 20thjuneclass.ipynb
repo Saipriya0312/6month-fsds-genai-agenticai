{
 "cells": [
  {
   "cell_type": "code",
   "execution_count": 1,
   "id": "513fc48d-28c5-4151-9969-9cf7d84a0892",
   "metadata": {},
   "outputs": [],
   "source": [
    "p = q = r = 20"
   ]
  },
  {
   "cell_type": "code",
   "execution_count": 3,
   "id": "fa52e249-1de2-49cc-bf50-96f1532523f5",
   "metadata": {},
   "outputs": [
    {
     "data": {
      "text/plain": [
       "20"
      ]
     },
     "execution_count": 3,
     "metadata": {},
     "output_type": "execute_result"
    }
   ],
   "source": [
    "p"
   ]
  },
  {
   "cell_type": "code",
   "execution_count": 7,
   "id": "875e32f5-d00f-4397-993e-d6dc4f67edd1",
   "metadata": {},
   "outputs": [],
   "source": [
    "p1,q1,r1 = 20,20,20"
   ]
  },
  {
   "cell_type": "code",
   "execution_count": 5,
   "id": "e859c9b5-2384-491e-a74b-805d69b5b2be",
   "metadata": {},
   "outputs": [
    {
     "data": {
      "text/plain": [
       "140726489525272"
      ]
     },
     "execution_count": 5,
     "metadata": {},
     "output_type": "execute_result"
    }
   ],
   "source": [
    "id(p)"
   ]
  },
  {
   "cell_type": "code",
   "execution_count": 6,
   "id": "2024e786-c165-433c-81bb-895af414861c",
   "metadata": {},
   "outputs": [
    {
     "data": {
      "text/plain": [
       "140726489525272"
      ]
     },
     "execution_count": 6,
     "metadata": {},
     "output_type": "execute_result"
    }
   ],
   "source": [
    "id(q)"
   ]
  },
  {
   "cell_type": "code",
   "execution_count": 8,
   "id": "9ca85c71-e785-477e-82df-c33442c2de4e",
   "metadata": {},
   "outputs": [
    {
     "data": {
      "text/plain": [
       "8"
      ]
     },
     "execution_count": 8,
     "metadata": {},
     "output_type": "execute_result"
    }
   ],
   "source": [
    "s ='saipriya'\n",
    "len(s)"
   ]
  },
  {
   "cell_type": "code",
   "execution_count": 9,
   "id": "b481c22f-926e-48ad-a6df-2744565bc50d",
   "metadata": {},
   "outputs": [
    {
     "data": {
      "text/plain": [
       "'s'"
      ]
     },
     "execution_count": 9,
     "metadata": {},
     "output_type": "execute_result"
    }
   ],
   "source": [
    "s[0]"
   ]
  },
  {
   "cell_type": "code",
   "execution_count": 10,
   "id": "97030e60-6d2b-4b15-a89b-bf2cdb6f0176",
   "metadata": {},
   "outputs": [
    {
     "data": {
      "text/plain": [
       "'p'"
      ]
     },
     "execution_count": 10,
     "metadata": {},
     "output_type": "execute_result"
    }
   ],
   "source": [
    "s[3]"
   ]
  },
  {
   "cell_type": "code",
   "execution_count": 11,
   "id": "414b4928-c3fc-452a-8028-e268c90b5b08",
   "metadata": {},
   "outputs": [
    {
     "data": {
      "text/plain": [
       "'y'"
      ]
     },
     "execution_count": 11,
     "metadata": {},
     "output_type": "execute_result"
    }
   ],
   "source": [
    "s[-2]"
   ]
  },
  {
   "cell_type": "code",
   "execution_count": 12,
   "id": "bf9c038e-94c7-46f6-8b7b-e9a76fc28c81",
   "metadata": {},
   "outputs": [
    {
     "data": {
      "text/plain": [
       "'i'"
      ]
     },
     "execution_count": 12,
     "metadata": {},
     "output_type": "execute_result"
    }
   ],
   "source": [
    "s[-3]"
   ]
  },
  {
   "cell_type": "code",
   "execution_count": 13,
   "id": "34b4b55c-836f-4e57-a6ec-e91e61862930",
   "metadata": {},
   "outputs": [
    {
     "data": {
      "text/plain": [
       "'saip'"
      ]
     },
     "execution_count": 13,
     "metadata": {},
     "output_type": "execute_result"
    }
   ],
   "source": [
    "s[0:4]"
   ]
  },
  {
   "cell_type": "code",
   "execution_count": 16,
   "id": "659c76a3-6533-45b7-8c72-85e58933c82e",
   "metadata": {},
   "outputs": [
    {
     "data": {
      "text/plain": [
       "''"
      ]
     },
     "execution_count": 16,
     "metadata": {},
     "output_type": "execute_result"
    }
   ],
   "source": [
    "s[-1:]"
   ]
  },
  {
   "cell_type": "code",
   "execution_count": 18,
   "id": "ef65991b-2dfc-44f5-bcc3-031db91a5821",
   "metadata": {},
   "outputs": [
    {
     "data": {
      "text/plain": [
       "'hello python'"
      ]
     },
     "execution_count": 18,
     "metadata": {},
     "output_type": "execute_result"
    }
   ],
   "source": [
    "s = 'hello python'\n",
    "s\n"
   ]
  },
  {
   "cell_type": "code",
   "execution_count": 19,
   "id": "1975c01b-dc4f-4ab8-b96d-d67bbb2be739",
   "metadata": {},
   "outputs": [
    {
     "data": {
      "text/plain": [
       "' python'"
      ]
     },
     "execution_count": 19,
     "metadata": {},
     "output_type": "execute_result"
    }
   ],
   "source": [
    "s[5:]"
   ]
  },
  {
   "cell_type": "code",
   "execution_count": 20,
   "id": "220dc788-7289-4973-adb0-72b19dd35589",
   "metadata": {},
   "outputs": [
    {
     "data": {
      "text/plain": [
       "'hello python'"
      ]
     },
     "execution_count": 20,
     "metadata": {},
     "output_type": "execute_result"
    }
   ],
   "source": [
    "s[:]  # slicing"
   ]
  },
  {
   "cell_type": "code",
   "execution_count": 21,
   "id": "86b5362d-4276-4735-b7b9-55c54e2a0379",
   "metadata": {},
   "outputs": [
    {
     "data": {
      "text/plain": [
       "'hello'"
      ]
     },
     "execution_count": 21,
     "metadata": {},
     "output_type": "execute_result"
    }
   ],
   "source": [
    "s[0:5]"
   ]
  },
  {
   "cell_type": "code",
   "execution_count": 22,
   "id": "b7ebb93d-bf31-4a44-b894-97373bfb3eb4",
   "metadata": {},
   "outputs": [
    {
     "data": {
      "text/plain": [
       "'hello '"
      ]
     },
     "execution_count": 22,
     "metadata": {},
     "output_type": "execute_result"
    }
   ],
   "source": [
    "s[0:6]"
   ]
  },
  {
   "cell_type": "code",
   "execution_count": 24,
   "id": "f6f60636-7dae-4378-903a-4002c93b8ee4",
   "metadata": {},
   "outputs": [
    {
     "data": {
      "text/plain": [
       "'pyt'"
      ]
     },
     "execution_count": 24,
     "metadata": {},
     "output_type": "execute_result"
    }
   ],
   "source": [
    "s[6:9]"
   ]
  },
  {
   "cell_type": "code",
   "execution_count": 25,
   "id": "00796602-5ec2-4dc8-88d1-503a35e75af4",
   "metadata": {},
   "outputs": [
    {
     "data": {
      "text/plain": [
       "'ytho'"
      ]
     },
     "execution_count": 25,
     "metadata": {},
     "output_type": "execute_result"
    }
   ],
   "source": [
    "s[-5:-1]"
   ]
  },
  {
   "cell_type": "code",
   "execution_count": 26,
   "id": "b4719fd7-9816-42b1-a822-28dc60664f8b",
   "metadata": {},
   "outputs": [
    {
     "data": {
      "text/plain": [
       "'th'"
      ]
     },
     "execution_count": 26,
     "metadata": {},
     "output_type": "execute_result"
    }
   ],
   "source": [
    "s[-4:-2]"
   ]
  },
  {
   "cell_type": "code",
   "execution_count": 27,
   "id": "1ebf37ae-f91f-4bd7-900f-5f9361f3d119",
   "metadata": {},
   "outputs": [
    {
     "data": {
      "text/plain": [
       "'hello python'"
      ]
     },
     "execution_count": 27,
     "metadata": {},
     "output_type": "execute_result"
    }
   ],
   "source": [
    "s[::]"
   ]
  },
  {
   "cell_type": "code",
   "execution_count": 28,
   "id": "61cbfbd0-da16-489d-98ff-8ddc2fc4e97a",
   "metadata": {},
   "outputs": [
    {
     "data": {
      "text/plain": [
       "'llo python'"
      ]
     },
     "execution_count": 28,
     "metadata": {},
     "output_type": "execute_result"
    }
   ],
   "source": [
    "s[2:]"
   ]
  },
  {
   "cell_type": "code",
   "execution_count": 31,
   "id": "038f3d2b-788f-4fd2-b3b5-1da4f193e214",
   "metadata": {},
   "outputs": [
    {
     "data": {
      "text/plain": [
       "'hello '"
      ]
     },
     "execution_count": 31,
     "metadata": {},
     "output_type": "execute_result"
    }
   ],
   "source": [
    "s[:6]"
   ]
  },
  {
   "cell_type": "code",
   "execution_count": 32,
   "id": "26922f38-5c98-4b40-aa5c-bef0e6205b06",
   "metadata": {},
   "outputs": [
    {
     "data": {
      "text/plain": [
       "'nohtyp olleh'"
      ]
     },
     "execution_count": 32,
     "metadata": {},
     "output_type": "execute_result"
    }
   ],
   "source": [
    "s[::-1] # reverse dispalyig string"
   ]
  },
  {
   "cell_type": "code",
   "execution_count": 33,
   "id": "f73a2e6e-9ef8-414f-a2a6-c76825c90c08",
   "metadata": {},
   "outputs": [
    {
     "data": {
      "text/plain": [
       "'nhy le'"
      ]
     },
     "execution_count": 33,
     "metadata": {},
     "output_type": "execute_result"
    }
   ],
   "source": [
    "s[::-2]"
   ]
  },
  {
   "cell_type": "code",
   "execution_count": 34,
   "id": "4125c890-2b2d-4448-b658-427379afb308",
   "metadata": {},
   "outputs": [
    {
     "data": {
      "text/plain": [
       "'lopt'"
      ]
     },
     "execution_count": 34,
     "metadata": {},
     "output_type": "execute_result"
    }
   ],
   "source": [
    "s[2:10:2]"
   ]
  },
  {
   "cell_type": "code",
   "execution_count": 35,
   "id": "2ca13d37-755e-45d5-8180-54dcef619c91",
   "metadata": {},
   "outputs": [
    {
     "data": {
      "text/plain": [
       "'hlph'"
      ]
     },
     "execution_count": 35,
     "metadata": {},
     "output_type": "execute_result"
    }
   ],
   "source": [
    "s[0:13:3]  #hello python"
   ]
  },
  {
   "cell_type": "code",
   "execution_count": 36,
   "id": "b27d9b95-e213-43f9-baf7-4e3d06016367",
   "metadata": {},
   "outputs": [
    {
     "data": {
      "text/plain": [
       "'h '"
      ]
     },
     "execution_count": 36,
     "metadata": {},
     "output_type": "execute_result"
    }
   ],
   "source": [
    "s[0:10:5]"
   ]
  },
  {
   "cell_type": "code",
   "execution_count": 37,
   "id": "72015d7d-27a4-4919-a61b-1593dea328e1",
   "metadata": {},
   "outputs": [
    {
     "data": {
      "text/plain": [
       "'nareshit'"
      ]
     },
     "execution_count": 37,
     "metadata": {},
     "output_type": "execute_result"
    }
   ],
   "source": [
    "s1 = 'nareshit'\n",
    "s1"
   ]
  },
  {
   "cell_type": "code",
   "execution_count": 41,
   "id": "19a0c50a-17fb-419a-957e-0220b8c0a827",
   "metadata": {},
   "outputs": [
    {
     "data": {
      "text/plain": [
       "'hello python'"
      ]
     },
     "execution_count": 41,
     "metadata": {},
     "output_type": "execute_result"
    }
   ],
   "source": [
    "s\n"
   ]
  },
  {
   "cell_type": "code",
   "execution_count": 44,
   "id": "aebc70dd-b511-41d5-a875-98ad74ad15d7",
   "metadata": {},
   "outputs": [
    {
     "ename": "SyntaxError",
     "evalue": "invalid syntax (222336749.py, line 1)",
     "output_type": "error",
     "traceback": [
      "\u001b[1;36m  Cell \u001b[1;32mIn[44], line 1\u001b[1;36m\u001b[0m\n\u001b[1;33m    k@ = 'new'\u001b[0m\n\u001b[1;37m       ^\u001b[0m\n\u001b[1;31mSyntaxError\u001b[0m\u001b[1;31m:\u001b[0m invalid syntax\n"
     ]
    }
   ],
   "source": [
    "k@ = 'new'\n",
    "k@"
   ]
  },
  {
   "cell_type": "code",
   "execution_count": 45,
   "id": "c707c00a-981a-44bf-9bed-29ce4c4437a5",
   "metadata": {},
   "outputs": [
    {
     "data": {
      "text/plain": [
       "'new'"
      ]
     },
     "execution_count": 45,
     "metadata": {},
     "output_type": "execute_result"
    }
   ],
   "source": [
    "k = 'new'\n",
    "k"
   ]
  },
  {
   "cell_type": "code",
   "execution_count": 46,
   "id": "e62d1558-f7a5-49de-bee7-326cc4ac728e",
   "metadata": {},
   "outputs": [
    {
     "data": {
      "text/plain": [
       "40"
      ]
     },
     "execution_count": 46,
     "metadata": {},
     "output_type": "execute_result"
    }
   ],
   "source": [
    "k_ = 40\n",
    "k_"
   ]
  },
  {
   "cell_type": "code",
   "execution_count": 50,
   "id": "f97e040d-5a92-4a07-8c32-0889fa69195f",
   "metadata": {},
   "outputs": [
    {
     "ename": "SyntaxError",
     "evalue": "invalid syntax (3032960778.py, line 1)",
     "output_type": "error",
     "traceback": [
      "\u001b[1;36m  Cell \u001b[1;32mIn[50], line 1\u001b[1;36m\u001b[0m\n\u001b[1;33m    import  = 90\u001b[0m\n\u001b[1;37m            ^\u001b[0m\n\u001b[1;31mSyntaxError\u001b[0m\u001b[1;31m:\u001b[0m invalid syntax\n"
     ]
    }
   ],
   "source": [
    "import  = 90  # keywords are not used as variables\n",
    "import"
   ]
  },
  {
   "cell_type": "code",
   "execution_count": 51,
   "id": "816f5a02-2441-442d-913a-535fba03d9ab",
   "metadata": {},
   "outputs": [
    {
     "data": {
      "text/plain": [
       "True"
      ]
     },
     "execution_count": 51,
     "metadata": {},
     "output_type": "execute_result"
    }
   ],
   "source": [
    "v = True\n",
    "v"
   ]
  },
  {
   "cell_type": "code",
   "execution_count": 52,
   "id": "6d57e113-fc5f-4107-a1d7-4ea8dc8f99b5",
   "metadata": {},
   "outputs": [
    {
     "data": {
      "text/plain": [
       "1"
      ]
     },
     "execution_count": 52,
     "metadata": {},
     "output_type": "execute_result"
    }
   ],
   "source": [
    "int(v)"
   ]
  },
  {
   "cell_type": "code",
   "execution_count": 53,
   "id": "2bf42eff-5271-4489-b959-e525b5b08ecc",
   "metadata": {},
   "outputs": [
    {
     "data": {
      "text/plain": [
       "1.0"
      ]
     },
     "execution_count": 53,
     "metadata": {},
     "output_type": "execute_result"
    }
   ],
   "source": [
    "float(v)"
   ]
  },
  {
   "cell_type": "code",
   "execution_count": 54,
   "id": "176d6529-a7e1-4add-83f0-7f93ac60fac2",
   "metadata": {},
   "outputs": [
    {
     "data": {
      "text/plain": [
       "(1+0j)"
      ]
     },
     "execution_count": 54,
     "metadata": {},
     "output_type": "execute_result"
    }
   ],
   "source": [
    "complex(v)"
   ]
  },
  {
   "cell_type": "code",
   "execution_count": 55,
   "id": "5454ca89-726e-42f9-aaf8-aea0a26a148c",
   "metadata": {},
   "outputs": [
    {
     "data": {
      "text/plain": [
       "True"
      ]
     },
     "execution_count": 55,
     "metadata": {},
     "output_type": "execute_result"
    }
   ],
   "source": [
    "bool(v)"
   ]
  },
  {
   "cell_type": "code",
   "execution_count": 56,
   "id": "0e1800c5-a030-4f6e-9f32-953dc36a5f4e",
   "metadata": {},
   "outputs": [],
   "source": [
    "''' For\n",
    "muliple line \n",
    "comment \n",
    "we use '''  # either we can use ''' and ''' or \"\"\" and \"\"\"\n",
    "v =30"
   ]
  },
  {
   "cell_type": "code",
   "execution_count": 57,
   "id": "f98cc70e-c949-4cd1-a0a5-a4eaa1492579",
   "metadata": {},
   "outputs": [
    {
     "name": "stdout",
     "output_type": "stream",
     "text": [
      "20\n",
      "10.3\n",
      "sai\n"
     ]
    }
   ],
   "source": [
    "p,q,r = 20,10.30,'sai'\n",
    "print(p)\n",
    "print(q)\n",
    "print(r)"
   ]
  },
  {
   "cell_type": "code",
   "execution_count": 58,
   "id": "e2deeb9e-a2f7-4a3e-b7ad-ef4464e72e55",
   "metadata": {},
   "outputs": [
    {
     "data": {
      "text/plain": [
       "(20, 10.3, 'sai')"
      ]
     },
     "execution_count": 58,
     "metadata": {},
     "output_type": "execute_result"
    }
   ],
   "source": [
    "p,q,r"
   ]
  },
  {
   "cell_type": "code",
   "execution_count": 59,
   "id": "78ab53d8-994e-4d5e-9d29-20c505810738",
   "metadata": {},
   "outputs": [
    {
     "data": {
      "text/plain": [
       "(20, 2365937232016, '0x226dce1a8b0')"
      ]
     },
     "execution_count": 59,
     "metadata": {},
     "output_type": "execute_result"
    }
   ],
   "source": [
    "p,id(q),hex(id(r))"
   ]
  },
  {
   "cell_type": "code",
   "execution_count": 75,
   "id": "fdf88380-ba8d-4d0f-b70a-66c3477008e2",
   "metadata": {},
   "outputs": [
    {
     "name": "stdout",
     "output_type": "stream",
     "text": [
      "32\n"
     ]
    }
   ],
   "source": [
    "v = 12+14j\n",
    "import sys\n",
    "print(sys.getsizeof(v))  # shows size of dataobject based on datatype it will vary\n",
    "''' for integer 28\n",
    "for float 24\n",
    "for string 48\n",
    "for complex 32\n",
    "for bool also 28 as integer"
   ]
  },
  {
   "cell_type": "code",
   "execution_count": 80,
   "id": "825929db-d6d1-42ed-aaa9-520bafe2b4db",
   "metadata": {},
   "outputs": [
    {
     "name": "stdout",
     "output_type": "stream",
     "text": [
      "28\n"
     ]
    }
   ],
   "source": [
    "v1 = True\n",
    "type(v)\n",
    "print(sys.getsizeof(v))"
   ]
  },
  {
   "cell_type": "code",
   "execution_count": 98,
   "id": "416903cf-e123-42ab-a377-cb10fc8bf3c9",
   "metadata": {},
   "outputs": [
    {
     "name": "stdout",
     "output_type": "stream",
     "text": [
      "(12+34j) is  <class 'complex'>  or nt  True\n"
     ]
    }
   ],
   "source": [
    "v1 = 12+34J\n",
    "print(v1,\"is \", type(v1), \" or nt \", isinstance(v1, type(v1)))"
   ]
  },
  {
   "cell_type": "code",
   "execution_count": 89,
   "id": "8300f6bf-0153-415e-9915-30e3d380f70a",
   "metadata": {},
   "outputs": [
    {
     "data": {
      "text/plain": [
       "28"
      ]
     },
     "execution_count": 89,
     "metadata": {},
     "output_type": "execute_result"
    }
   ],
   "source": [
    "sys.getsizeof(int())"
   ]
  },
  {
   "cell_type": "code",
   "execution_count": 90,
   "id": "2f3f9dc2-94b2-41cd-af85-dce9a6073bab",
   "metadata": {},
   "outputs": [
    {
     "data": {
      "text/plain": [
       "True"
      ]
     },
     "execution_count": 90,
     "metadata": {},
     "output_type": "execute_result"
    }
   ],
   "source": [
    "b = True\n",
    "isinstance(b,bool)\n"
   ]
  },
  {
   "cell_type": "code",
   "execution_count": 94,
   "id": "480d8524-126b-4fdb-9536-6d3925af82cb",
   "metadata": {},
   "outputs": [
    {
     "data": {
      "text/plain": [
       "False"
      ]
     },
     "execution_count": 94,
     "metadata": {},
     "output_type": "execute_result"
    }
   ],
   "source": [
    "b = 12+34J\n",
    "isinstance(b,bool)"
   ]
  },
  {
   "cell_type": "code",
   "execution_count": 104,
   "id": "ff77a8cf-90b7-4535-ab16-70ec2e1162ff",
   "metadata": {},
   "outputs": [
    {
     "name": "stdout",
     "output_type": "stream",
     "text": [
      "Hello\n",
      "                  Saipriya\n"
     ]
    }
   ],
   "source": [
    "m = '''Hello\n",
    "                  Saipriya'''\n",
    "print(m)"
   ]
  },
  {
   "cell_type": "code",
   "execution_count": 105,
   "id": "6eb0982a-714d-486c-b003-246cfd932535",
   "metadata": {},
   "outputs": [
    {
     "name": "stdout",
     "output_type": "stream",
     "text": [
      "Hello\n",
      "                  Saipriya\n"
     ]
    }
   ],
   "source": [
    "m = \"\"\"Hello\n",
    "                  Saipriya\"\"\"\n",
    "print(m)"
   ]
  },
  {
   "cell_type": "code",
   "execution_count": 109,
   "id": "71e09ca4-2ace-4388-999d-bcb04123c29d",
   "metadata": {},
   "outputs": [
    {
     "name": "stdout",
     "output_type": "stream",
     "text": [
      "Monday tuesday wednesday\n"
     ]
    }
   ],
   "source": [
    "m = ('Monday '\n",
    "'tuesday '\n",
    "'wednesday')\n",
    "print(m)\n"
   ]
  },
  {
   "cell_type": "code",
   "execution_count": 110,
   "id": "575b8692-9dc5-4e61-be92-25e77cbe06e8",
   "metadata": {},
   "outputs": [
    {
     "data": {
      "text/plain": [
       "'a'"
      ]
     },
     "execution_count": 110,
     "metadata": {},
     "output_type": "execute_result"
    }
   ],
   "source": [
    "s  ='Hello Saipriya'\n",
    "s[-1]"
   ]
  },
  {
   "cell_type": "code",
   "execution_count": 111,
   "id": "ba00e259-7e0a-4f60-a84a-e68a165bcadc",
   "metadata": {},
   "outputs": [
    {
     "data": {
      "text/plain": [
       "'a'"
      ]
     },
     "execution_count": 111,
     "metadata": {},
     "output_type": "execute_result"
    }
   ],
   "source": [
    "s[len(s)-1]"
   ]
  },
  {
   "cell_type": "code",
   "execution_count": 129,
   "id": "05d5875d-5c37-4c45-bea7-e774c6f9b2d0",
   "metadata": {},
   "outputs": [
    {
     "data": {
      "text/plain": [
       "'Hello World'"
      ]
     },
     "execution_count": 129,
     "metadata": {},
     "output_type": "execute_result"
    }
   ],
   "source": [
    "s  ='Hello World'\n",
    "s"
   ]
  },
  {
   "cell_type": "code",
   "execution_count": 116,
   "id": "863efa42-b82e-475c-9c29-5da16f4db616",
   "metadata": {},
   "outputs": [
    {
     "data": {
      "text/plain": [
       "'llo S'"
      ]
     },
     "execution_count": 116,
     "metadata": {},
     "output_type": "execute_result"
    }
   ],
   "source": [
    "s[2:7]"
   ]
  },
  {
   "cell_type": "code",
   "execution_count": 118,
   "id": "fe745d40-3f55-415e-9afa-1d5c326c3a88",
   "metadata": {},
   "outputs": [
    {
     "data": {
      "text/plain": [
       "'HlSpy'"
      ]
     },
     "execution_count": 118,
     "metadata": {},
     "output_type": "execute_result"
    }
   ],
   "source": [
    "s[::3]"
   ]
  },
  {
   "cell_type": "code",
   "execution_count": 130,
   "id": "498d2305-d571-430c-930e-67ee6801d953",
   "metadata": {},
   "outputs": [
    {
     "data": {
      "text/plain": [
       "'dlroW olleH'"
      ]
     },
     "execution_count": 130,
     "metadata": {},
     "output_type": "execute_result"
    }
   ],
   "source": [
    "s[::-1] # to print reverse"
   ]
  },
  {
   "cell_type": "code",
   "execution_count": 131,
   "id": "35a04e26-3e64-424d-b2ab-0b3e0695092d",
   "metadata": {},
   "outputs": [
    {
     "data": {
      "text/plain": [
       "'drWolH'"
      ]
     },
     "execution_count": 131,
     "metadata": {},
     "output_type": "execute_result"
    }
   ],
   "source": [
    "s[::-2]"
   ]
  },
  {
   "cell_type": "code",
   "execution_count": 133,
   "id": "cd517ed6-b3f1-4150-81fe-af73d1e191cc",
   "metadata": {},
   "outputs": [
    {
     "ename": "NameError",
     "evalue": "name 's' is not defined",
     "output_type": "error",
     "traceback": [
      "\u001b[1;31m---------------------------------------------------------------------------\u001b[0m",
      "\u001b[1;31mNameError\u001b[0m                                 Traceback (most recent call last)",
      "Cell \u001b[1;32mIn[133], line 2\u001b[0m\n\u001b[0;32m      1\u001b[0m \u001b[38;5;28;01mdel\u001b[39;00m s\n\u001b[1;32m----> 2\u001b[0m s\n",
      "\u001b[1;31mNameError\u001b[0m: name 's' is not defined"
     ]
    }
   ],
   "source": [
    "del s\n",
    "s"
   ]
  },
  {
   "cell_type": "code",
   "execution_count": 137,
   "id": "4100f6c7-018c-4451-ad22-32c3d9670a6d",
   "metadata": {},
   "outputs": [
    {
     "name": "stdout",
     "output_type": "stream",
     "text": [
      "hello sai\n"
     ]
    }
   ],
   "source": [
    "s1 = 'hello '\n",
    "s2 = 'sai'\n",
    "s = s1+ s2\n",
    "print(s)\n"
   ]
  },
  {
   "cell_type": "code",
   "execution_count": 141,
   "id": "ce0babca-4e2d-4a0c-be93-fed3e70a1085",
   "metadata": {},
   "outputs": [
    {
     "data": {
      "text/plain": [
       "23.0"
      ]
     },
     "execution_count": 141,
     "metadata": {},
     "output_type": "execute_result"
    }
   ],
   "source": [
    "s = '23'\n",
    "type(s)\n",
    "float('23')\n"
   ]
  },
  {
   "cell_type": "code",
   "execution_count": 1,
   "id": "b106288c-e0e0-458c-b037-9cf2aafb0010",
   "metadata": {},
   "outputs": [
    {
     "name": "stdout",
     "output_type": "stream",
     "text": [
      "4\n"
     ]
    }
   ],
   "source": [
    "print(True*4)"
   ]
  },
  {
   "cell_type": "code",
   "execution_count": 5,
   "id": "5ceb010a-5fb2-4446-afe6-57629598fd78",
   "metadata": {},
   "outputs": [
    {
     "name": "stdout",
     "output_type": "stream",
     "text": [
      "(7,)\n"
     ]
    },
    {
     "data": {
      "text/plain": [
       "tuple"
      ]
     },
     "execution_count": 5,
     "metadata": {},
     "output_type": "execute_result"
    }
   ],
   "source": [
    "poll_data = 7,\n",
    "print(poll_data)\n",
    "type(poll_data)"
   ]
  },
  {
   "cell_type": "code",
   "execution_count": 9,
   "id": "6270407e-6fbb-4ecb-a985-59d236cd9668",
   "metadata": {},
   "outputs": [
    {
     "name": "stdout",
     "output_type": "stream",
     "text": [
      "{0, 1, 2, 3, 4, 5, 6, 7, 8}\n",
      "[0, 1, 2, 3, 4, 5, 6, 7, 8]\n",
      "(0, 1, 2, 3, 4, 5, 6, 7, 8)\n"
     ]
    }
   ],
   "source": [
    "print(set(range(9)))\n",
    "print(list(range(9)))\n",
    "print(tuple(range(9)))\n"
   ]
  },
  {
   "cell_type": "code",
   "execution_count": 18,
   "id": "148496e7-62ec-4176-b3c1-280c6f4d8152",
   "metadata": {},
   "outputs": [
    {
     "data": {
      "text/plain": [
       "dict"
      ]
     },
     "execution_count": 18,
     "metadata": {},
     "output_type": "execute_result"
    }
   ],
   "source": [
    "o_data = {}\n",
    "type(o_data)"
   ]
  },
  {
   "cell_type": "code",
   "execution_count": 20,
   "id": "665b5e1e-309e-4902-910e-211337646102",
   "metadata": {},
   "outputs": [
    {
     "name": "stdout",
     "output_type": "stream",
     "text": [
      "3.0\n",
      "6.0\n"
     ]
    }
   ],
   "source": [
    "c = 3 +6J\n",
    "print(c.real)\n",
    "print(c.imag)"
   ]
  },
  {
   "cell_type": "code",
   "execution_count": 21,
   "id": "f416a35d-3717-4cc3-b65b-89a1852bc1ab",
   "metadata": {},
   "outputs": [
    {
     "data": {
      "text/plain": [
       "float"
      ]
     },
     "execution_count": 21,
     "metadata": {},
     "output_type": "execute_result"
    }
   ],
   "source": [
    "type(c.real)"
   ]
  },
  {
   "cell_type": "code",
   "execution_count": 22,
   "id": "823d4d24-8522-495d-bb5b-ea4c4d5747c9",
   "metadata": {},
   "outputs": [
    {
     "name": "stdout",
     "output_type": "stream",
     "text": [
      "(7+15j)\n",
      "(-1-3j)\n"
     ]
    }
   ],
   "source": [
    "d = 4+9J\n",
    "print(c+d)\n",
    "print(c-d)"
   ]
  },
  {
   "cell_type": "code",
   "execution_count": 23,
   "id": "8ec934d0-e24b-4f33-ae01-fac64ff5c802",
   "metadata": {},
   "outputs": [
    {
     "data": {
      "text/plain": [
       "6.708203932499369"
      ]
     },
     "execution_count": 23,
     "metadata": {},
     "output_type": "execute_result"
    }
   ],
   "source": [
    "abs(c)"
   ]
  },
  {
   "cell_type": "code",
   "execution_count": 24,
   "id": "53e7b1ad-1118-45f3-ada7-2dfb58161424",
   "metadata": {},
   "outputs": [
    {
     "name": "stdout",
     "output_type": "stream",
     "text": [
      "6.708203932499369\n"
     ]
    }
   ],
   "source": [
    "print(abs(c))"
   ]
  },
  {
   "cell_type": "code",
   "execution_count": 29,
   "id": "951b92be-2e52-4ede-85f6-6ab790d22bda",
   "metadata": {},
   "outputs": [
    {
     "name": "stdout",
     "output_type": "stream",
     "text": [
      "(3+6j)\n",
      "(3-6j)\n",
      "(4+9j)\n",
      "(4-9j)\n"
     ]
    }
   ],
   "source": [
    "print(c)\n",
    "print(c.conjugate())\n",
    "print(d)\n",
    "print(d.conjugate())"
   ]
  },
  {
   "cell_type": "code",
   "execution_count": 31,
   "id": "61c2ef1a-3289-4b5f-a28c-03124adf6a83",
   "metadata": {},
   "outputs": [
    {
     "name": "stdout",
     "output_type": "stream",
     "text": [
      "1.1071487177940904\n"
     ]
    }
   ],
   "source": [
    "import cmath\n",
    "print(cmath.phase(c))"
   ]
  },
  {
   "cell_type": "code",
   "execution_count": 32,
   "id": "bb9c6324-37de-4b18-9883-86e14c90e1e0",
   "metadata": {},
   "outputs": [
    {
     "name": "stdout",
     "output_type": "stream",
     "text": [
      "(6.708203932499369, 1.1071487177940904)\n"
     ]
    }
   ],
   "source": [
    "print(cmath.polar(c))"
   ]
  },
  {
   "cell_type": "code",
   "execution_count": 33,
   "id": "6d90b391-7f98-4869-912d-efacadfa4b08",
   "metadata": {},
   "outputs": [
    {
     "name": "stdout",
     "output_type": "stream",
     "text": [
      "(2.2032026611843234+1.3616541287161306j)\n"
     ]
    }
   ],
   "source": [
    "print(cmath.sqrt(c))"
   ]
  },
  {
   "cell_type": "code",
   "execution_count": null,
   "id": "d47b0f6c-1f08-4d6f-aa0e-20e6cd1535f1",
   "metadata": {},
   "outputs": [],
   "source": []
  }
 ],
 "metadata": {
  "kernelspec": {
   "display_name": "Python 3 (ipykernel)",
   "language": "python",
   "name": "python3"
  },
  "language_info": {
   "codemirror_mode": {
    "name": "ipython",
    "version": 3
   },
   "file_extension": ".py",
   "mimetype": "text/x-python",
   "name": "python",
   "nbconvert_exporter": "python",
   "pygments_lexer": "ipython3",
   "version": "3.12.7"
  }
 },
 "nbformat": 4,
 "nbformat_minor": 5
}
