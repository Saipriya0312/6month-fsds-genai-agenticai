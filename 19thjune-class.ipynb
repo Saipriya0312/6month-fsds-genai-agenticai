{
 "cells": [
  {
   "cell_type": "code",
   "execution_count": 1,
   "id": "c91f6e35-6c11-4dff-9107-964c6a6f975c",
   "metadata": {},
   "outputs": [
    {
     "data": {
      "text/plain": [
       "32"
      ]
     },
     "execution_count": 1,
     "metadata": {},
     "output_type": "execute_result"
    }
   ],
   "source": [
    "i = 32\n",
    "i"
   ]
  },
  {
   "cell_type": "code",
   "execution_count": 2,
   "id": "4e30c491-8fe0-4b81-9b84-7128af159d8a",
   "metadata": {},
   "outputs": [
    {
     "data": {
      "text/plain": [
       "int"
      ]
     },
     "execution_count": 2,
     "metadata": {},
     "output_type": "execute_result"
    }
   ],
   "source": [
    "type(i)"
   ]
  },
  {
   "cell_type": "code",
   "execution_count": 3,
   "id": "05c106be-36fd-41d2-852e-11a24b246c23",
   "metadata": {},
   "outputs": [
    {
     "data": {
      "text/plain": [
       "(3+6j)"
      ]
     },
     "execution_count": 3,
     "metadata": {},
     "output_type": "execute_result"
    }
   ],
   "source": [
    "i = 3+6j\n",
    "i"
   ]
  },
  {
   "cell_type": "code",
   "execution_count": 4,
   "id": "b7b4c073-204b-42ff-bd87-3da54feec6cb",
   "metadata": {},
   "outputs": [
    {
     "data": {
      "text/plain": [
       "complex"
      ]
     },
     "execution_count": 4,
     "metadata": {},
     "output_type": "execute_result"
    }
   ],
   "source": [
    "type(i)"
   ]
  },
  {
   "cell_type": "code",
   "execution_count": 5,
   "id": "67689c16-293f-4c96-8a3a-908f3b368ff6",
   "metadata": {},
   "outputs": [
    {
     "data": {
      "text/plain": [
       "101.2"
      ]
     },
     "execution_count": 5,
     "metadata": {},
     "output_type": "execute_result"
    }
   ],
   "source": [
    "j = 101.20\n",
    "j\n"
   ]
  },
  {
   "cell_type": "code",
   "execution_count": 6,
   "id": "ed54f3cd-8d06-44e1-a13c-ccf5d0718708",
   "metadata": {},
   "outputs": [
    {
     "data": {
      "text/plain": [
       "float"
      ]
     },
     "execution_count": 6,
     "metadata": {},
     "output_type": "execute_result"
    }
   ],
   "source": [
    "type(j)"
   ]
  },
  {
   "cell_type": "code",
   "execution_count": 8,
   "id": "7fa2ca27-fd70-43aa-8226-9c05c2dcd5de",
   "metadata": {},
   "outputs": [
    {
     "data": {
      "text/plain": [
       "1.0"
      ]
     },
     "execution_count": 8,
     "metadata": {},
     "output_type": "execute_result"
    }
   ],
   "source": [
    "f = 1e0\n",
    "f"
   ]
  },
  {
   "cell_type": "code",
   "execution_count": 9,
   "id": "0710267e-2375-4ca0-ad37-af45265f7579",
   "metadata": {},
   "outputs": [
    {
     "data": {
      "text/plain": [
       "10.0"
      ]
     },
     "execution_count": 9,
     "metadata": {},
     "output_type": "execute_result"
    }
   ],
   "source": [
    "f = 1e1\n",
    "f"
   ]
  },
  {
   "cell_type": "code",
   "execution_count": 10,
   "id": "f3c510b7-2352-4cdc-89d7-1c7e463fd9b3",
   "metadata": {},
   "outputs": [
    {
     "data": {
      "text/plain": [
       "2000.0"
      ]
     },
     "execution_count": 10,
     "metadata": {},
     "output_type": "execute_result"
    }
   ],
   "source": [
    "f = 2E3\n",
    "f"
   ]
  },
  {
   "cell_type": "code",
   "execution_count": 11,
   "id": "01f59ef1-718d-4cba-b100-8268568b61ed",
   "metadata": {},
   "outputs": [
    {
     "data": {
      "text/plain": [
       "300.0"
      ]
     },
     "execution_count": 11,
     "metadata": {},
     "output_type": "execute_result"
    }
   ],
   "source": [
    "f = 3e2\n",
    "f\n"
   ]
  },
  {
   "cell_type": "code",
   "execution_count": 14,
   "id": "0d4f8758-8812-4a2e-a3ae-8e1339a2f247",
   "metadata": {},
   "outputs": [
    {
     "data": {
      "text/plain": [
       "1600"
      ]
     },
     "execution_count": 14,
     "metadata": {},
     "output_type": "execute_result"
    }
   ],
   "source": [
    "a= 20\n",
    "b =80\n",
    "a+b\n",
    "a-b\n",
    "a*b\n"
   ]
  },
  {
   "cell_type": "code",
   "execution_count": 15,
   "id": "081fc55e-ac8c-4503-b69c-8abd35d45200",
   "metadata": {},
   "outputs": [
    {
     "name": "stdout",
     "output_type": "stream",
     "text": [
      "100\n",
      "-60\n",
      "1600\n",
      "0.25\n"
     ]
    }
   ],
   "source": [
    "print(a+b)\n",
    "print(a-b)\n",
    "print(a*b)\n",
    "print(a/b)"
   ]
  },
  {
   "cell_type": "code",
   "execution_count": 16,
   "id": "2f0a56fe-db0a-4451-9239-b7c695663d67",
   "metadata": {},
   "outputs": [
    {
     "name": "stdout",
     "output_type": "stream",
     "text": [
      "10 20\n"
     ]
    }
   ],
   "source": [
    "print(10,20)"
   ]
  },
  {
   "cell_type": "code",
   "execution_count": 18,
   "id": "caa44ccd-4cc7-44c4-b54d-98aa5c801290",
   "metadata": {},
   "outputs": [
    {
     "name": "stdout",
     "output_type": "stream",
     "text": [
      "The addition of 20 and 30 is 50\n"
     ]
    }
   ],
   "source": [
    "n1 = 20\n",
    "n2 = 30\n",
    "add = n1+n2\n",
    "print('The addition of',n1,'and',n2,'is',add)"
   ]
  },
  {
   "cell_type": "code",
   "execution_count": 19,
   "id": "161fd361-8fbd-40cb-ba98-265dbd1ab2b3",
   "metadata": {},
   "outputs": [
    {
     "name": "stdout",
     "output_type": "stream",
     "text": [
      "30\n"
     ]
    }
   ],
   "source": [
    " print(n2)"
   ]
  },
  {
   "cell_type": "code",
   "execution_count": 21,
   "id": "ba186885-7579-40e8-82c7-23791b84ae29",
   "metadata": {},
   "outputs": [
    {
     "ename": "SyntaxError",
     "evalue": "incomplete input (490845533.py, line 4)",
     "output_type": "error",
     "traceback": [
      "\u001b[1;36m  Cell \u001b[1;32mIn[21], line 4\u001b[1;36m\u001b[0m\n\u001b[1;33m    print('The additioon of',{},'and',{},'is',{}, format(n1,n2,add)\u001b[0m\n\u001b[1;37m                                                                   ^\u001b[0m\n\u001b[1;31mSyntaxError\u001b[0m\u001b[1;31m:\u001b[0m incomplete input\n"
     ]
    }
   ],
   "source": [
    "n1 = 20\n",
    "n2 = 30\n",
    "add = n1+n2\n",
    "print('The additioon of',{},'and',{},'is',{}, format(n1,n2,add)"
   ]
  },
  {
   "cell_type": "code",
   "execution_count": 22,
   "id": "2290a328-ab08-4091-b1a0-0de0ab69167c",
   "metadata": {},
   "outputs": [
    {
     "data": {
      "text/plain": [
       "0"
      ]
     },
     "execution_count": 22,
     "metadata": {},
     "output_type": "execute_result"
    }
   ],
   "source": [
    "a=  0\n",
    "a\n"
   ]
  },
  {
   "cell_type": "code",
   "execution_count": null,
   "id": "3bb659d5-b79f-41e6-87e6-3a7c78df3c6c",
   "metadata": {},
   "outputs": [],
   "source": []
  }
 ],
 "metadata": {
  "kernelspec": {
   "display_name": "Python [conda env:base] *",
   "language": "python",
   "name": "conda-base-py"
  },
  "language_info": {
   "codemirror_mode": {
    "name": "ipython",
    "version": 3
   },
   "file_extension": ".py",
   "mimetype": "text/x-python",
   "name": "python",
   "nbconvert_exporter": "python",
   "pygments_lexer": "ipython3",
   "version": "3.12.7"
  }
 },
 "nbformat": 4,
 "nbformat_minor": 5
}
