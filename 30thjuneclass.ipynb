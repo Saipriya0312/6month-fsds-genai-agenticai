{
 "cells": [
  {
   "cell_type": "code",
   "execution_count": 1,
   "id": "06d26132-f026-480e-a832-e861cd0a721f",
   "metadata": {},
   "outputs": [
    {
     "ename": "NameError",
     "evalue": "name 'prog' is not defined",
     "output_type": "error",
     "traceback": [
      "\u001b[1;31m---------------------------------------------------------------------------\u001b[0m",
      "\u001b[1;31mNameError\u001b[0m                                 Traceback (most recent call last)",
      "Cell \u001b[1;32mIn[1], line 1\u001b[0m\n\u001b[1;32m----> 1\u001b[0m prog[\u001b[38;5;124m'\u001b[39m\u001b[38;5;124mwelcome\u001b[39m\u001b[38;5;124m'\u001b[39m]\n",
      "\u001b[1;31mNameError\u001b[0m: name 'prog' is not defined"
     ]
    }
   ],
   "source": [
    "prog['welcome']"
   ]
  },
  {
   "cell_type": "code",
   "execution_count": 3,
   "id": "446ef6c3-0ed9-4a76-96c8-c192ef808872",
   "metadata": {},
   "outputs": [
    {
     "name": "stdout",
     "output_type": "stream",
     "text": [
      "Welcome to Python 3.12's help utility! If this is your first time using\n",
      "Python, you should definitely check out the tutorial at\n",
      "https://docs.python.org/3.12/tutorial/.\n",
      "\n",
      "Enter the name of any module, keyword, or topic to get help on writing\n",
      "Python programs and using Python modules.  To get a list of available\n",
      "modules, keywords, symbols, or topics, enter \"modules\", \"keywords\",\n",
      "\"symbols\", or \"topics\".\n",
      "\n",
      "Each module also comes with a one-line summary of what it does; to list\n",
      "the modules whose name or summary contain a given string such as \"spam\",\n",
      "enter \"modules spam\".\n",
      "\n",
      "To quit this help utility and return to the interpreter,\n",
      "enter \"q\" or \"quit\".\n",
      "\n",
      "\n",
      "You are now leaving help and returning to the Python interpreter.\n",
      "If you want to ask for help on a particular object directly from the\n",
      "interpreter, you can type \"help(object)\".  Executing \"help('string')\"\n",
      "has the same effect as typing a particular string at the help> prompt.\n"
     ]
    }
   ],
   "source": [
    "help()"
   ]
  },
  {
   "cell_type": "code",
   "execution_count": null,
   "id": "fa62f866-5244-4829-87b8-10a3e2c23692",
   "metadata": {},
   "outputs": [],
   "source": [
    "help(list)"
   ]
  },
  {
   "cell_type": "code",
   "execution_count": 4,
   "id": "c38025f3-9ad5-4c8e-95ab-a21a2526c5b4",
   "metadata": {},
   "outputs": [
    {
     "ename": "SyntaxError",
     "evalue": "invalid syntax (149514604.py, line 2)",
     "output_type": "error",
     "traceback": [
      "\u001b[1;36m  Cell \u001b[1;32mIn[4], line 2\u001b[1;36m\u001b[0m\n\u001b[1;33m    x // = 3\u001b[0m\n\u001b[1;37m         ^\u001b[0m\n\u001b[1;31mSyntaxError\u001b[0m\u001b[1;31m:\u001b[0m invalid syntax\n"
     ]
    }
   ],
   "source": [
    "x =12\n",
    "x // = 3"
   ]
  },
  {
   "cell_type": "code",
   "execution_count": 5,
   "id": "fee59766-52f5-453f-bf5b-f7eaa1f50468",
   "metadata": {},
   "outputs": [
    {
     "ename": "SyntaxError",
     "evalue": "unexpected character after line continuation character (3946735649.py, line 1)",
     "output_type": "error",
     "traceback": [
      "\u001b[1;36m  Cell \u001b[1;32mIn[5], line 1\u001b[1;36m\u001b[0m\n\u001b[1;33m    x\\\\ =3\u001b[0m\n\u001b[1;37m      ^\u001b[0m\n\u001b[1;31mSyntaxError\u001b[0m\u001b[1;31m:\u001b[0m unexpected character after line continuation character\n"
     ]
    }
   ],
   "source": [
    "x\\\\ =3"
   ]
  },
  {
   "cell_type": "code",
   "execution_count": 6,
   "id": "769191df-2245-4767-8b91-e84c444a135e",
   "metadata": {},
   "outputs": [
    {
     "data": {
      "text/plain": [
       "2"
      ]
     },
     "execution_count": 6,
     "metadata": {},
     "output_type": "execute_result"
    }
   ],
   "source": [
    "x = 2\n",
    "x"
   ]
  },
  {
   "cell_type": "code",
   "execution_count": 9,
   "id": "651973aa-fa3c-4e77-ae86-7232fd8fb7d1",
   "metadata": {},
   "outputs": [
    {
     "ename": "SyntaxError",
     "evalue": "invalid syntax (882126746.py, line 1)",
     "output_type": "error",
     "traceback": [
      "\u001b[1;36m  Cell \u001b[1;32mIn[9], line 1\u001b[1;36m\u001b[0m\n\u001b[1;33m    y + = x\u001b[0m\n\u001b[1;37m        ^\u001b[0m\n\u001b[1;31mSyntaxError\u001b[0m\u001b[1;31m:\u001b[0m invalid syntax\n"
     ]
    }
   ],
   "source": [
    "y + = x"
   ]
  },
  {
   "cell_type": "code",
   "execution_count": 10,
   "id": "4d5517ed-87f1-4103-a0fb-911e9d22b9af",
   "metadata": {},
   "outputs": [],
   "source": [
    "x = 4"
   ]
  },
  {
   "cell_type": "code",
   "execution_count": 13,
   "id": "13b85fb4-fbf4-4c74-b381-718aa98f8498",
   "metadata": {},
   "outputs": [
    {
     "data": {
      "text/plain": [
       "16"
      ]
     },
     "execution_count": 13,
     "metadata": {},
     "output_type": "execute_result"
    }
   ],
   "source": [
    "x += x\n",
    "x"
   ]
  },
  {
   "cell_type": "code",
   "execution_count": 14,
   "id": "39341c02-28fb-49d3-918f-62079d4ad531",
   "metadata": {},
   "outputs": [],
   "source": [
    "v = 5"
   ]
  },
  {
   "cell_type": "code",
   "execution_count": 15,
   "id": "299502be-ac92-4905-8928-813b453c2404",
   "metadata": {},
   "outputs": [],
   "source": [
    "v+= v"
   ]
  },
  {
   "cell_type": "code",
   "execution_count": 16,
   "id": "fe91e553-b4a4-4700-9120-65105b69f071",
   "metadata": {},
   "outputs": [
    {
     "data": {
      "text/plain": [
       "10"
      ]
     },
     "execution_count": 16,
     "metadata": {},
     "output_type": "execute_result"
    }
   ],
   "source": [
    "v"
   ]
  },
  {
   "cell_type": "code",
   "execution_count": 17,
   "id": "93a46de8-a3b2-4171-ae5a-0510a57bb972",
   "metadata": {},
   "outputs": [],
   "source": [
    "v = 25\n",
    "v //= v"
   ]
  },
  {
   "cell_type": "code",
   "execution_count": 19,
   "id": "b10bb57f-7fcd-4060-be8c-02d05649650f",
   "metadata": {},
   "outputs": [
    {
     "data": {
      "text/plain": [
       "100"
      ]
     },
     "execution_count": 19,
     "metadata": {},
     "output_type": "execute_result"
    }
   ],
   "source": [
    "v = 100\n",
    "v"
   ]
  },
  {
   "cell_type": "code",
   "execution_count": 21,
   "id": "35e02734-724a-47cf-9e5e-c32560a0acd3",
   "metadata": {},
   "outputs": [
    {
     "ename": "ZeroDivisionError",
     "evalue": "integer modulo by zero",
     "output_type": "error",
     "traceback": [
      "\u001b[1;31m---------------------------------------------------------------------------\u001b[0m",
      "\u001b[1;31mZeroDivisionError\u001b[0m                         Traceback (most recent call last)",
      "Cell \u001b[1;32mIn[21], line 1\u001b[0m\n\u001b[1;32m----> 1\u001b[0m v \u001b[38;5;241m%\u001b[39m\u001b[38;5;241m=\u001b[39m v\n\u001b[0;32m      2\u001b[0m v\n",
      "\u001b[1;31mZeroDivisionError\u001b[0m: integer modulo by zero"
     ]
    }
   ],
   "source": [
    "v %= v\n",
    "v"
   ]
  },
  {
   "cell_type": "markdown",
   "id": "1d17c22f-2614-455f-b3b0-010a7a8c5d8a",
   "metadata": {},
   "source": [
    "# Range"
   ]
  },
  {
   "cell_type": "code",
   "execution_count": 1,
   "id": "fad50067-0c12-4a34-9362-dd21e1f349a0",
   "metadata": {},
   "outputs": [
    {
     "data": {
      "text/plain": [
       "range(0, 10)"
      ]
     },
     "execution_count": 1,
     "metadata": {},
     "output_type": "execute_result"
    }
   ],
   "source": [
    " range(10)"
   ]
  },
  {
   "cell_type": "code",
   "execution_count": 2,
   "id": "4ee83523-39db-4dbf-9a04-9b12f18613cc",
   "metadata": {},
   "outputs": [
    {
     "name": "stdout",
     "output_type": "stream",
     "text": [
      "range(0, 10)\n"
     ]
    }
   ],
   "source": [
    "print(range(10))"
   ]
  },
  {
   "cell_type": "code",
   "execution_count": 3,
   "id": "915549cf-d463-4932-a200-adf856fce24f",
   "metadata": {},
   "outputs": [
    {
     "data": {
      "text/plain": [
       "[0, 1, 2, 3, 4, 5, 6, 7, 8, 9]"
      ]
     },
     "execution_count": 3,
     "metadata": {},
     "output_type": "execute_result"
    }
   ],
   "source": [
    "list(range(10))"
   ]
  },
  {
   "cell_type": "code",
   "execution_count": 10,
   "id": "dc899105-a2c2-470a-ac1e-4ce2d1c01cf4",
   "metadata": {},
   "outputs": [
    {
     "data": {
      "text/plain": [
       "[0, 1, 2, 3, 4, 5, 6, 7, 8, 9]"
      ]
     },
     "execution_count": 10,
     "metadata": {},
     "output_type": "execute_result"
    }
   ],
   "source": [
    "r = range(10)\n",
    "list(r)"
   ]
  },
  {
   "cell_type": "code",
   "execution_count": 11,
   "id": "810eca3e-ae15-4a74-a239-1073cfd433dd",
   "metadata": {},
   "outputs": [
    {
     "data": {
      "text/plain": [
       "1"
      ]
     },
     "execution_count": 11,
     "metadata": {},
     "output_type": "execute_result"
    }
   ],
   "source": [
    "r.count(1)"
   ]
  },
  {
   "cell_type": "code",
   "execution_count": 12,
   "id": "faf52777-3326-485b-9053-b0c03c4f2ac0",
   "metadata": {},
   "outputs": [
    {
     "data": {
      "text/plain": [
       "5"
      ]
     },
     "execution_count": 12,
     "metadata": {},
     "output_type": "execute_result"
    }
   ],
   "source": [
    "r.index(5)"
   ]
  },
  {
   "cell_type": "code",
   "execution_count": 18,
   "id": "dd91ad0c-5da3-45d4-92f5-caec6c9c0b3f",
   "metadata": {},
   "outputs": [
    {
     "name": "stdout",
     "output_type": "stream",
     "text": [
      "<class 'range'>\n"
     ]
    }
   ],
   "source": [
    "ran = range(20)\n",
    "print(type(ran))\n"
   ]
  },
  {
   "cell_type": "code",
   "execution_count": 20,
   "id": "94c1b371-a954-4d76-87ac-a4306c021f2a",
   "metadata": {},
   "outputs": [
    {
     "data": {
      "text/plain": [
       "[1, 5, 9, 13, 17]"
      ]
     },
     "execution_count": 20,
     "metadata": {},
     "output_type": "execute_result"
    }
   ],
   "source": [
    "list(range(1,20,4))"
   ]
  },
  {
   "cell_type": "code",
   "execution_count": 21,
   "id": "38151692-b369-493b-a7d4-7a63a3a08422",
   "metadata": {},
   "outputs": [
    {
     "ename": "TypeError",
     "evalue": "range expected at most 3 arguments, got 4",
     "output_type": "error",
     "traceback": [
      "\u001b[1;31m---------------------------------------------------------------------------\u001b[0m",
      "\u001b[1;31mTypeError\u001b[0m                                 Traceback (most recent call last)",
      "Cell \u001b[1;32mIn[21], line 1\u001b[0m\n\u001b[1;32m----> 1\u001b[0m \u001b[38;5;28mlist\u001b[39m(\u001b[38;5;28mrange\u001b[39m(\u001b[38;5;241m0\u001b[39m,\u001b[38;5;241m20\u001b[39m,\u001b[38;5;241m3\u001b[39m,\u001b[38;5;241m5\u001b[39m))\n",
      "\u001b[1;31mTypeError\u001b[0m: range expected at most 3 arguments, got 4"
     ]
    }
   ],
   "source": [
    "list(range(0,20,3,5))"
   ]
  },
  {
   "cell_type": "code",
   "execution_count": 37,
   "id": "12238cd7-4f67-4223-bb5f-89555725e217",
   "metadata": {},
   "outputs": [
    {
     "name": "stdout",
     "output_type": "stream",
     "text": [
      "0\n",
      "sorry\n",
      "2\n",
      "sorry\n",
      "4\n",
      "sorry\n",
      "6\n",
      "sorry\n",
      "8\n",
      "sorry\n",
      "10\n",
      "sorry\n",
      "12\n",
      "sorry\n",
      "14\n",
      "sorry\n",
      "16\n",
      "sorry\n",
      "18\n",
      "sorry\n"
     ]
    }
   ],
   "source": [
    "for i in ran:\n",
    "    if(i % 2 == 0):\n",
    "        print(i)\n",
    "    else:\n",
    "        print(\"sorry\")"
   ]
  },
  {
   "cell_type": "code",
   "execution_count": 34,
   "id": "9732f4f4-88a7-4ad4-abe4-68c43b71c52b",
   "metadata": {},
   "outputs": [
    {
     "name": "stdout",
     "output_type": "stream",
     "text": [
      "C:\n",
      "it\n",
      "ew\n"
     ]
    }
   ],
   "source": [
    "print(\"C:\\nit\\new"
   ]
  },
  {
   "cell_type": "code",
   "execution_count": 35,
   "id": "1fd8f0c9-0c76-4935-81c3-48e688da2303",
   "metadata": {},
   "outputs": [
    {
     "name": "stdout",
     "output_type": "stream",
     "text": [
      "C:\\nit\\new\n"
     ]
    }
   ],
   "source": [
    "print(r\"C:\\nit\\new\")"
   ]
  },
  {
   "cell_type": "code",
   "execution_count": 43,
   "id": "623c32c2-9c0e-40a0-9269-82fca1bba88c",
   "metadata": {},
   "outputs": [
    {
     "data": {
      "text/plain": [
       "8"
      ]
     },
     "execution_count": 43,
     "metadata": {},
     "output_type": "execute_result"
    }
   ],
   "source": [
    "ran1 = range(10,20)\n",
    "list(ran1)\n",
    "ran1.index(18)"
   ]
  },
  {
   "cell_type": "code",
   "execution_count": 44,
   "id": "e6a28668-0082-454d-b7cd-32a8335f272c",
   "metadata": {},
   "outputs": [
    {
     "ename": "ValueError",
     "evalue": "20 is not in range",
     "output_type": "error",
     "traceback": [
      "\u001b[1;31m---------------------------------------------------------------------------\u001b[0m",
      "\u001b[1;31mValueError\u001b[0m                                Traceback (most recent call last)",
      "Cell \u001b[1;32mIn[44], line 1\u001b[0m\n\u001b[1;32m----> 1\u001b[0m ran1\u001b[38;5;241m.\u001b[39mindex(\u001b[38;5;241m20\u001b[39m)\n",
      "\u001b[1;31mValueError\u001b[0m: 20 is not in range"
     ]
    }
   ],
   "source": [
    "ran1.index(20)"
   ]
  },
  {
   "cell_type": "code",
   "execution_count": 45,
   "id": "13640f67-35db-4730-acce-bd03067d7239",
   "metadata": {},
   "outputs": [
    {
     "data": {
      "text/plain": [
       "0"
      ]
     },
     "execution_count": 45,
     "metadata": {},
     "output_type": "execute_result"
    }
   ],
   "source": [
    "ran1.count(29)"
   ]
  },
  {
   "cell_type": "code",
   "execution_count": 60,
   "id": "8a9342cc-d56d-4bfe-80f6-f3a4cdc166ad",
   "metadata": {},
   "outputs": [
    {
     "data": {
      "text/plain": [
       "[10, 11, 12, 13, 14, 15, 16, 17, 18, 19]"
      ]
     },
     "execution_count": 60,
     "metadata": {},
     "output_type": "execute_result"
    }
   ],
   "source": [
    "list((ran1))"
   ]
  },
  {
   "cell_type": "code",
   "execution_count": 66,
   "id": "9b1ce16d-5722-4542-b69e-3d1cf5cef93e",
   "metadata": {},
   "outputs": [
    {
     "name": "stdout",
     "output_type": "stream",
     "text": [
      "2\n",
      "3\n",
      "4\n",
      "5\n",
      "6\n",
      "7\n",
      "8\n",
      "9\n"
     ]
    }
   ],
   "source": [
    " for i in range(2, 10):\n",
    "        print(i)\n",
    "    # Output: 2, 3, 4, 5, 6"
   ]
  },
  {
   "cell_type": "code",
   "execution_count": 67,
   "id": "9d61ca5f-b349-47d3-b9e6-5ab4c0b4f9ed",
   "metadata": {},
   "outputs": [
    {
     "name": "stdout",
     "output_type": "stream",
     "text": [
      "10\n",
      "11\n",
      "12\n",
      "13\n",
      "14\n",
      "15\n",
      "16\n",
      "17\n",
      "18\n",
      "19\n",
      "20\n",
      "21\n",
      "22\n",
      "23\n",
      "24\n",
      "25\n",
      "26\n",
      "27\n",
      "28\n",
      "29\n"
     ]
    }
   ],
   "source": [
    "for i in range(10,30):\n",
    "    print(i)"
   ]
  },
  {
   "cell_type": "code",
   "execution_count": null,
   "id": "47afb969-949f-4518-b8ad-0bcd223fcc09",
   "metadata": {},
   "outputs": [],
   "source": []
  }
 ],
 "metadata": {
  "kernelspec": {
   "display_name": "Python 3 (ipykernel)",
   "language": "python",
   "name": "python3"
  },
  "language_info": {
   "codemirror_mode": {
    "name": "ipython",
    "version": 3
   },
   "file_extension": ".py",
   "mimetype": "text/x-python",
   "name": "python",
   "nbconvert_exporter": "python",
   "pygments_lexer": "ipython3",
   "version": "3.12.7"
  }
 },
 "nbformat": 4,
 "nbformat_minor": 5
}
